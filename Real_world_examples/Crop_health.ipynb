{
 "cells": [
  {
   "cell_type": "markdown",
   "metadata": {},
   "source": [
    "# Measuring crop health <img align=\"right\" src=\"../Supplementary_data/DE_Africa_Logo_Stacked_RGB_small.jpg\">\n",
    "\n",
    "* **Products used:** \n",
    "[ls8_usgs_sr_scene](https://explorer.digitalearth.africa/ls8_usgs_sr_scene)"
   ]
  },
  {
   "cell_type": "markdown",
   "metadata": {},
   "source": [
    "## Background\n",
    "While crops are growing, fields may look visually similar.\n",
    "However, health or growth rates from these fields can be quite different, leading to variability and unpredictability in revenue.\n",
    "Identifying underperforming crops can have two benefits:\n",
    "\n",
    "* Ability to scout for disease damage.\n",
    "* Ability to investigate poor performing fields and undertake management action such as soil testing or targeted fertilising to improve yield.\n",
    "\n",
    "### Digital Earth Africa use case\n",
    "Satellite imagery can be used to measure plant health over time and identify any changes in growth patterns between otherwise similar fields.\n",
    "Landsat 8's 30-metre resolution makes it ideal for understanding the health of large fields.\n",
    "\n",
    "The Normalised Difference Vegetation Index (NDVI) describes the difference between visible and near-infrared reflectance of vegetation cover.\n",
    "This index estimates the density of green on an area of land and can be used to track the health and growth of crops as they mature.\n",
    "Comparing the NDVI of two similar planting areas will help to identify any anomalies in growth patterns. \n",
    "\n",
    "## Description\n",
    "In this example, data from Landsat 8 is used to assess crop growing patterns for the last two years.\n",
    "The worked example below takes users through the code required to:\n",
    "\n",
    "1. Create a time series data cube over a farming property.\n",
    "2. Select multiple areas for comparison.\n",
    "3. Create graphs to identify crop performance trends over the last two years.\n",
    "4. Interpret the results.\n",
    "\n",
    "***"
   ]
  },
  {
   "cell_type": "markdown",
   "metadata": {},
   "source": [
    "## Getting started\n",
    "\n",
    "**To run this analysis**, run all the cells in the notebook, starting with the \"Load packages and apps\" cell."
   ]
  },
  {
   "cell_type": "markdown",
   "metadata": {},
   "source": [
    "### Load packages and apps\n",
    "\n",
    "This notebook works via two functions, which are referred to as apps: `load_crophealth_data` and `run_crophealth_app`.\n",
    "The apps allow the majority of the analysis code to be stored in another file, making the notebook easy to use and run.\n",
    "To view the code behind the apps, open the [notebookapp_crophealth.py](../Scripts/notebookapp_crophealth.py) file."
   ]
  },
  {
   "cell_type": "code",
   "execution_count": 1,
   "metadata": {},
   "outputs": [],
   "source": [
    "%matplotlib inline\n",
    "\n",
    "import sys\n",
    "import datacube\n",
    "\n",
    "sys.path.append(\"../Scripts\")\n",
    "from notebookapp_crophealth import load_crophealth_data\n",
    "from notebookapp_crophealth import run_crophealth_app"
   ]
  },
  {
   "cell_type": "markdown",
   "metadata": {},
   "source": [
    "## Load the data\n",
    "The `load_crophealth_data()` command performs several key steps:\n",
    "\n",
    "* identify all available Landsat 8 data in the case-study area over the last two years\n",
    "* remove any bad quality pixels\n",
    "* keep images where more than half of the image contains good quality pixels\n",
    "* calculate the NDVI from the red and near infrared bands\n",
    "* return the collated data for analysis\n",
    "\n",
    "The cleaned and collated data is stored in the `dataset` object.\n",
    "As the command runs, feedback will be provided below the cell, including information on the number of cleaned images loaded the satellite.\n",
    "\n",
    "**Please be patient**.\n",
    "The load is complete when the cell status goes from `[*]` to `[number]`."
   ]
  },
  {
   "cell_type": "code",
   "execution_count": 2,
   "metadata": {},
   "outputs": [
    {
     "name": "stdout",
     "output_type": "stream",
     "text": [
      "Using pixel quality parameters for USGS Collection 1\n",
      "Finding datasets\n",
      "    ls8_usgs_sr_scene\n",
      "Counting good quality pixels for each time step\n",
      "Filtering to 25 out of 38 time steps with at least 50.0% good quality pixels\n",
      "Applying pixel quality/cloud mask\n",
      "Loading 25 time steps\n"
     ]
    }
   ],
   "source": [
    "dataset = load_crophealth_data()"
   ]
  },
  {
   "cell_type": "markdown",
   "metadata": {},
   "source": [
    "## Run the crop health app\n",
    "The `run_crophealth_app()` command launches an interactive map.\n",
    "Drawing polygons within the boundary (which represents the area covered by the loaded data) will result in plots of the average NDVI in that area.\n",
    "Draw polygons by clicking the &#11039; symbol in the app.\n",
    "\n",
    "The app works by taking the loaded data `dataset` as an argument.\n",
    "\n",
    "> **Note:** data points will only appear for images where more than 50% of the pixels were classified as good quality. This may cause trend lines on the average NDVI plot to appear disconnected. Available data points will be marked with the `*` symbol."
   ]
  },
  {
   "cell_type": "code",
   "execution_count": 3,
   "metadata": {},
   "outputs": [
    {
     "data": {
      "application/vnd.jupyter.widget-view+json": {
       "model_id": "cf0a968087a54a77b278876e08df3273",
       "version_major": 2,
       "version_minor": 0
      },
      "text/plain": [
       "VBox(children=(Output(layout=Layout(border='1px solid black')), HBox(children=(Map(basemap={'url': 'http://ser…"
      ]
     },
     "metadata": {},
     "output_type": "display_data"
    }
   ],
   "source": [
    "run_crophealth_app(dataset)"
   ]
  },
  {
   "cell_type": "markdown",
   "metadata": {},
   "source": [
    "## Drawing conclusions\n",
    "\n",
    "Here are some questions to think about:\n",
    "\n",
    "* What are some factors that might explain differences or similarities across different sections of the study area?\n",
    "* Are there any noticable patterns across the two years of data? Could these correspond to specific events such as planting or harvesting?"
   ]
  },
  {
   "cell_type": "markdown",
   "metadata": {},
   "source": [
    "***\n",
    "\n",
    "## Additional information\n",
    "\n",
    "**License:** The code in this notebook is licensed under the [Apache License, Version 2.0](https://www.apache.org/licenses/LICENSE-2.0). \n",
    "Digital Earth Africa data is licensed under the [Creative Commons by Attribution 4.0](https://creativecommons.org/licenses/by/4.0/) license.\n",
    "\n",
    "**Contact:** If you need assistance, please post a question on the [Open Data Cube Slack channel](http://slack.opendatacube.org/) or on the [GIS Stack Exchange](https://gis.stackexchange.com/questions/ask?tags=open-data-cube) using the `open-data-cube` tag (you can view previously asked questions [here](https://gis.stackexchange.com/questions/tagged/open-data-cube)).\n",
    "If you would like to report an issue with this notebook, you can file one on [Github](https://github.com/digitalearthafrica/deafrica-sandbox-notebooks).\n",
    "\n",
    "**Last modified:** April 2020\n",
    "\n",
    "**Compatible datacube version:** "
   ]
  },
  {
   "cell_type": "code",
   "execution_count": null,
   "metadata": {},
   "outputs": [],
   "source": [
    "print(datacube.__version__)"
   ]
  },
  {
   "cell_type": "markdown",
   "metadata": {},
   "source": [
    "## Tags\n",
    "Browse all available tags on the DE Africa User Guide's [Tags Index]() (Placeholder as this does not exist yet)"
   ]
  },
  {
   "cell_type": "raw",
   "metadata": {
    "raw_mimetype": "text/restructuredtext"
   },
   "source": [
    "**Tags**: :index:`landsat 8`, :index:`NDVI`, :index:`real world`, :index:`agriculture`, :index:`time series`, :index:`interactive`, :index:`widgets`"
   ]
  }
 ],
 "metadata": {
  "kernelspec": {
   "display_name": "Python 3",
   "language": "python",
   "name": "python3"
  },
  "language_info": {
   "codemirror_mode": {
    "name": "ipython",
    "version": 3
   },
   "file_extension": ".py",
   "mimetype": "text/x-python",
   "name": "python",
   "nbconvert_exporter": "python",
   "pygments_lexer": "ipython3",
   "version": "3.6.9"
  },
  "widgets": {
   "application/vnd.jupyter.widget-state+json": {
    "state": {
     "04395c1f9e644d17890c153334658c4d": {
      "model_module": "@jupyter-widgets/base",
      "model_module_version": "1.2.0",
      "model_name": "LayoutModel",
      "state": {}
     },
     "12a28435b3a64cb7ba97269bbb02c74c": {
      "model_module": "jupyter-leaflet",
      "model_module_version": "^0.11.1",
      "model_name": "LeafletAttributionControlModel",
      "state": {
       "_model_module_version": "^0.11.1",
       "_view_count": null,
       "_view_module_version": "^0.11.1",
       "options": [
        "position",
        "prefix"
       ],
       "position": "bottomright",
       "prefix": "Leaflet"
      }
     },
     "19aa780babf64112a2bbf2e99aa50a96": {
      "model_module": "jupyter-leaflet",
      "model_module_version": "^0.11.1",
      "model_name": "LeafletGeoJSONModel",
      "state": {
       "_model_module_version": "^0.11.1",
       "_view_count": null,
       "_view_module_version": "^0.11.1",
       "data": {
        "geometry": {
         "coordinates": [
          [
           [
            -17.066503,
            14.790623
           ],
           [
            -17.066074,
            14.789897
           ],
           [
            -17.065236,
            14.790125
           ],
           [
            -17.065601,
            14.791059
           ],
           [
            -17.066503,
            14.790623
           ]
          ]
         ],
         "type": "Polygon"
        },
        "properties": {
         "style": {
          "clickable": true,
          "color": "#1f77b4",
          "fill": true,
          "fillColor": null,
          "fillOpacity": 0,
          "opacity": 1,
          "stroke": true,
          "weight": 4.5
         }
        },
        "type": "Feature"
       },
       "style": {
        "color": "#1f77b4",
        "fillOpacity": 0,
        "opacity": 1,
        "weight": 4.5
       }
      }
     },
     "1aab7901a87d4f02ac6c5025197b0e1d": {
      "model_module": "@jupyter-widgets/controls",
      "model_module_version": "1.5.0",
      "model_name": "HBoxModel",
      "state": {
       "children": [
        "IPY_MODEL_e4ec7d8ae84f42c7b6ff783da612ec0e",
        "IPY_MODEL_e139c2c088ac466d857ae0865424b3da"
       ],
       "layout": "IPY_MODEL_9546513aea454067bc4bdec146d85133"
      }
     },
     "21bb1f4b9d104980bde08221c5de7bc7": {
      "model_module": "@jupyter-widgets/controls",
      "model_module_version": "1.5.0",
      "model_name": "VBoxModel",
      "state": {
       "children": [
        "IPY_MODEL_2a96d3a0ebea49cea6c00cfaf39358a6",
        "IPY_MODEL_1aab7901a87d4f02ac6c5025197b0e1d",
        "IPY_MODEL_64f5a5a4ebb8435fae74dfc44a46b5e7"
       ],
       "layout": "IPY_MODEL_04395c1f9e644d17890c153334658c4d"
      }
     },
     "22f5286e4fa04441a0560dd5b208e24d": {
      "model_module": "@jupyter-widgets/base",
      "model_module_version": "1.2.0",
      "model_name": "LayoutModel",
      "state": {}
     },
     "2a96d3a0ebea49cea6c00cfaf39358a6": {
      "model_module": "@jupyter-widgets/output",
      "model_module_version": "1.0.0",
      "model_name": "OutputModel",
      "state": {
       "layout": "IPY_MODEL_f146fe597bc74a32959f4f332e0aca54",
       "outputs": [
        {
         "name": "stdout",
         "output_type": "stream",
         "text": "Draw a polygon within the red box to view a plot of average NDVI over time in that area.\n"
        }
       ]
      }
     },
     "2f23976826f6403185b743833cddb2e4": {
      "model_module": "jupyter-leaflet",
      "model_module_version": "^0.11.1",
      "model_name": "LeafletMapStyleModel",
      "state": {
       "_model_module_version": "^0.11.1",
       "_view_count": null,
       "_view_module": "@jupyter-widgets/base",
       "_view_module_version": "1.2.0",
       "_view_name": "StyleView",
       "cursor": "grab"
      }
     },
     "36a8e61ec5384c18888796f79896f640": {
      "model_module": "jupyter-leaflet",
      "model_module_version": "^0.11.1",
      "model_name": "LeafletGeoJSONModel",
      "state": {
       "_model_module_version": "^0.11.1",
       "_view_count": null,
       "_view_module_version": "^0.11.1",
       "data": {
        "geometry": {
         "coordinates": [
          [
           [
            -17.065945,
            14.789005
           ],
           [
            -17.065065,
            14.787096
           ],
           [
            -17.064313,
            14.787428
           ],
           [
            -17.065022,
            14.789212
           ],
           [
            -17.065945,
            14.789005
           ]
          ]
         ],
         "type": "Polygon"
        },
        "properties": {
         "style": {
          "clickable": true,
          "color": "#ff7f0e",
          "fill": true,
          "fillColor": null,
          "fillOpacity": 0,
          "opacity": 1,
          "stroke": true,
          "weight": 4.5
         }
        },
        "type": "Feature"
       },
       "style": {
        "color": "#ff7f0e",
        "fillOpacity": 0,
        "opacity": 1,
        "weight": 4.5
       }
      }
     },
     "44ff46f6f9464d3681e5a0d2fad12edf": {
      "model_module": "jupyter-leaflet",
      "model_module_version": "^0.11.1",
      "model_name": "LeafletMapStyleModel",
      "state": {
       "_model_module_version": "^0.11.1",
       "_view_count": null,
       "_view_module": "@jupyter-widgets/base",
       "_view_module_version": "1.2.0",
       "_view_name": "StyleView",
       "cursor": "grab"
      }
     },
     "56063006596c48cdaa0489a21ff26541": {
      "model_module": "@jupyter-widgets/controls",
      "model_module_version": "1.5.0",
      "model_name": "HTMLModel",
      "state": {
       "layout": "IPY_MODEL_22f5286e4fa04441a0560dd5b208e24d",
       "style": "IPY_MODEL_b7dbd3607ffa49c68160590c3f17bca2"
      }
     },
     "64f5a5a4ebb8435fae74dfc44a46b5e7": {
      "model_module": "@jupyter-widgets/output",
      "model_module_version": "1.0.0",
      "model_name": "OutputModel",
      "state": {
       "layout": "IPY_MODEL_af8994df4f04449bba3458ebc985284c",
       "outputs": [
        {
         "name": "stdout",
         "output_type": "stream",
         "text": "Plot status: polygon sucessfully added to plot.\n"
        }
       ]
      }
     },
     "658813a928714e87a81dd87afa5fe046": {
      "model_module": "jupyter-leaflet",
      "model_module_version": "^0.11.1",
      "model_name": "LeafletTileLayerModel",
      "state": {
       "_model_module_version": "^0.11.1",
       "_view_count": null,
       "_view_module_version": "^0.11.1",
       "attribution": "Tiles &copy; Esri &mdash; Source: Esri, i-cubed, USDA, USGS, AEX, GeoEye, Getmapping, Aerogrid, IGN, IGP, UPR-EGP, and the GIS User Community",
       "base": true,
       "max_native_zoom": 18,
       "max_zoom": 20,
       "min_native_zoom": 0,
       "min_zoom": 1,
       "name": "Esri.WorldImagery",
       "no_wrap": false,
       "options": [
        "attribution",
        "detect_retina",
        "max_native_zoom",
        "max_zoom",
        "min_native_zoom",
        "min_zoom",
        "no_wrap",
        "tile_size"
       ],
       "url": "http://server.arcgisonline.com/ArcGIS/rest/services/World_Imagery/MapServer/tile/{z}/{y}/{x}"
      }
     },
     "8cc0286cd6d047dd992fb51496624c39": {
      "model_module": "jupyter-leaflet",
      "model_module_version": "^0.11.1",
      "model_name": "LeafletGeoJSONModel",
      "state": {
       "_model_module_version": "^0.11.1",
       "_view_count": null,
       "_view_module_version": "^0.11.1",
       "data": {
        "geometry": {
         "coordinates": [
          [
           [
            -17.06339,
            14.787573
           ],
           [
            -17.062402,
            14.787988
           ],
           [
            -17.061951,
            14.78498
           ],
           [
            -17.062638,
            14.784793
           ],
           [
            -17.06339,
            14.787573
           ]
          ]
         ],
         "type": "Polygon"
        },
        "properties": {
         "style": {
          "clickable": true,
          "color": "#2ca02c",
          "fill": true,
          "fillColor": null,
          "fillOpacity": 0,
          "opacity": 1,
          "stroke": true,
          "weight": 4.5
         }
        },
        "type": "Feature"
       },
       "style": {
        "color": "#2ca02c",
        "fillOpacity": 0,
        "opacity": 1,
        "weight": 4.5
       }
      }
     },
     "9546513aea454067bc4bdec146d85133": {
      "model_module": "@jupyter-widgets/base",
      "model_module_version": "1.2.0",
      "model_name": "LayoutModel",
      "state": {}
     },
     "98ba05aae0e54a288135a46c9230d874": {
      "model_module": "jupyter-leaflet",
      "model_module_version": "^0.11.1",
      "model_name": "LeafletZoomControlModel",
      "state": {
       "_model_module_version": "^0.11.1",
       "_view_count": null,
       "_view_module_version": "^0.11.1",
       "options": [
        "position",
        "zoom_in_text",
        "zoom_in_title",
        "zoom_out_text",
        "zoom_out_title"
       ]
      }
     },
     "af8994df4f04449bba3458ebc985284c": {
      "model_module": "@jupyter-widgets/base",
      "model_module_version": "1.2.0",
      "model_name": "LayoutModel",
      "state": {
       "border": "1px solid black"
      }
     },
     "b725387d8e3a44abbf817eb8a9c66e8d": {
      "model_module": "@jupyter-widgets/base",
      "model_module_version": "1.2.0",
      "model_name": "LayoutModel",
      "state": {}
     },
     "b7dbd3607ffa49c68160590c3f17bca2": {
      "model_module": "@jupyter-widgets/controls",
      "model_module_version": "1.5.0",
      "model_name": "DescriptionStyleModel",
      "state": {
       "description_width": ""
      }
     },
     "bf2cf7b1f478498d9a85f5b645d19b3b": {
      "model_module": "jupyter-leaflet",
      "model_module_version": "^0.11.1",
      "model_name": "LeafletDrawControlModel",
      "state": {
       "_model_module_version": "^0.11.1",
       "_view_count": null,
       "_view_module_version": "^0.11.1",
       "options": [
        "position"
       ],
       "polygon": {
        "shapeOptions": {
         "fillOpacity": 0
        }
       },
       "polyline": {}
      }
     },
     "c42d7c59666142408678457d2c20788c": {
      "model_module": "jupyter-leaflet",
      "model_module_version": "^0.11.1",
      "model_name": "LeafletGeoJSONModel",
      "state": {
       "_model_module_version": "^0.11.1",
       "_view_count": null,
       "_view_module_version": "^0.11.1",
       "data": {
        "geometry": {
         "coordinates": [
          [
           [
            -17.070202,
            14.784063999999999
           ],
           [
            -17.060202,
            14.784063999999999
           ],
           [
            -17.060202,
            14.794064
           ],
           [
            -17.070202,
            14.794064
           ],
           [
            -17.070202,
            14.784063999999999
           ]
          ]
         ],
         "type": "Polygon"
        },
        "properties": {
         "style": {
          "clickable": true,
          "color": "red",
          "fill": true,
          "fillColor": false,
          "fillOpacity": 0,
          "opacity": 0.8,
          "showArea": true,
          "stroke": true,
          "weight": 4
         }
        },
        "type": "Feature"
       }
      }
     },
     "d84287793d5947d8bcf16d3369b2d7f8": {
      "model_module": "jupyter-leaflet",
      "model_module_version": "^0.11.1",
      "model_name": "LeafletMapStyleModel",
      "state": {
       "_model_module_version": "^0.11.1",
       "_view_count": null,
       "_view_module": "@jupyter-widgets/base",
       "_view_module_version": "1.2.0",
       "_view_name": "StyleView",
       "cursor": "move"
      }
     },
     "da2ee4f59bb64290a3977e0ff206604f": {
      "model_module": "@jupyter-widgets/base",
      "model_module_version": "1.2.0",
      "model_name": "LayoutModel",
      "state": {
       "width": "50%"
      }
     },
     "e139c2c088ac466d857ae0865424b3da": {
      "model_module": "@jupyter-widgets/output",
      "model_module_version": "1.0.0",
      "model_name": "OutputModel",
      "state": {
       "layout": "IPY_MODEL_da2ee4f59bb64290a3977e0ff206604f",
       "outputs": [
        {
         "data": {
          "image/png": "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\n",
          "text/plain": "<Figure size 576x432 with 1 Axes>"
         },
         "metadata": {},
         "output_type": "display_data"
        }
       ]
      }
     },
     "e4ec7d8ae84f42c7b6ff783da612ec0e": {
      "model_module": "jupyter-leaflet",
      "model_module_version": "^0.11.1",
      "model_name": "LeafletMapModel",
      "state": {
       "_dom_classes": [],
       "_model_module_version": "^0.11.1",
       "_view_count": null,
       "_view_module_version": "^0.11.1",
       "basemap": {
        "attribution": "Tiles &copy; Esri &mdash; Source: Esri, i-cubed, USDA, USGS, AEX, GeoEye, Getmapping, Aerogrid, IGN, IGP, UPR-EGP, and the GIS User Community",
        "max_zoom": 20,
        "name": "Esri.WorldImagery",
        "url": "http://server.arcgisonline.com/ArcGIS/rest/services/World_Imagery/MapServer/tile/{z}/{y}/{x}"
       },
       "center": [
        14.788119442056034,
        -17.065275949767884
       ],
       "controls": [
        "IPY_MODEL_98ba05aae0e54a288135a46c9230d874",
        "IPY_MODEL_12a28435b3a64cb7ba97269bbb02c74c",
        "IPY_MODEL_bf2cf7b1f478498d9a85f5b645d19b3b"
       ],
       "default_style": "IPY_MODEL_44ff46f6f9464d3681e5a0d2fad12edf",
       "dragging_style": "IPY_MODEL_d84287793d5947d8bcf16d3369b2d7f8",
       "east": -17.05811981611615,
       "fullscreen": false,
       "interpolation": "bilinear",
       "layers": [
        "IPY_MODEL_658813a928714e87a81dd87afa5fe046",
        "IPY_MODEL_c42d7c59666142408678457d2c20788c",
        "IPY_MODEL_19aa780babf64112a2bbf2e99aa50a96",
        "IPY_MODEL_36a8e61ec5384c18888796f79896f640",
        "IPY_MODEL_8cc0286cd6d047dd992fb51496624c39"
       ],
       "layout": "IPY_MODEL_b725387d8e3a44abbf817eb8a9c66e8d",
       "modisdate": "yesterday",
       "north": 14.792268785466623,
       "options": [
        "basemap",
        "bounce_at_zoom_limits",
        "box_zoom",
        "center",
        "close_popup_on_click",
        "double_click_zoom",
        "dragging",
        "fullscreen",
        "inertia",
        "inertia_deceleration",
        "inertia_max_speed",
        "interpolation",
        "keyboard",
        "keyboard_pan_offset",
        "keyboard_zoom_offset",
        "max_zoom",
        "min_zoom",
        "scroll_wheel_zoom",
        "tap",
        "tap_tolerance",
        "touch_zoom",
        "world_copy_jump",
        "zoom",
        "zoom_animation_threshold",
        "zoom_start"
       ],
       "south": 14.783970019316572,
       "style": "IPY_MODEL_44ff46f6f9464d3681e5a0d2fad12edf",
       "west": -17.072432083419617,
       "zoom": 16
      }
     },
     "f146fe597bc74a32959f4f332e0aca54": {
      "model_module": "@jupyter-widgets/base",
      "model_module_version": "1.2.0",
      "model_name": "LayoutModel",
      "state": {
       "border": "1px solid black"
      }
     }
    },
    "version_major": 2,
    "version_minor": 0
   }
  }
 },
 "nbformat": 4,
 "nbformat_minor": 4
}
