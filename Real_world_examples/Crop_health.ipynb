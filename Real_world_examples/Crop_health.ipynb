{
 "cells": [
  {
   "cell_type": "markdown",
   "metadata": {},
   "source": [
    "# Measuring crop health <img align=\"right\" src=\"../Supplementary_data/DE_Africa_Logo_Stacked_RGB_small.jpg\">\n",
    "\n",
    "* **Products used:** \n",
    "[s2a_msil2a](https://explorer.digitalearth.africa/s2a_msil2a), \n",
    "[s2a_msil2a](https://explorer.digitalearth.africa/s2b_msil2a)"
   ]
  },
  {
   "cell_type": "markdown",
   "metadata": {},
   "source": [
    "## Background\n",
    "Pineapple is grown in many African regions, with harvest of the fruit occuring around 16-18 months after planting.\n",
    "\n",
    "While the crop is growing, fields may look visually similar.\n",
    "However, health or growth rates from these fields can be quite different, leading to variability and unpredictability in revenue.\n",
    "Identifying underperforming crops can have two benefits:\n",
    "\n",
    "* Ability to scout for disease damage.\n",
    "* Ability to investigate poor performing paddocks and undertake management action such as soil testing or targeted fertilising to improve yield.\n",
    "\n",
    "### Sentinel-2 use case\n",
    "Satellite imagery can be used to measure plant health over time and identify any changes in growth patterns between otherwise similar fields.\n",
    "Sentinel-2's 10 metre resolution makes it ideal for understanding the health of fields.\n",
    "\n",
    "The Normalised Difference Vegetation Index (NDVI) describes the difference between visible and near-infrared reflectance of vegetation cover.\n",
    "This index estimates the density of green on an area of land and can be used to track the health and growth of crops as they mature.\n",
    "Comparing the NDVI of two similar planting areas will help to identify any anomalies in growth patterns. \n",
    "\n",
    "## Description\n",
    "In this example, data from the European Sentinel-2 satellites is used to assess crop growing patterns for the last two years.\n",
    "The worked example below takes users through the code required to:\n",
    "\n",
    "1. Create a time series data cube over a farming property.\n",
    "2. Select multiple areas for comparison.\n",
    "3. Create graphs to identify crop performance trends over the last two years.\n",
    "4. Interpret the results.\n",
    "\n",
    "***"
   ]
  },
  {
   "cell_type": "markdown",
   "metadata": {},
   "source": [
    "## Getting started\n",
    "\n",
    "**To run this analysis**, run all the cells in the notebook, starting with the \"Load packages and apps\" cell."
   ]
  },
  {
   "cell_type": "markdown",
   "metadata": {},
   "source": [
    "### Load packages and apps\n",
    "\n",
    "This notebook works via two functions, which are referred to as apps: `load_crophealth_data` and `run_crophealth_app`.\n",
    "The apps allow the majority of the analysis code to be stored in another file, making the notebook easy to use and run.\n",
    "To view the code behind the apps, open the [notebookapp_crophealth.py](../Scripts/notebookapp_crophealth.py) file."
   ]
  },
  {
   "cell_type": "code",
   "execution_count": 1,
   "metadata": {},
   "outputs": [],
   "source": [
    "%matplotlib inline\n",
    "\n",
    "import sys\n",
    "import datacube\n",
    "\n",
    "sys.path.append(\"../Scripts\")\n",
    "from notebookapp_crophealth import load_crophealth_data\n",
    "from notebookapp_crophealth import run_crophealth_app"
   ]
  },
  {
   "cell_type": "markdown",
   "metadata": {},
   "source": [
    "## Load the data\n",
    "The `load_crophealth_data()` command performs several key steps:\n",
    "\n",
    "* identify all available Sentinel-2 near real time data in the case-study area over the last year\n",
    "* remove any bad quality pixels\n",
    "* keep images where more than half of the image contains good quality pixels\n",
    "* collate images from Sentinel-2A and Sentinel-2B into a single data-set\n",
    "* calculate the NDVI from the red and near infrared bands\n",
    "* return the collated data for analysis\n",
    "\n",
    "The cleaned and collated data is stored in the `dataset_sentinel2` object.\n",
    "As the command runs, feedback will be provided below the cell, including information on the number of cleaned images loaded from each satellite.\n",
    "\n",
    "**Please be patient**.\n",
    "The load is complete when the cell status goes from `[*]` to `[number]`."
   ]
  },
  {
   "cell_type": "code",
   "execution_count": 2,
   "metadata": {},
   "outputs": [
    {
     "name": "stdout",
     "output_type": "stream",
     "text": [
      "Using pixel quality parameters for Sentinel 2\n",
      "Finding datasets\n",
      "    s2a_msil2a\n",
      "    s2b_msil2a\n",
      "Counting good quality pixels for each time step\n",
      "Filtering to 72 out of 132 time steps with at least 50.0% good quality pixels\n",
      "Applying pixel quality/cloud mask\n",
      "Loading 72 time steps\n"
     ]
    }
   ],
   "source": [
    "dataset_sentinel2 = load_crophealth_data()"
   ]
  },
  {
   "cell_type": "markdown",
   "metadata": {},
   "source": [
    "## Run the crop health app\n",
    "The `run_crophealth_app()` command launches an interactive map.\n",
    "Drawing polygons within the boundary (which represents the area covered by the loaded data) will result in plots of the average NDVI in that area.\n",
    "Draw polygons by clicking the &#11039; symbol in the app.\n",
    "\n",
    "The app works by taking the loaded data `dataset_sentinel2` as an argument.\n",
    "\n",
    "> **Note:** data points will only appear for images where more than 50% of the pixels were classified as good quality. This may cause trend lines on the average NDVI plot to appear disconnected. Available data points will be marked with the `*` symbol."
   ]
  },
  {
   "cell_type": "code",
   "execution_count": 3,
   "metadata": {},
   "outputs": [
    {
     "data": {
      "application/vnd.jupyter.widget-view+json": {
       "model_id": "f4baeba9569e46bd99e4c862cc735662",
       "version_major": 2,
       "version_minor": 0
      },
      "text/plain": [
       "VBox(children=(Output(layout=Layout(border='1px solid black')), HBox(children=(Map(basemap={'url': 'http://ser…"
      ]
     },
     "metadata": {},
     "output_type": "display_data"
    }
   ],
   "source": [
    "run_crophealth_app(dataset_sentinel2)"
   ]
  },
  {
   "cell_type": "markdown",
   "metadata": {},
   "source": [
    "## Drawing conclusions\n",
    "\n",
    "Here are some questions to think about:\n",
    "\n",
    "* What are some factors that might explain differences or similarities across different sections of the study area?\n",
    "* Are there any noticable patterns across the two years of data? Could this correspond to a specific event such as planting?"
   ]
  },
  {
   "cell_type": "markdown",
   "metadata": {},
   "source": [
    "***\n",
    "\n",
    "## Additional information\n",
    "\n",
    "**License:** The code in this notebook is licensed under the [Apache License, Version 2.0](https://www.apache.org/licenses/LICENSE-2.0). \n",
    "Digital Earth Africa data is licensed under the [Creative Commons by Attribution 4.0](https://creativecommons.org/licenses/by/4.0/) license.\n",
    "\n",
    "**Contact:** If you need assistance, please post a question on the [Open Data Cube Slack channel](http://slack.opendatacube.org/) or on the [GIS Stack Exchange](https://gis.stackexchange.com/questions/ask?tags=open-data-cube) using the `open-data-cube` tag (you can view previously asked questions [here](https://gis.stackexchange.com/questions/tagged/open-data-cube)).\n",
    "If you would like to report an issue with this notebook, you can file one on [Github](https://github.com/digitalearthafrica/deafrica-sandbox-notebooks).\n",
    "\n",
    "**Last modified:** April 2020\n",
    "\n",
    "**Compatible datacube version:** "
   ]
  },
  {
   "cell_type": "code",
   "execution_count": 4,
   "metadata": {},
   "outputs": [
    {
     "name": "stdout",
     "output_type": "stream",
     "text": [
      "1.7+262.g1cf3cea8\n"
     ]
    }
   ],
   "source": [
    "print(datacube.__version__)"
   ]
  },
  {
   "cell_type": "markdown",
   "metadata": {},
   "source": [
    "## Tags\n",
    "Browse all available tags on the DEA User Guide's [Tags Index](https://docs.dea.ga.gov.au/genindex.html)"
   ]
  },
  {
   "cell_type": "raw",
   "metadata": {
    "raw_mimetype": "text/restructuredtext"
   },
   "source": [
    "**Tags**: :index:`sentinel 2`, :index:`NDVI`, :index:`real world`, :index:`agriculture`, :index:`time series`, :index:`interactive`, :index:`widgets`"
   ]
  }
 ],
 "metadata": {
  "kernelspec": {
   "display_name": "Python 3",
   "language": "python",
   "name": "python3"
  },
  "language_info": {
   "codemirror_mode": {
    "name": "ipython",
    "version": 3
   },
   "file_extension": ".py",
   "mimetype": "text/x-python",
   "name": "python",
   "nbconvert_exporter": "python",
   "pygments_lexer": "ipython3",
   "version": "3.6.9"
  },
  "widgets": {
   "application/vnd.jupyter.widget-state+json": {
    "state": {
     "024b6ed2fa1a41d2b93099d9095b73fd": {
      "model_module": "jupyter-leaflet",
      "model_module_version": "^0.11.1",
      "model_name": "LeafletAttributionControlModel",
      "state": {
       "_model_module_version": "^0.11.1",
       "_view_count": null,
       "_view_module_version": "^0.11.1",
       "options": [
        "position",
        "prefix"
       ],
       "position": "bottomright",
       "prefix": "Leaflet"
      }
     },
     "03d383dcda894439822260fb34d8dd10": {
      "model_module": "@jupyter-widgets/controls",
      "model_module_version": "1.5.0",
      "model_name": "DescriptionStyleModel",
      "state": {
       "description_width": ""
      }
     },
     "041d4516dbaf4f87b79659817aa816d6": {
      "model_module": "jupyter-leaflet",
      "model_module_version": "^0.11.1",
      "model_name": "LeafletMapStyleModel",
      "state": {
       "_model_module_version": "^0.11.1",
       "_view_count": null,
       "_view_module": "@jupyter-widgets/base",
       "_view_module_version": "1.2.0",
       "_view_name": "StyleView",
       "cursor": "grab"
      }
     },
     "0612fb489d444da99113695c82996c79": {
      "model_module": "@jupyter-widgets/controls",
      "model_module_version": "1.5.0",
      "model_name": "HBoxModel",
      "state": {
       "children": [
        "IPY_MODEL_acd16ddfc26a46919d4bc998dcc814a1",
        "IPY_MODEL_205f72c690a34d7ebfc3635fdeaf38fc"
       ],
       "layout": "IPY_MODEL_f39d5a06517448ae9ab3960802dc8adf"
      }
     },
     "0c639a8652e2434e903a80cf8ee47bb1": {
      "model_module": "@jupyter-widgets/base",
      "model_module_version": "1.2.0",
      "model_name": "LayoutModel",
      "state": {
       "border": "1px solid black"
      }
     },
     "19d59b875c794195b860b5fd3c73b418": {
      "model_module": "jupyter-leaflet",
      "model_module_version": "^0.11.1",
      "model_name": "LeafletMapStyleModel",
      "state": {
       "_model_module_version": "^0.11.1",
       "_view_count": null,
       "_view_module": "@jupyter-widgets/base",
       "_view_module_version": "1.2.0",
       "_view_name": "StyleView",
       "cursor": "move"
      }
     },
     "205f72c690a34d7ebfc3635fdeaf38fc": {
      "model_module": "@jupyter-widgets/output",
      "model_module_version": "1.0.0",
      "model_name": "OutputModel",
      "state": {
       "layout": "IPY_MODEL_ba3e4d1454ec4986bf0b811eb01ff193",
       "outputs": [
        {
         "data": {
          "image/png": "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\n",
          "text/plain": "<Figure size 576x432 with 1 Axes>"
         },
         "metadata": {},
         "output_type": "display_data"
        }
       ]
      }
     },
     "2da5888d6b3443edb7572b9252c8990d": {
      "model_module": "jupyter-leaflet",
      "model_module_version": "^0.11.1",
      "model_name": "LeafletGeoJSONModel",
      "state": {
       "_model_module_version": "^0.11.1",
       "_view_count": null,
       "_view_module_version": "^0.11.1",
       "data": {
        "geometry": {
         "coordinates": [
          [
           [
            -0.32669,
            5.84223
           ],
           [
            -0.325702,
            5.842443
           ],
           [
            -0.325552,
            5.841611
           ],
           [
            -0.326454,
            5.841205
           ],
           [
            -0.32669,
            5.84223
           ]
          ]
         ],
         "type": "Polygon"
        },
        "properties": {
         "style": {
          "clickable": true,
          "color": "#1f77b4",
          "fill": true,
          "fillColor": null,
          "fillOpacity": 0,
          "opacity": 1,
          "stroke": true,
          "weight": 4.5
         }
        },
        "type": "Feature"
       },
       "style": {
        "color": "#1f77b4",
        "fillOpacity": 0,
        "opacity": 1,
        "weight": 4.5
       }
      }
     },
     "36779af0dce04452ae55c03922cf45de": {
      "model_module": "@jupyter-widgets/base",
      "model_module_version": "1.2.0",
      "model_name": "LayoutModel",
      "state": {}
     },
     "3bf06dd1751a4d9ea55e15584c99f634": {
      "model_module": "jupyter-leaflet",
      "model_module_version": "^0.11.1",
      "model_name": "LeafletTileLayerModel",
      "state": {
       "_model_module_version": "^0.11.1",
       "_view_count": null,
       "_view_module_version": "^0.11.1",
       "attribution": "Tiles &copy; Esri &mdash; Source: Esri, i-cubed, USDA, USGS, AEX, GeoEye, Getmapping, Aerogrid, IGN, IGP, UPR-EGP, and the GIS User Community",
       "base": true,
       "max_native_zoom": 18,
       "max_zoom": 20,
       "min_native_zoom": 0,
       "min_zoom": 1,
       "name": "Esri.WorldImagery",
       "no_wrap": false,
       "options": [
        "attribution",
        "detect_retina",
        "max_native_zoom",
        "max_zoom",
        "min_native_zoom",
        "min_zoom",
        "no_wrap",
        "tile_size"
       ],
       "url": "http://server.arcgisonline.com/ArcGIS/rest/services/World_Imagery/MapServer/tile/{z}/{y}/{x}"
      }
     },
     "542cdeda03dd48878b79a8d261b168da": {
      "model_module": "jupyter-leaflet",
      "model_module_version": "^0.11.1",
      "model_name": "LeafletDrawControlModel",
      "state": {
       "_model_module_version": "^0.11.1",
       "_view_count": null,
       "_view_module_version": "^0.11.1",
       "options": [
        "position"
       ],
       "polygon": {
        "shapeOptions": {
         "fillOpacity": 0
        }
       },
       "polyline": {}
      }
     },
     "547fcda0f4134ca38a9a786b4e7a820f": {
      "model_module": "@jupyter-widgets/base",
      "model_module_version": "1.2.0",
      "model_name": "LayoutModel",
      "state": {}
     },
     "55b36405da374bae9a01148ff9445e15": {
      "model_module": "jupyter-leaflet",
      "model_module_version": "^0.11.1",
      "model_name": "LeafletMapStyleModel",
      "state": {
       "_model_module_version": "^0.11.1",
       "_view_count": null,
       "_view_module": "@jupyter-widgets/base",
       "_view_module_version": "1.2.0",
       "_view_name": "StyleView",
       "cursor": "grab"
      }
     },
     "61fe5a3ce8354b22b8d4a5afd85032c6": {
      "model_module": "@jupyter-widgets/base",
      "model_module_version": "1.2.0",
      "model_name": "LayoutModel",
      "state": {
       "border": "1px solid black"
      }
     },
     "8e491e7fd06b41e8b47a1de36f6b4de8": {
      "model_module": "@jupyter-widgets/output",
      "model_module_version": "1.0.0",
      "model_name": "OutputModel",
      "state": {
       "layout": "IPY_MODEL_0c639a8652e2434e903a80cf8ee47bb1",
       "outputs": [
        {
         "name": "stdout",
         "output_type": "stream",
         "text": "Plot status: polygon sucessfully added to plot.\n"
        }
       ]
      }
     },
     "90e16dceadc64f8c90d60534d2d22591": {
      "model_module": "@jupyter-widgets/controls",
      "model_module_version": "1.5.0",
      "model_name": "HTMLModel",
      "state": {
       "layout": "IPY_MODEL_547fcda0f4134ca38a9a786b4e7a820f",
       "style": "IPY_MODEL_03d383dcda894439822260fb34d8dd10"
      }
     },
     "941bc5ad8cd04caeab636ec8aa535e08": {
      "model_module": "jupyter-leaflet",
      "model_module_version": "^0.11.1",
      "model_name": "LeafletGeoJSONModel",
      "state": {
       "_model_module_version": "^0.11.1",
       "_view_count": null,
       "_view_module_version": "^0.11.1",
       "data": {
        "geometry": {
         "coordinates": [
          [
           [
            -0.334838,
            5.8367830000000005
           ],
           [
            -0.324838,
            5.8367830000000005
           ],
           [
            -0.324838,
            5.846783
           ],
           [
            -0.334838,
            5.846783
           ],
           [
            -0.334838,
            5.8367830000000005
           ]
          ]
         ],
         "type": "Polygon"
        },
        "properties": {
         "style": {
          "clickable": true,
          "color": "red",
          "fill": true,
          "fillColor": false,
          "fillOpacity": 0,
          "opacity": 0.8,
          "showArea": true,
          "stroke": true,
          "weight": 4
         }
        },
        "type": "Feature"
       }
      }
     },
     "95b6e994546249018df462f72d199793": {
      "model_module": "@jupyter-widgets/base",
      "model_module_version": "1.2.0",
      "model_name": "LayoutModel",
      "state": {}
     },
     "9b7909e8c9f84199b9dfeb3baf9a384e": {
      "model_module": "jupyter-leaflet",
      "model_module_version": "^0.11.1",
      "model_name": "LeafletGeoJSONModel",
      "state": {
       "_model_module_version": "^0.11.1",
       "_view_count": null,
       "_view_module_version": "^0.11.1",
       "data": {
        "geometry": {
         "coordinates": [
          [
           [
            -0.332338,
            5.845346
           ],
           [
            -0.331822,
            5.842443
           ],
           [
            -0.330663,
            5.842699
           ],
           [
            -0.331049,
            5.845496
           ],
           [
            -0.332338,
            5.845346
           ]
          ]
         ],
         "type": "Polygon"
        },
        "properties": {
         "style": {
          "clickable": true,
          "color": "#ff7f0e",
          "fill": true,
          "fillColor": null,
          "fillOpacity": 0,
          "opacity": 1,
          "stroke": true,
          "weight": 4.5
         }
        },
        "type": "Feature"
       },
       "style": {
        "color": "#ff7f0e",
        "fillOpacity": 0,
        "opacity": 1,
        "weight": 4.5
       }
      }
     },
     "a2c9b1acc7d448b490e01dbec4a35e18": {
      "model_module": "@jupyter-widgets/output",
      "model_module_version": "1.0.0",
      "model_name": "OutputModel",
      "state": {
       "layout": "IPY_MODEL_61fe5a3ce8354b22b8d4a5afd85032c6",
       "outputs": [
        {
         "name": "stdout",
         "output_type": "stream",
         "text": "Draw a polygon within the red box to view a plot of average NDVI over time in that area.\n"
        }
       ]
      }
     },
     "acd16ddfc26a46919d4bc998dcc814a1": {
      "model_module": "jupyter-leaflet",
      "model_module_version": "^0.11.1",
      "model_name": "LeafletMapModel",
      "state": {
       "_dom_classes": [],
       "_model_module_version": "^0.11.1",
       "_view_count": null,
       "_view_module_version": "^0.11.1",
       "basemap": {
        "attribution": "Tiles &copy; Esri &mdash; Source: Esri, i-cubed, USDA, USGS, AEX, GeoEye, Getmapping, Aerogrid, IGN, IGP, UPR-EGP, and the GIS User Community",
        "max_zoom": 20,
        "name": "Esri.WorldImagery",
        "url": "http://server.arcgisonline.com/ArcGIS/rest/services/World_Imagery/MapServer/tile/{z}/{y}/{x}"
       },
       "center": [
        5.8417885470962325,
        -0.3298366069793702
       ],
       "controls": [
        "IPY_MODEL_c717f904e25d4e9a803db9472271fd52",
        "IPY_MODEL_024b6ed2fa1a41d2b93099d9095b73fd",
        "IPY_MODEL_542cdeda03dd48878b79a8d261b168da"
       ],
       "default_style": "IPY_MODEL_55b36405da374bae9a01148ff9445e15",
       "dragging_style": "IPY_MODEL_19d59b875c794195b860b5fd3c73b418",
       "east": -0.3231525421142578,
       "fullscreen": false,
       "interpolation": "bilinear",
       "layers": [
        "IPY_MODEL_3bf06dd1751a4d9ea55e15584c99f634",
        "IPY_MODEL_941bc5ad8cd04caeab636ec8aa535e08",
        "IPY_MODEL_2da5888d6b3443edb7572b9252c8990d",
        "IPY_MODEL_9b7909e8c9f84199b9dfeb3baf9a384e"
       ],
       "layout": "IPY_MODEL_36779af0dce04452ae55c03922cf45de",
       "modisdate": "yesterday",
       "north": 5.846057778184443,
       "options": [
        "basemap",
        "bounce_at_zoom_limits",
        "box_zoom",
        "center",
        "close_popup_on_click",
        "double_click_zoom",
        "dragging",
        "fullscreen",
        "inertia",
        "inertia_deceleration",
        "inertia_max_speed",
        "interpolation",
        "keyboard",
        "keyboard_pan_offset",
        "keyboard_zoom_offset",
        "max_zoom",
        "min_zoom",
        "scroll_wheel_zoom",
        "tap",
        "tap_tolerance",
        "touch_zoom",
        "world_copy_jump",
        "zoom",
        "zoom_animation_threshold",
        "zoom_start"
       ],
       "south": 5.837519283460948,
       "style": "IPY_MODEL_55b36405da374bae9a01148ff9445e15",
       "west": -0.3365206718444825,
       "zoom": 16
      }
     },
     "ba3e4d1454ec4986bf0b811eb01ff193": {
      "model_module": "@jupyter-widgets/base",
      "model_module_version": "1.2.0",
      "model_name": "LayoutModel",
      "state": {
       "width": "50%"
      }
     },
     "c717f904e25d4e9a803db9472271fd52": {
      "model_module": "jupyter-leaflet",
      "model_module_version": "^0.11.1",
      "model_name": "LeafletZoomControlModel",
      "state": {
       "_model_module_version": "^0.11.1",
       "_view_count": null,
       "_view_module_version": "^0.11.1",
       "options": [
        "position",
        "zoom_in_text",
        "zoom_in_title",
        "zoom_out_text",
        "zoom_out_title"
       ]
      }
     },
     "f39d5a06517448ae9ab3960802dc8adf": {
      "model_module": "@jupyter-widgets/base",
      "model_module_version": "1.2.0",
      "model_name": "LayoutModel",
      "state": {}
     },
     "f4baeba9569e46bd99e4c862cc735662": {
      "model_module": "@jupyter-widgets/controls",
      "model_module_version": "1.5.0",
      "model_name": "VBoxModel",
      "state": {
       "children": [
        "IPY_MODEL_a2c9b1acc7d448b490e01dbec4a35e18",
        "IPY_MODEL_0612fb489d444da99113695c82996c79",
        "IPY_MODEL_8e491e7fd06b41e8b47a1de36f6b4de8"
       ],
       "layout": "IPY_MODEL_95b6e994546249018df462f72d199793"
      }
     }
    },
    "version_major": 2,
    "version_minor": 0
   }
  }
 },
 "nbformat": 4,
 "nbformat_minor": 4
}
