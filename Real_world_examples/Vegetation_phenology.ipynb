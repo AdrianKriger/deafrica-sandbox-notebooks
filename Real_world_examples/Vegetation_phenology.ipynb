{
 "cells": [
  {
   "cell_type": "markdown",
   "metadata": {},
   "source": [
    "# Vegetation Phenology <img align=\"right\" src=\"../Supplementary_data/DE_Africa_Logo_Stacked_RGB_small.jpg\">\n",
    "\n",
    "* **Products used:** \n",
    "[ls8_usgs_sr_scene](https://explorer.digitalearth.africa/ls8_usgs_sr_scene)\n"
   ]
  },
  {
   "cell_type": "markdown",
   "metadata": {},
   "source": [
    "## Background\n",
    "Phenology is the study of how plant and animal life cycles in the context of the seasons.\n",
    "It can be useful in understanding the life cycle trends of crops, and how the growing seasons are affected by changes in climate.\n",
    "For more information, see the [USGS page on phenology](https://www.usgs.gov/land-resources/eros/phenology)."
   ]
  },
  {
   "cell_type": "markdown",
   "metadata": {},
   "source": [
    "## Description\n",
    "\n",
    "This notebook calculates vegetation phenology changes using Landsat 8 data.\n",
    "To detect changes in plant life for Landsat, the algorithm uses either the Normalized Difference Vegetation Index (NDVI) or the Enhanced Vegetation Index (EVI), which are common proxies for vegetation growth and health.\n",
    "The outputs of this notebook can be used to assess differences in agriculture fields over time or space and also allow the assessment of growing states such as planting and harvesting.\n",
    "This notebook demonstrates the following steps:\n",
    "\n",
    "1. First we do this\n",
    "2. Then we do this\n",
    "3. Finally we do this\n",
    "\n",
    "***"
   ]
  },
  {
   "cell_type": "markdown",
   "metadata": {},
   "source": [
    "## Getting started\n",
    "\n",
    "To run this analysis, run all the cells in the notebook, starting with the \"Load packages\" cell. "
   ]
  },
  {
   "cell_type": "markdown",
   "metadata": {},
   "source": [
    "### Load packages\n",
    "Load key Python packages and supporting functions for the analysis."
   ]
  },
  {
   "cell_type": "code",
   "execution_count": null,
   "metadata": {},
   "outputs": [],
   "source": [
    "%matplotlib inline\n",
    "\n",
    "import datacube\n",
    "import matplotlib.pyplot as plt\n",
    "import numpy as np\n",
    "import pandas as pd\n",
    "import sys\n",
    "import xarray as xr\n",
    "import datetime as dt\n",
    "import os\n",
    "\n",
    "sys.path.append('../Scripts')\n",
    "from deafrica_datahandling import load_ard\n",
    "from deafrica_bandindices import calculate_indices\n",
    "from deafrica_plotting import display_map\n",
    "\n",
    "# Want to replace these with existing deafrica functions where possible or simplify in notebook\n",
    "# Or transition these functions to deafrica formatted scripts/functions \n",
    "from clean_mask import landsat_qa_clean_mask, landsat_clean_mask_invalid\n",
    "from sort import xarray_sortby_coord\n",
    "from plotter_utils import xarray_time_series_plot"
   ]
  },
  {
   "cell_type": "markdown",
   "metadata": {},
   "source": [
    "### Connect to the datacube\n",
    "\n",
    "Connect to the datacube so we can access DE Africa data.\n",
    "The `app` parameter is a unique name for the analysis which is based on the notebook file name."
   ]
  },
  {
   "cell_type": "code",
   "execution_count": null,
   "metadata": {},
   "outputs": [],
   "source": [
    "dc = datacube.Datacube(app='Vegetation_phenology')"
   ]
  },
  {
   "cell_type": "markdown",
   "metadata": {},
   "source": [
    "### Analysis parameters\n",
    "\n",
    "The following cell sets important parameters for the analysis:\n",
    "\n",
    "* `veg_proxy`: Band index to use as a proxy for vegetation health (e.g. `NDVI` or `EVI`)\n"
   ]
  },
  {
   "cell_type": "code",
   "execution_count": null,
   "metadata": {},
   "outputs": [],
   "source": [
    "veg_proxy = 'NDVI'\n",
    "\n",
    "# Aviv Coffee Farm, Tanzania (small)\n",
    "latitude = (-10.6999, -10.6959) \n",
    "longitude = (35.2608, 35.2662) \n",
    "\n",
    "start_date, end_date = dt.datetime(2013,1,1), dt.datetime(2018,12,31)\n",
    "time_extents = (start_date, end_date)"
   ]
  },
  {
   "cell_type": "markdown",
   "metadata": {},
   "source": [
    "## View the selected location\n",
    "The next cell will display the selected area on an interactive map.\n",
    "Feel free to zoom in and out to get a better understanding of the area you'll be analysing.\n",
    "Clicking on any point of the map will reveal the latitude and longitude coordinates of that point."
   ]
  },
  {
   "cell_type": "code",
   "execution_count": null,
   "metadata": {},
   "outputs": [],
   "source": [
    "display_map(x=longitude, y=latitude)"
   ]
  },
  {
   "cell_type": "markdown",
   "metadata": {},
   "source": [
    "## Load cloud-masked Landsat data"
   ]
  },
  {
   "cell_type": "code",
   "execution_count": null,
   "metadata": {},
   "outputs": [],
   "source": [
    "# Please replace this with load_ard, which automatically does clound masking\n",
    "# Consider loading all necessary bands for NDVI and EVI in one go\n",
    "\n",
    "# Coppied from DCAL_Vegetation_Phenology notebook\n",
    "measurements = []\n",
    "if veg_proxy == 'NDVI':\n",
    "    measurements = ['red', 'nir', 'pixel_qa']\n",
    "elif veg_proxy == 'EVI':\n",
    "    measurements = ['red', 'blue', 'nir', 'pixel_qa']\n",
    "\n",
    "\n",
    "landsat_dataset = dc.load(product = 'ls8_usgs_sr_scene',\n",
    "                          measurements = measurements,\n",
    "                          y = latitude,\n",
    "                          x = longitude,\n",
    "                          time = time_extents,\n",
    "                          output_crs='EPSG:6933',\n",
    "                          resolution=(-30,30))\n",
    "\n",
    "#load cloud mask and apply to dataset\n",
    "cloud_mask = landsat_qa_clean_mask(landsat_dataset, platform='LANDSAT_8')\n",
    "dataset = landsat_dataset.where(cloud_mask)"
   ]
  },
  {
   "cell_type": "markdown",
   "metadata": {},
   "source": [
    "**Once the load is complete**, examine the data by printing it in the next cell.\n",
    "The `Dimensions` argument revels the number of time steps in the data set, as well as the number of pixels in the `x` (longitude) and `y` (latitude) dimensions."
   ]
  },
  {
   "cell_type": "code",
   "execution_count": null,
   "metadata": {},
   "outputs": [],
   "source": [
    "dataset"
   ]
  },
  {
   "cell_type": "code",
   "execution_count": null,
   "metadata": {},
   "outputs": [],
   "source": [
    "# Copied from DCAL_Vegetation_Phenology notebook. Determine if necessary\n",
    "#change Coordinate names to be compatible with modules used latter in this notebook\n",
    "dataset = dataset.rename(name_dict={'x':'longitude','y':'latitude'})\n",
    "\n",
    "dataset"
   ]
  },
  {
   "cell_type": "markdown",
   "metadata": {},
   "source": [
    "## Compute band indices"
   ]
  },
  {
   "cell_type": "code",
   "execution_count": null,
   "metadata": {},
   "outputs": [],
   "source": [
    "# Validate that this works when user selects either NDVI or EVI\n",
    "dataset = calculate_indices(dataset, index=veg_proxy, collection='c2')\n",
    "dataset"
   ]
  },
  {
   "cell_type": "markdown",
   "metadata": {},
   "source": [
    "## Create phenology products"
   ]
  },
  {
   "cell_type": "markdown",
   "metadata": {},
   "source": [
    "### Plot the Vegetation Index Over Time in a Box-and-Whisker Plot"
   ]
  },
  {
   "cell_type": "code",
   "execution_count": null,
   "metadata": {},
   "outputs": [],
   "source": [
    "# Copied from DCAL_Vegetation_Phenology notebook. Clean as appropriate\n",
    "\n",
    "# Specify whether to plot a curve fit of the vegetation index along time. Input can be either TRUE or FALSE\n",
    "plot_curve_fit = True\n",
    "assert isinstance(plot_curve_fit, bool), \"The variable 'plot_curve_fit' must be \"\\\n",
    "                                         \"either True or False.\"\n",
    "\n",
    "# Specify the target aggregation type of the curve fit. Input can be either 'mean' or 'median'.\n",
    "curve_fit_target = 'median'\n",
    "assert curve_fit_target in ['mean', 'median'], \"The variable 'curve_fit_target' must be either \"\\\n",
    "                                               \"'mean' or 'median'.\"\n",
    "\n",
    "# The maximum number of data points that appear along time in each plot.\n",
    "# If more than this number of data points need to be plotted, a grid of plots will be created.\n",
    "max_times_per_plot = 40 "
   ]
  },
  {
   "cell_type": "code",
   "execution_count": null,
   "metadata": {},
   "outputs": [],
   "source": [
    "# Copied from DCAL_Vegetation_Phenology notebook. Clean as appropriate\n",
    "\n",
    "# Select the binning approach for the vegetation index. Set the 'bin_by' parameter.\n",
    "# None          = do not bin the data\n",
    "# 'week'        = bin the data by week with an extended time axis\n",
    "# 'month'       = bin the data by month with an extended time axis\n",
    "# 'weekofyear'  = bin the data by week and years using a single year time axis\n",
    "# 'monthofyear' = bin the data by month and years using a single year time axis\n",
    "\n",
    "# It is also possible to change some of the plotting features using the code below.\n",
    "\n",
    "bin_by = 'monthofyear'\n",
    "assert bin_by in [None, 'week', 'month', 'weekofyear', 'monthofyear'], \\\n",
    "    \"The variable 'bin_by' can only have one of these values: \"\\\n",
    "    \"[None, 'week', 'month', 'weekofyear', 'monthofyear']\"\n",
    "\n",
    "aggregated_by_str = None\n",
    "if bin_by is None:\n",
    "    plotting_data = dataset\n",
    "elif bin_by == 'week':\n",
    "    plotting_data = dataset.resample(time='1w').mean()\n",
    "    aggregated_by_str = 'Week'\n",
    "elif bin_by == 'month':\n",
    "    plotting_data = dataset.resample(time='1m').mean()\n",
    "    aggregated_by_str = 'Month'\n",
    "elif bin_by == 'weekofyear':\n",
    "    plotting_data = dataset.groupby('time.week').mean(dim=('time'))\n",
    "    aggregated_by_str = 'Week of Year'\n",
    "elif bin_by == 'monthofyear':\n",
    "    plotting_data = dataset.groupby('time.month').mean(dim=('time'))\n",
    "    aggregated_by_str = 'Month of Year'\n",
    "    \n",
    "params = dict(dataset=plotting_data, plot_descs={veg_proxy:{'none':[\n",
    "    {'box':{'boxprops':{'facecolor':'forestgreen'}}}]}})\n",
    "if plot_curve_fit:\n",
    "    params['plot_descs'][veg_proxy][curve_fit_target] = [{'gaussian_filter':{}}]\n",
    "    \n",
    "xarray_time_series_plot(**params, fig_params=dict(figsize=(12,8), dpi=150), \n",
    "                        max_times_per_plot=max_times_per_plot)\n",
    "plt.title('Box-and-Whisker Plot of {0} with a Curvefit of Median {0}'.format(veg_proxy))\n",
    "plt.show()"
   ]
  },
  {
   "cell_type": "markdown",
   "metadata": {},
   "source": [
    "### Plot the Vegetation Index Over Time for Each Year"
   ]
  },
  {
   "cell_type": "code",
   "execution_count": null,
   "metadata": {},
   "outputs": [],
   "source": [
    "# Copied from DCAL_Vegetation_Phenology notebook. Clean as appropriate\n",
    "\n",
    "years_with_data = []\n",
    "plot_descs = {}\n",
    "daysofyear_per_year = {}\n",
    "plotting_data_years = {}\n",
    "time_dim_name = None\n",
    "for year in range(start_date.year, end_date.year+1):\n",
    "    year_data = dataset.sel(time=slice('{}-01-01'.format(year), '{}-12-31'.format(year)))[veg_proxy]\n",
    "    if len(year_data['time']) == 0: # There is nothing to plot for this year.\n",
    "        print(\"Year {} has no data, so will not be plotted.\".format(year))\n",
    "        continue\n",
    "    years_with_data.append(year)\n",
    "    \n",
    "    spec_ind_dayofyear = year_data.groupby('time.dayofyear').mean()\n",
    "    daysofyear_per_year[year] = spec_ind_dayofyear.where(~spec_ind_dayofyear.isnull()).dayofyear\n",
    "    \n",
    "# Select the binning approach for the vegetation index. Set the 'bin_by' parameter.\n",
    "# 'weekofyear'  = bin the data by week and years using a single year time axis\n",
    "# 'monthofyear' = bin the data by month and years using a single year time axis\n",
    "\n",
    "    bin_by = 'monthofyear'\n",
    "    \n",
    "    assert bin_by in ['weekofyear', 'monthofyear'], \\\n",
    "        \"The variable 'bin_by' can only have one of these values: \"\\\n",
    "        \"['weekofyear', 'monthofyear']\"\n",
    "    \n",
    "    aggregated_by_str = None\n",
    "    if bin_by == 'weekofyear':\n",
    "        plotting_data_year = year_data.groupby('time.week').mean(dim=('time'))\n",
    "        time_dim_name = 'week'\n",
    "    elif bin_by == 'monthofyear':\n",
    "        plotting_data_year = year_data.groupby('time.month').mean(dim=('time'))\n",
    "        time_dim_name = 'month'\n",
    "\n",
    "    plotting_data_years[year] = plotting_data_year\n",
    "    num_time_pts = len(plotting_data_year[time_dim_name])\n",
    "    \n",
    "    # Select the curve-fit type. \n",
    "    # See the documentation for `xarray_time_series_plot()` regarding the `plot_descs` parameter.\n",
    "    plot_descs[year] = {'mean':[{'gaussian_filter':{}}]}\n",
    "\n",
    "time_dim_name = 'week' if bin_by == 'weekofyear' else 'month' if bin_by == 'monthofyear' else 'time'\n",
    "\n",
    "num_times = 54 if bin_by == 'weekofyear' else 12\n",
    "time_coords_arr = np.arange(1, num_times+1) # In xarray, week and month indices start at 1.\n",
    "time_coords_da = xr.DataArray(time_coords_arr, coords={time_dim_name:time_coords_arr}, \n",
    "                              dims=[time_dim_name], name=time_dim_name)\n",
    "coords = dict(list(plotting_data_years.values())[0].coords)\n",
    "coords[time_dim_name] = time_coords_da \n",
    "plotting_data = xr.Dataset(plotting_data_years, coords=coords)\n",
    "params = dict(dataset=plotting_data, plot_descs=plot_descs)\n",
    "\n",
    "fig, curve_fit_plotting_data = \\\n",
    "    xarray_time_series_plot(**params, fig_params=dict(figsize=(8,4), dpi=150))\n",
    "plt.title('Line Plot of {0} for Each Year'.format(veg_proxy))\n",
    "plt.show()"
   ]
  },
  {
   "cell_type": "markdown",
   "metadata": {},
   "source": [
    "### Export Curve Fits to a CSV File"
   ]
  },
  {
   "cell_type": "code",
   "execution_count": null,
   "metadata": {},
   "outputs": [],
   "source": [
    "# Copied from DCAL_Vegetation_Phenology notebook. Clean as appropriate\n",
    "\n",
    "# Convert the data to a `pandas.DataFrame`.\n",
    "dataarrays = []\n",
    "for (year, _, _), dataarray in curve_fit_plotting_data.items():\n",
    "    dataarrays.append(dataarray.rename(year))\n",
    "curve_fit_df = xr.merge(dataarrays).to_dataframe()\n",
    "\n",
    "# Convert the month floats to day ints and average by day (scale to [0,1], multiply by 364, add 1).\n",
    "curve_fit_df.index.values[:] = (364/11) * (curve_fit_df.index.values - 1) + 1\n",
    "curve_fit_df.index = curve_fit_df.index.astype(int)\n",
    "curve_fit_df.index.name = 'day of year'\n",
    "curve_fit_df = curve_fit_df.groupby('day of year').mean()\n",
    "\n",
    "# Export the data to a CSV.\n",
    "csv_output_dir = 'output/CSVs/'\n",
    "if not os.path.exists(csv_output_dir):\n",
    "    os.makedirs(csv_output_dir)\n",
    "curve_fit_df.to_csv(csv_output_dir + 'vegetation_phenology_yearly_curve_fits_landsat.csv')"
   ]
  },
  {
   "cell_type": "markdown",
   "metadata": {},
   "source": [
    "### Show [TIMESAT](http://web.nateko.lu.se/timesat/timesat.asp) Stats"
   ]
  },
  {
   "cell_type": "code",
   "execution_count": null,
   "metadata": {},
   "outputs": [],
   "source": [
    "# Copied from DCAL_Vegetation_Phenology notebook. Clean as appropriate\n",
    "# Potentially export to a scripts function??\n",
    "\n",
    "def TIMESAT_stats(dataarray, time_dim='time'):\n",
    "    \"\"\"\n",
    "    For a 1D array of values for a vegetation index - for which higher values tend to \n",
    "    indicate more vegetation - determine several statistics:\n",
    "    1. Beginning of Season (BOS): The time index of the beginning of the growing season.\n",
    "        (The downward inflection point before the maximum vegetation index value)\n",
    "    2. End of Season (EOS): The time index of the end of the growing season.\n",
    "        (The upward inflection point after the maximum vegetation index value)\n",
    "    3. Middle of Season (MOS): The time index of the maximum vegetation index value.\n",
    "    4. Length of Season (EOS-BOS): The time length of the season (index difference).\n",
    "    5. Base Value (BASE): The minimum vegetation index value.\n",
    "    6. Max Value (MAX): The maximum vegetation index value (the value at MOS).\n",
    "    7. Amplitude (AMP): The difference between BASE and MAX.\n",
    "    \n",
    "    Parameters\n",
    "    ----------\n",
    "    dataarray: xarray.DataArray\n",
    "        The 1D array of non-NaN values to determine the statistics for.\n",
    "    time_dim: string\n",
    "        The name of the time dimension in `dataarray`.\n",
    "\n",
    "    Returns\n",
    "    -------\n",
    "    stats: dict\n",
    "        A dictionary mapping statistic names to values.\n",
    "    \"\"\"\n",
    "    assert time_dim in dataarray.dims, \"The parameter `time_dim` is \\\"{}\\\", \" \\\n",
    "        \"but that dimension does not exist in the data.\".format(time_dim)\n",
    "    stats = {}\n",
    "    data_np_arr = dataarray.values\n",
    "    time_np_arr = dataarray[time_dim].values\n",
    "    data_inds = np.arange(len(data_np_arr))\n",
    "    \n",
    "    # Obtain the first and second derivatives.\n",
    "    fst_deriv = np.gradient(data_np_arr, time_np_arr)\n",
    "    pos_fst_deriv = fst_deriv > 0\n",
    "    neg_fst_deriv = 0 > fst_deriv\n",
    "    snd_deriv = np.gradient(fst_deriv, time_np_arr)\n",
    "    pos_snd_deriv = snd_deriv > 0\n",
    "    neg_snd_deriv = 0 > snd_deriv\n",
    "    \n",
    "    # Determine MOS.\n",
    "    # MOS is the index of the highest value immediately preceding a transition\n",
    "    # of the first derivative from positive to negative.\n",
    "    pos_to_neg_fst_deriv = pos_fst_deriv.copy()\n",
    "    for i in range(len(pos_fst_deriv)):\n",
    "        if i == len(pos_fst_deriv) - 1: # last index\n",
    "            pos_to_neg_fst_deriv[i] = False\n",
    "        elif pos_fst_deriv[i] and not pos_fst_deriv[i+1]: # + to -\n",
    "            pos_to_neg_fst_deriv[i] = True\n",
    "        else: # everything else\n",
    "            pos_to_neg_fst_deriv[i] = False\n",
    "    idxmos_potential_inds = data_inds[pos_to_neg_fst_deriv]\n",
    "    idxmos_subset_ind = np.argmax(data_np_arr[pos_to_neg_fst_deriv])\n",
    "    idxmos = idxmos_potential_inds[idxmos_subset_ind]\n",
    "    stats['Middle of Season'] = idxmos\n",
    "    \n",
    "    data_inds_after_mos = np.roll(data_inds, len(data_inds)-idxmos-1)\n",
    "    \n",
    "    # Determine BOS.\n",
    "    # BOS is the first negative inflection point of the positive values \n",
    "    # of the first derivative starting after and ending at the MOS.\n",
    "    idxbos = data_inds_after_mos[np.argmax((pos_fst_deriv & neg_snd_deriv)[data_inds_after_mos])]\n",
    "    stats['Beginning of Season'] = idxbos\n",
    "    \n",
    "    # Determine EOS.\n",
    "    # EOS is the last positive inflection point of the negative values \n",
    "    # of the first derivative starting after and ending at the MOS.\n",
    "    idxeos = data_inds_after_mos[np.argmax((neg_fst_deriv & pos_snd_deriv)[data_inds_after_mos][::-1])]\n",
    "    stats['End of Season'] = idxeos\n",
    "    \n",
    "    # Determine EOS-BOS.\n",
    "    stats['Length of Season'] = idxeos - idxbos\n",
    "    # Determine BASE.\n",
    "    stats['Base Value'] = data_np_arr.min()\n",
    "    # Determine MAX.\n",
    "    stats['Max Value'] = data_np_arr.max()\n",
    "    # Determine AMP.\n",
    "    stats['Amplitude'] = stats['Max Value'] - stats['Base Value']\n",
    "    \n",
    "    return stats"
   ]
  },
  {
   "cell_type": "code",
   "execution_count": null,
   "metadata": {},
   "outputs": [],
   "source": [
    "# Copied from DCAL_Vegetation_Phenology notebook. Clean as appropriate\n",
    "# Potentially export to a scripts function?? -- mostly output formatting, which\n",
    "# could be hidden from the notebook\n",
    "\n",
    "## Settings\n",
    "# The minimum number of weeks or months with data for a year to have its stats calculated.\n",
    "# The aggregation used to obtain the plotting data determines which of these is used.\n",
    "min_weeks_per_year = 40\n",
    "min_months_per_year = 9\n",
    "## End Settings\n",
    "\n",
    "for year, dataarray in plotting_data_years.items():\n",
    "    dataarray = dataarray.mean(['latitude', 'longitude'])\n",
    "    non_nan_mask = ~np.isnan(dataarray.values)\n",
    "    num_times = non_nan_mask.sum()\n",
    "    insufficient_data = False\n",
    "    if bin_by == 'weekofyear':\n",
    "        if num_times < min_weeks_per_year:\n",
    "            print(\"There are {} weeks with data for the year {}, but the \" \\\n",
    "                  \"minimum number of weeks is {}.\\n\".format(num_times, year, min_weeks_per_year))\n",
    "            continue\n",
    "    elif bin_by == 'monthofyear':\n",
    "        if num_times < min_months_per_year:\n",
    "            print(\"There are {} months with data for the year {}, but the \" \\\n",
    "                  \"minimum number of months is {}.\\n\".format(num_times, year, min_months_per_year))\n",
    "            continue\n",
    "    # Remove NaNs for `TIMESAT_stats()`.\n",
    "    dataarray = dataarray.sel({time_dim_name: dataarray[time_dim_name].values[non_nan_mask]})\n",
    "    stats = TIMESAT_stats(dataarray, time_dim=time_dim_name)\n",
    "    # Map indices to days of the year (can't use data from `daysofyear_per_year` directly\n",
    "    # because `xarray_time_series_plot()` can have more points for smooth curve fitting.\n",
    "    time_int_arr = dataarray[time_dim_name].values\n",
    "    orig_day_int_arr = daysofyear_per_year[year].values\n",
    "    day_int_arr = np.interp(time_int_arr, (time_int_arr.min(), time_int_arr.max()), \n",
    "                            (orig_day_int_arr.min(), orig_day_int_arr.max()))\n",
    "    # Convert \"times\" in the TIMESAT stats from indices to days (ints).\n",
    "    stats['Beginning of Season'] = int(round(day_int_arr[stats['Beginning of Season']]))\n",
    "    stats['Middle of Season'] = int(round(day_int_arr[stats['Middle of Season']]))\n",
    "    stats['End of Season'] = int(round(day_int_arr[stats['End of Season']]))\n",
    "    stats['Length of Season'] = np.abs(stats['End of Season'] - stats['Beginning of Season']) \n",
    "    \n",
    "    print(\"Year =\", year)\n",
    "    print(\"Beginning of Season (BOS) day =\", stats['Beginning of Season'])\n",
    "    print(\"End of Season (EOS) day =\", stats['End of Season'])\n",
    "    print(\"Middle of Season (MOS) day =\", stats['Middle of Season'])\n",
    "    print(\"Length of Season (abs(EOS-BOS)) in days =\", stats['Length of Season'])\n",
    "    print(\"Base Value (Min) =\", stats['Base Value'])\n",
    "    print(\"Max Value (Max) =\", stats['Max Value'])\n",
    "    print(\"Amplitude (Max-Min) =\", stats['Amplitude'])\n",
    "    print()"
   ]
  },
  {
   "cell_type": "markdown",
   "metadata": {},
   "source": [
    "***\n",
    "\n",
    "## Additional information\n",
    "\n",
    "**License:** The code in this notebook is licensed under the [Apache License, Version 2.0](https://www.apache.org/licenses/LICENSE-2.0). \n",
    "Digital Earth Africa data is licensed under the [Creative Commons by Attribution 4.0](https://creativecommons.org/licenses/by/4.0/) license.\n",
    "\n",
    "**Contact:** If you need assistance, please post a question on the [Open Data Cube Slack channel](http://slack.opendatacube.org/) or on the [GIS Stack Exchange](https://gis.stackexchange.com/questions/ask?tags=open-data-cube) using the `open-data-cube` tag (you can view previously asked questions [here](https://gis.stackexchange.com/questions/tagged/open-data-cube)).\n",
    "If you would like to report an issue with this notebook, you can file one on [Github](https://github.com/digitalearthafrica/deafrica-sandbox-notebooks).\n",
    "\n",
    "**Last modified:** April 2020\n",
    "\n",
    "**Compatible datacube version:** "
   ]
  },
  {
   "cell_type": "code",
   "execution_count": null,
   "metadata": {},
   "outputs": [],
   "source": [
    "print(datacube.__version__)"
   ]
  },
  {
   "cell_type": "markdown",
   "metadata": {},
   "source": [
    "## Tags\n",
    "Browse all available tags on the DE Africa User Guide's [Tags Index](https://) (placeholder as this does not exist yet)"
   ]
  },
  {
   "cell_type": "raw",
   "metadata": {
    "raw_mimetype": "text/restructuredtext"
   },
   "source": [
    "**Tags**:  :index:`landsat 8`, :index:`deafrica_plotting`, :index:`deafrica_bandindices`, :index:`from deafrica_datahandling`, :index:`load_ard`, :index:`calculate_indices`, :index:`display_map`, :index:`NDVI`, :index:`EVI`, :index:`time series`, :index:`phenology`, :index:`vegetation`, :index:`real world`"
   ]
  }
 ],
 "metadata": {
  "kernelspec": {
   "display_name": "Python 3",
   "language": "python",
   "name": "python3"
  },
  "language_info": {
   "codemirror_mode": {
    "name": "ipython",
    "version": 3
   },
   "file_extension": ".py",
   "mimetype": "text/x-python",
   "name": "python",
   "nbconvert_exporter": "python",
   "pygments_lexer": "ipython3",
   "version": "3.6.9"
  },
  "widgets": {
   "application/vnd.jupyter.widget-state+json": {
    "state": {},
    "version_major": 2,
    "version_minor": 0
   }
  }
 },
 "nbformat": 4,
 "nbformat_minor": 4
}
