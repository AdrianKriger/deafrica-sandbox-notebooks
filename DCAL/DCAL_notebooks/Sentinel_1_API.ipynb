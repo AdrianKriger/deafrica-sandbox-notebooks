{
 "cells": [
  {
   "cell_type": "markdown",
   "metadata": {},
   "source": [
    "# API Request for Connection to Sentinel Hub "
   ]
  },
  {
   "cell_type": "markdown",
   "metadata": {},
   "source": [
    "## Sentinel-1AB Collection Available in Synergise API"
   ]
  },
  {
   "cell_type": "markdown",
   "metadata": {},
   "source": [
    "## Introduction to Sentinel Hub"
   ]
  },
  {
   "cell_type": "markdown",
   "metadata": {},
   "source": [
    "Sentinel Hub is a multi-spectral and multi-temporal big data satellite imagery service, capable of fully automated archiving, real-time processing and distribution of remote sensing data and related Earth Observation products.It is an engine for processing of petabytes of satellite data that opens the door for machine learning and helping hundreds of application developers worldwide. It makes Sentinel, Landsat, and other Earth observation imagery easily accessible for browsing, visualization and analysis. Sentinel Hub is operated by Sinergise company that have developed enterprise level spatial solutions for governmental clients in Europe and Africa. Sinergise is headquartered in Ljubljana, Slovenia, and has subsidiaries in Czech Republic, Moldova and Serbia. More information on Sentinel Hub can be found [here](https://www.sentinel-hub.com/explore).\n",
    "Users can use available APIs to retrieve satellite data over their Area of Interest (AOI) and specific time range from full archives in a matter of seconds."
   ]
  },
  {
   "cell_type": "markdown",
   "metadata": {},
   "source": [
    "## Data Availibility "
   ]
  },
  {
   "cell_type": "markdown",
   "metadata": {},
   "source": [
    "Sentinel Hub API is available in several deployments including:\n",
    "- Main Sentinel Hub deployment - EU-1-Central region \n",
    "- Main Sentinel Hub deployment - US-West-2 region\n",
    "- CreoDIAS Sentinel Hub deployment\n",
    "- EOCloud Sentinel Hub deployment\n",
    "\n",
    "put something for API [endpoints](https://docs.sentinel-hub.com/api/latest/#/data/)\n",
    "\n",
    "Synergise has two pipelines for Sentinel-1 GRD data : one pipeline is managed on Amazon Web Services since January 2017 in COG format and for Central Europe and the other pipeline is managed on CreoDIAS with complete archive and in original form.Both pipelines are available through [Sentinel Hub API](https://docs.sentinel-hub.com/api/latest/#/) that supports processing a typical 512x512 px tile in one second aka “live” processing and [batch processing](https://docs.sentinel-hub.com/api/latest/#/BATCH_API/batch_processor) using the latest technology.\n"
   ]
  },
  {
   "cell_type": "markdown",
   "metadata": {},
   "source": [
    "## Import Dependencies"
   ]
  },
  {
   "cell_type": "code",
   "execution_count": 1,
   "metadata": {},
   "outputs": [],
   "source": [
    "import requests\n",
    "from oauthlib.oauth2 import BackendApplicationClient\n",
    "from requests_oauthlib import OAuth2Session"
   ]
  },
  {
   "cell_type": "markdown",
   "metadata": {},
   "source": [
    "##### Note: Following registration to  [\"Seninel Hub\"](https://www.sentinel-hub.com/) you can use the dashboard to get user specific client_id and client_secret."
   ]
  },
  {
   "cell_type": "code",
   "execution_count": 29,
   "metadata": {},
   "outputs": [],
   "source": [
    "client_id = ''\n",
    "client_secret = ''"
   ]
  },
  {
   "cell_type": "code",
   "execution_count": 30,
   "metadata": {},
   "outputs": [],
   "source": [
    "client = BackendApplicationClient(client_id=client_id)\n",
    "oauth = OAuth2Session(client=client)"
   ]
  },
  {
   "cell_type": "code",
   "execution_count": 31,
   "metadata": {},
   "outputs": [],
   "source": [
    "token = oauth.fetch_token(token_url='https://services.sentinel-hub.com/oauth/token', client_id=client_id,client_secret=client_secret)"
   ]
  },
  {
   "cell_type": "code",
   "execution_count": 32,
   "metadata": {},
   "outputs": [],
   "source": [
    "resp = oauth.get(\"https://services.sentinel-hub.com/oauth/tokeninfo\")"
   ]
  },
  {
   "cell_type": "markdown",
   "metadata": {},
   "source": [
    "###  Two-month Temporal Average on S1GRD Orthorectified Gamma0 in VV polarization"
   ]
  },
  {
   "cell_type": "code",
   "execution_count": 33,
   "metadata": {},
   "outputs": [
    {
     "name": "stdout",
     "output_type": "stream",
     "text": [
      "<Response [200]>\n"
     ]
    }
   ],
   "source": [
    "url = \"https://services.sentinel-hub.com/api/v1/process\" \n",
    "headers = {\n",
    "    \"Authorization\": f\"Bearer {token['access_token']}\"\n",
    "}\n",
    "evalscript = \"\"\"\n",
    "//VERSION=3\n",
    "\n",
    "function setup() {\n",
    "  return {\n",
    "    input: [\"VV\", \"dataMask\"],\n",
    "    output: {id:\"default\", bands: 1},\n",
    "    mosaicking: Mosaicking.ORBIT\n",
    "    }\n",
    "}\n",
    "\n",
    "function evaluatePixel(samples) {\n",
    "  return [calculateAverage(samples)]\n",
    "}\n",
    "\n",
    "function calculateAverage(samples) {\n",
    "  var sum = 0;\n",
    "  var nValid = 0;\n",
    "  for (let i = 0; i < samples.length; i++) {\n",
    "    var sample = samples[i];\n",
    "    if (sample.dataMask != 0) {\n",
    "      nValid++;\n",
    "      sum += toDb(sample.VV);\n",
    "    }\n",
    "  }\n",
    "  return sum / nValid;\n",
    "}\n",
    "\n",
    "function toDb(linear) {\n",
    "  return Math.max(0, Math.log(linear) * 0.21714724095 + 1)\n",
    "}\n",
    "\"\"\".rstrip()\n",
    "\n",
    "data = {\n",
    "    \"input\": {\n",
    "        \"bounds\":{\n",
    "            \"bbox\":[\n",
    "                1360000,5121900,1370000,5131900\n",
    "            ],\n",
    "            \"properties\":{\n",
    "                \"crs\":\"http://www.opengis.net/def/crs/EPSG/0/3857\"\n",
    "            }\n",
    "        },\n",
    "        \"data\": [\n",
    "            {\n",
    "                \"type\":\"S1GRD\",\n",
    "                \"dataFilter\":{\n",
    "                    \"timeRange\":{\n",
    "                        \"from\":\"2020-02-01T00:00:00Z\",\n",
    "                        \"to\":\"2020-04-02T23:59:59Z\"\n",
    "                    },\n",
    "                    \"orbitDirection\": \"ASCENDING\"\n",
    "                },\n",
    "                \"processing\":{\n",
    "                    \"orthorectify\": \"true\"\n",
    "                }\n",
    "            }\n",
    "        ]\n",
    "    },\n",
    "    \"output\": {\n",
    "        \"width\":512,\n",
    "        \"height\":512,\n",
    "        \"response\":[\n",
    "            {\n",
    "                \"identifier\": \"default\",\n",
    "                \"format\":{\n",
    "                    \"type\":\"image/png\"\n",
    "                }\n",
    "            }\n",
    "        ]\n",
    "    },\n",
    "    \"evalscript\": evalscript\n",
    "}\n",
    "response = requests.post(url, json=data, headers=headers)\n",
    "print(response)"
   ]
  },
  {
   "cell_type": "code",
   "execution_count": 34,
   "metadata": {},
   "outputs": [],
   "source": [
    "if response.status_code == 200:\n",
    "    with open('TemporalAverage_S1_VV2.tif', 'wb') as f:\n",
    "        for chunk in response:\n",
    "            f.write(chunk)"
   ]
  },
  {
   "cell_type": "code",
   "execution_count": null,
   "metadata": {},
   "outputs": [],
   "source": []
  }
 ],
 "metadata": {
  "kernelspec": {
   "display_name": "Python 3",
   "language": "python",
   "name": "python3"
  },
  "language_info": {
   "codemirror_mode": {
    "name": "ipython",
    "version": 3
   },
   "file_extension": ".py",
   "mimetype": "text/x-python",
   "name": "python",
   "nbconvert_exporter": "python",
   "pygments_lexer": "ipython3",
   "version": "3.6.9"
  }
 },
 "nbformat": 4,
 "nbformat_minor": 4
}
