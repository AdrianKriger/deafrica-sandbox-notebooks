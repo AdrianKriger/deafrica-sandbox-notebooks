{
 "cells": [
  {
   "cell_type": "markdown",
   "metadata": {},
   "source": [
    "# Generating training data composites \n",
    "\n",
    "These composites are for use in collecting training data. Implementing geomedian composites\n"
   ]
  },
  {
   "cell_type": "markdown",
   "metadata": {},
   "source": [
    "### Load packages"
   ]
  },
  {
   "cell_type": "code",
   "execution_count": 1,
   "metadata": {},
   "outputs": [],
   "source": [
    "%matplotlib inline\n",
    "\n",
    "import numpy as np\n",
    "import geopandas as gpd\n",
    "import datacube\n",
    "from odc.algo import to_f32, from_float, xr_geomedian\n",
    "from datacube.utils import geometry\n",
    "from datacube.helpers import write_geotiff\n",
    "import warnings\n",
    "warnings.filterwarnings(\"ignore\")\n",
    "\n",
    "import sys\n",
    "sys.path.append('../Scripts')\n",
    "from deafrica_datahandling import load_ard\n",
    "from deafrica_dask import create_local_dask_cluster\n",
    "from deafrica_spatialtools import xr_rasterize\n",
    "from deafrica_classificationtools import HiddenPrints\n",
    "from deafrica_plotting import map_shapefile"
   ]
  },
  {
   "cell_type": "markdown",
   "metadata": {},
   "source": [
    "### Set up a dask cluster"
   ]
  },
  {
   "cell_type": "code",
   "execution_count": 2,
   "metadata": {},
   "outputs": [
    {
     "data": {
      "text/html": [
       "<table style=\"border: 2px solid white;\">\n",
       "<tr>\n",
       "<td style=\"vertical-align: top; border: 0px solid white\">\n",
       "<h3 style=\"text-align: left;\">Client</h3>\n",
       "<ul style=\"text-align: left; list-style: none; margin: 0; padding: 0;\">\n",
       "  <li><b>Scheduler: </b>tcp://127.0.0.1:42095</li>\n",
       "  <li><b>Dashboard: </b><a href='/user/chad/proxy/8787/status' target='_blank'>/user/chad/proxy/8787/status</a>\n",
       "</ul>\n",
       "</td>\n",
       "<td style=\"vertical-align: top; border: 0px solid white\">\n",
       "<h3 style=\"text-align: left;\">Cluster</h3>\n",
       "<ul style=\"text-align: left; list-style:none; margin: 0; padding: 0;\">\n",
       "  <li><b>Workers: </b>1</li>\n",
       "  <li><b>Cores: </b>2</li>\n",
       "  <li><b>Memory: </b>14.18 GB</li>\n",
       "</ul>\n",
       "</td>\n",
       "</tr>\n",
       "</table>"
      ],
      "text/plain": [
       "<Client: 'tcp://127.0.0.1:42095' processes=1 threads=2, memory=14.18 GB>"
      ]
     },
     "metadata": {},
     "output_type": "display_data"
    }
   ],
   "source": [
    "create_local_dask_cluster(aws_unsigned=False)"
   ]
  },
  {
   "cell_type": "markdown",
   "metadata": {},
   "source": [
    "### Connect to the datacube"
   ]
  },
  {
   "cell_type": "code",
   "execution_count": 3,
   "metadata": {},
   "outputs": [],
   "source": [
    "dc = datacube.Datacube(app='Geomedian_composites')"
   ]
  },
  {
   "cell_type": "markdown",
   "metadata": {},
   "source": [
    "## Analysis Parameters"
   ]
  },
  {
   "cell_type": "code",
   "execution_count": 4,
   "metadata": {},
   "outputs": [],
   "source": [
    "time_range = ('2018')\n",
    "\n",
    "vector_file = 'data/tiles.shp'\n",
    "attribute_col = 'id'\n",
    "aez_region = 'data/AEZs/Southern.shp'\n",
    "\n",
    "products = ['usgs_ls8c_level2_2']\n",
    "measurements = ['red', 'green', 'blue', 'nir', 'swir1', 'swir2']\n",
    "resolution = (-30, 30)\n",
    "output_crs = 'EPSG:6933'\n",
    "align = (15, 15)\n",
    "dask_chunks= {'x':1000, 'y':1000, 'time':1}\n",
    "\n",
    "export_prefix=\"data/training_validation/geomedians/Southern/Southern_geomedian_tile-\""
   ]
  },
  {
   "cell_type": "markdown",
   "metadata": {},
   "source": [
    "### Set up a query"
   ]
  },
  {
   "cell_type": "code",
   "execution_count": 5,
   "metadata": {},
   "outputs": [
    {
     "data": {
      "text/plain": [
       "{'time': '2018',\n",
       " 'measurements': ['red', 'green', 'blue', 'nir', 'swir1', 'swir2'],\n",
       " 'resolution': (-30, 30),\n",
       " 'output_crs': 'EPSG:6933',\n",
       " 'align': (15, 15),\n",
       " 'dask_chunks': {'x': 1000, 'y': 1000, 'time': 1}}"
      ]
     },
     "execution_count": 5,
     "metadata": {},
     "output_type": "execute_result"
    }
   ],
   "source": [
    "# Create a reusable query\n",
    "query = {'time': time_range,\n",
    "         'measurements': measurements,\n",
    "         'resolution': resolution,\n",
    "         'output_crs': output_crs,\n",
    "         'align': align,\n",
    "         'dask_chunks':dask_chunks\n",
    "         }\n",
    "\n",
    "query"
   ]
  },
  {
   "cell_type": "markdown",
   "metadata": {},
   "source": [
    "### Open and clip shapefiles\n",
    "\n",
    "Open `tiles.shp` and clip it to the boundary shapefile (in this example the `aez_region`)\n"
   ]
  },
  {
   "cell_type": "code",
   "execution_count": 6,
   "metadata": {},
   "outputs": [],
   "source": [
    "#read shapefile\n",
    "gdf = gpd.read_file(vector_file)\n",
    "\n",
    "#open shapefile\n",
    "aez=gpd.read_file(aez_region)\n",
    "\n",
    "# clip points to region\n",
    "gdf = gpd.overlay(gdf, aez, how='intersection')"
   ]
  },
  {
   "cell_type": "markdown",
   "metadata": {},
   "source": [
    "### Add a unique identifier\n",
    "\n",
    "and plot the tiles using `map_shapefile`, you can hover your mouse over the tiles to see the ID "
   ]
  },
  {
   "cell_type": "code",
   "execution_count": 7,
   "metadata": {},
   "outputs": [
    {
     "data": {
      "application/vnd.jupyter.widget-view+json": {
       "model_id": "5c9b2440bdb44124a1bab89618984b09",
       "version_major": 2,
       "version_minor": 0
      },
      "text/plain": [
       "Label(value='')"
      ]
     },
     "metadata": {},
     "output_type": "display_data"
    },
    {
     "data": {
      "application/vnd.jupyter.widget-view+json": {
       "model_id": "0d5edb2dbd2948a98a8fb48c2df733e3",
       "version_major": 2,
       "version_minor": 0
      },
      "text/plain": [
       "Map(basemap={'url': 'http://server.arcgisonline.com/ArcGIS/rest/services/World_Imagery/MapServer/tile/{z}/{y}/…"
      ]
     },
     "metadata": {},
     "output_type": "display_data"
    }
   ],
   "source": [
    "# add an ID column\n",
    "gdf[attribute_col]=range(0, len(gdf))\n",
    "\n",
    "#print gdf\n",
    "map_shapefile(gdf, attribute_col)"
   ]
  },
  {
   "cell_type": "markdown",
   "metadata": {},
   "source": [
    "#### Enter a list of tile indexes to load"
   ]
  },
  {
   "cell_type": "code",
   "execution_count": 8,
   "metadata": {},
   "outputs": [],
   "source": [
    "tiles_to_load = [178,238]"
   ]
  },
  {
   "cell_type": "markdown",
   "metadata": {},
   "source": [
    "### Generate a geomedian composite\n",
    "\n",
    "Load data for each tile, calculate geomedian using `xr_geomedian` and export file as geotiff"
   ]
  },
  {
   "cell_type": "code",
   "execution_count": null,
   "metadata": {},
   "outputs": [
    {
     "name": "stdout",
     "output_type": "stream",
     "text": [
      "Working on tile: 178\n"
     ]
    }
   ],
   "source": [
    "%%time\n",
    "\n",
    "# Loop through polygons in geodataframe and extract satellite data\n",
    "for index, row in gdf.iloc[gdf['id'].loc[tiles_to_load]].iterrows():\n",
    "    \n",
    "    print(\"Working on tile: \"+str(gdf['id'][index]))\n",
    "    \n",
    "    # Get the geometry\n",
    "    geom = geometry.Geometry(row.geometry.__geo_interface__,\n",
    "                             geometry.CRS(f'EPSG:{gdf.crs.to_epsg()}'))\n",
    "    \n",
    "    # Update dc query with geometry      \n",
    "    query.update({'geopolygon': geom}) \n",
    "    \n",
    "    with HiddenPrints():\n",
    "        ds = load_ard(dc=dc, \n",
    "                          products=products,                 \n",
    "                          group_by='solar_day',\n",
    "                          **query)\n",
    "    \n",
    "    # Generate a polygon mask to keep only data within the polygon\n",
    "    with HiddenPrints():\n",
    "        mask = xr_rasterize(gdf.iloc[[index]], ds)\n",
    "    \n",
    "    # Mask dataset to set pixels outside the polygon to `NaN`\n",
    "    ds = ds.where(mask)\n",
    "    \n",
    "    sr_max_value = 65455                 # maximum value for SR in the loaded product\n",
    "    scale, offset = (1/sr_max_value, 0)  # differs per product, aim for 0-1 values in float32\n",
    "\n",
    "    #scale the values using the f_32 util function\n",
    "    ds_scaled = to_f32(ds,\n",
    "                       scale=scale,\n",
    "                       offset=offset)\n",
    "    #generate a geomedian\n",
    "    geomedian = xr_geomedian(ds_scaled, \n",
    "                             num_threads=1,  \n",
    "                             eps=1e-7,  \n",
    "                             nocheck=True)\n",
    "    \n",
    "    geomedian = geomedian.compute()\n",
    "      \n",
    "    #convert SR scaling values back to original values\n",
    "    geomedian = from_float(geomedian, \n",
    "                           dtype='float32', \n",
    "                           nodata=np.nan, \n",
    "                           scale=1/scale, \n",
    "                           offset=-offset/scale)\n",
    "        \n",
    "    print(\"     Writing to file...\")\n",
    "    write_geotiff(export_prefix+str(row[attribute_col]) + '.tif', \n",
    "                  geomedian)\n",
    "    "
   ]
  },
  {
   "cell_type": "code",
   "execution_count": null,
   "metadata": {},
   "outputs": [],
   "source": []
  },
  {
   "cell_type": "code",
   "execution_count": null,
   "metadata": {},
   "outputs": [],
   "source": []
  },
  {
   "cell_type": "code",
   "execution_count": null,
   "metadata": {},
   "outputs": [],
   "source": []
  },
  {
   "cell_type": "markdown",
   "metadata": {},
   "source": [
    "---\n",
    "Code to get geojson from datacube UI "
   ]
  },
  {
   "cell_type": "code",
   "execution_count": null,
   "metadata": {},
   "outputs": [],
   "source": [
    "# from datacube import Datacube\n",
    "# from odc.ui import DcViewer\n",
    "# dc = Datacube()\n",
    "# ui = DcViewer(dc, \"2018\", products=['ga_ls8c_gm_2_annual'])\n",
    "# ui\n",
    "\n",
    "# x = ui._gui.map.layers[1].data\n",
    "\n",
    "# from shapely.geometry import shape\n",
    "# geom = [shape(i) for i in x['features']]\n",
    "# gdf = gpd.GeoDataFrame({'geometry':geom}, crs='EPSG:4326')\n",
    "# gdf.to_file('data/tiles.shp')"
   ]
  }
 ],
 "metadata": {
  "kernelspec": {
   "display_name": "Python 3",
   "language": "python",
   "name": "python3"
  },
  "language_info": {
   "codemirror_mode": {
    "name": "ipython",
    "version": 3
   },
   "file_extension": ".py",
   "mimetype": "text/x-python",
   "name": "python",
   "nbconvert_exporter": "python",
   "pygments_lexer": "ipython3",
   "version": "3.6.9"
  },
  "widgets": {
   "application/vnd.jupyter.widget-state+json": {
    "state": {},
    "version_major": 2,
    "version_minor": 0
   }
  }
 },
 "nbformat": 4,
 "nbformat_minor": 4
}
