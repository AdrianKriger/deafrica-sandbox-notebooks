{
 "cells": [
  {
   "cell_type": "markdown",
   "metadata": {},
   "source": [
    "# Generating geomedian composites\n",
    "\n",
    "These composites are for use in collecting training data.\n"
   ]
  },
  {
   "cell_type": "markdown",
   "metadata": {},
   "source": [
    "### Load packages"
   ]
  },
  {
   "cell_type": "code",
   "execution_count": 1,
   "metadata": {},
   "outputs": [],
   "source": [
    "%matplotlib inline\n",
    "\n",
    "import numpy as np\n",
    "import geopandas as gpd\n",
    "import datacube\n",
    "from odc.algo import to_f32, from_float, xr_geomedian\n",
    "from datacube.utils import geometry\n",
    "from datacube.helpers import write_geotiff\n",
    "import warnings\n",
    "warnings.filterwarnings(\"ignore\")\n",
    "\n",
    "import sys\n",
    "sys.path.append('../Scripts')\n",
    "from deafrica_datahandling import load_ard\n",
    "from deafrica_dask import create_local_dask_cluster\n",
    "from deafrica_spatialtools import xr_rasterize\n",
    "from deafrica_classificationtools import HiddenPrints"
   ]
  },
  {
   "cell_type": "markdown",
   "metadata": {},
   "source": [
    "### Set up a dask cluster"
   ]
  },
  {
   "cell_type": "code",
   "execution_count": 2,
   "metadata": {},
   "outputs": [
    {
     "data": {
      "text/html": [
       "<table style=\"border: 2px solid white;\">\n",
       "<tr>\n",
       "<td style=\"vertical-align: top; border: 0px solid white\">\n",
       "<h3 style=\"text-align: left;\">Client</h3>\n",
       "<ul style=\"text-align: left; list-style: none; margin: 0; padding: 0;\">\n",
       "  <li><b>Scheduler: </b>tcp://127.0.0.1:46025</li>\n",
       "  <li><b>Dashboard: </b><a href='/user/chad/proxy/8787/status' target='_blank'>/user/chad/proxy/8787/status</a>\n",
       "</ul>\n",
       "</td>\n",
       "<td style=\"vertical-align: top; border: 0px solid white\">\n",
       "<h3 style=\"text-align: left;\">Cluster</h3>\n",
       "<ul style=\"text-align: left; list-style:none; margin: 0; padding: 0;\">\n",
       "  <li><b>Workers: </b>1</li>\n",
       "  <li><b>Cores: </b>15</li>\n",
       "  <li><b>Memory: </b>104.37 GB</li>\n",
       "</ul>\n",
       "</td>\n",
       "</tr>\n",
       "</table>"
      ],
      "text/plain": [
       "<Client: 'tcp://127.0.0.1:46025' processes=1 threads=15, memory=104.37 GB>"
      ]
     },
     "metadata": {},
     "output_type": "display_data"
    }
   ],
   "source": [
    "create_local_dask_cluster(aws_unsigned=False)"
   ]
  },
  {
   "cell_type": "markdown",
   "metadata": {},
   "source": [
    "### Connect to the datacube"
   ]
  },
  {
   "cell_type": "code",
   "execution_count": 3,
   "metadata": {},
   "outputs": [],
   "source": [
    "dc = datacube.Datacube(app='Geomedian_composites')"
   ]
  },
  {
   "cell_type": "code",
   "execution_count": 4,
   "metadata": {},
   "outputs": [],
   "source": [
    "time_range = ('2018')\n",
    "\n",
    "vector_file = 'data/tiles.shp'\n",
    "attribute_col = 'id'\n",
    "aez_region = 'data/AEZs/Southern.shp'\n",
    "\n",
    "products = ['usgs_ls8c_level2_2']\n",
    "measurements = ['red', 'green', 'blue', 'nir', 'swir1', 'swir2']\n",
    "resolution = (-30, 30)\n",
    "output_crs = 'EPSG:6933'\n",
    "align = (15, 15)\n",
    "dask_chunks= {'x':1500, 'y':1500, 'time':1}\n",
    "\n",
    "export_prefix=\"data/training_validation/geomedians/Southern/Southern_geomedian_tile-\""
   ]
  },
  {
   "cell_type": "code",
   "execution_count": 5,
   "metadata": {},
   "outputs": [
    {
     "data": {
      "text/plain": [
       "{'time': '2018',\n",
       " 'measurements': ['red', 'green', 'blue', 'nir', 'swir1', 'swir2'],\n",
       " 'resolution': (-30, 30),\n",
       " 'output_crs': 'EPSG:6933',\n",
       " 'align': (15, 15),\n",
       " 'dask_chunks': {'x': 1500, 'y': 1500, 'time': 1}}"
      ]
     },
     "execution_count": 5,
     "metadata": {},
     "output_type": "execute_result"
    }
   ],
   "source": [
    "# Create a reusable query\n",
    "query = {'time': time_range,\n",
    "         'measurements': measurements,\n",
    "         'resolution': resolution,\n",
    "         'output_crs': output_crs,\n",
    "         'align': align,\n",
    "         'dask_chunks':dask_chunks\n",
    "         }\n",
    "\n",
    "query"
   ]
  },
  {
   "cell_type": "code",
   "execution_count": 6,
   "metadata": {},
   "outputs": [
    {
     "data": {
      "text/html": [
       "<div>\n",
       "<style scoped>\n",
       "    .dataframe tbody tr th:only-of-type {\n",
       "        vertical-align: middle;\n",
       "    }\n",
       "\n",
       "    .dataframe tbody tr th {\n",
       "        vertical-align: top;\n",
       "    }\n",
       "\n",
       "    .dataframe thead th {\n",
       "        text-align: right;\n",
       "    }\n",
       "</style>\n",
       "<table border=\"1\" class=\"dataframe\">\n",
       "  <thead>\n",
       "    <tr style=\"text-align: right;\">\n",
       "      <th></th>\n",
       "      <th>FID</th>\n",
       "      <th>geometry</th>\n",
       "      <th>id</th>\n",
       "    </tr>\n",
       "  </thead>\n",
       "  <tbody>\n",
       "    <tr>\n",
       "      <th>0</th>\n",
       "      <td>0</td>\n",
       "      <td>POLYGON ((-15.54625 28.13338, -15.54625 29.471...</td>\n",
       "      <td>0</td>\n",
       "    </tr>\n",
       "    <tr>\n",
       "      <th>1</th>\n",
       "      <td>1</td>\n",
       "      <td>POLYGON ((-1.55463 29.47104, -1.55463 30.82621...</td>\n",
       "      <td>1</td>\n",
       "    </tr>\n",
       "    <tr>\n",
       "      <th>2</th>\n",
       "      <td>2</td>\n",
       "      <td>POLYGON ((-3.10925 28.13338, -3.10925 29.47104...</td>\n",
       "      <td>2</td>\n",
       "    </tr>\n",
       "    <tr>\n",
       "      <th>3</th>\n",
       "      <td>3</td>\n",
       "      <td>POLYGON ((-1.55463 28.13338, -1.55463 29.47104...</td>\n",
       "      <td>3</td>\n",
       "    </tr>\n",
       "    <tr>\n",
       "      <th>4</th>\n",
       "      <td>4</td>\n",
       "      <td>POLYGON ((-3.10925 29.47104, -3.10925 30.82621...</td>\n",
       "      <td>4</td>\n",
       "    </tr>\n",
       "  </tbody>\n",
       "</table>\n",
       "</div>"
      ],
      "text/plain": [
       "   FID                                           geometry  id\n",
       "0    0  POLYGON ((-15.54625 28.13338, -15.54625 29.471...   0\n",
       "1    1  POLYGON ((-1.55463 29.47104, -1.55463 30.82621...   1\n",
       "2    2  POLYGON ((-3.10925 28.13338, -3.10925 29.47104...   2\n",
       "3    3  POLYGON ((-1.55463 28.13338, -1.55463 29.47104...   3\n",
       "4    4  POLYGON ((-3.10925 29.47104, -3.10925 30.82621...   4"
      ]
     },
     "execution_count": 6,
     "metadata": {},
     "output_type": "execute_result"
    }
   ],
   "source": [
    "#read shapefile\n",
    "gdf = gpd.read_file(vector_file)\n",
    "\n",
    "# add an ID column\n",
    "gdf[attribute_col]=range(0, len(gdf))\n",
    "\n",
    "#print gdf\n",
    "gdf.head()"
   ]
  },
  {
   "cell_type": "markdown",
   "metadata": {},
   "source": [
    "Clip to region of interest"
   ]
  },
  {
   "cell_type": "code",
   "execution_count": 7,
   "metadata": {},
   "outputs": [
    {
     "data": {
      "text/plain": [
       "<matplotlib.axes._subplots.AxesSubplot at 0x7f5a741035f8>"
      ]
     },
     "execution_count": 7,
     "metadata": {},
     "output_type": "execute_result"
    },
    {
     "data": {
      "image/png": "[encoded data removed]",
      "text/plain": [
       "<Figure size 432x288 with 1 Axes>"
      ]
     },
     "metadata": {
      "needs_background": "light"
     },
     "output_type": "display_data"
    }
   ],
   "source": [
    "#open shapefile\n",
    "aez=gpd.read_file(aez_region)\n",
    "# clip points to region\n",
    "gdf = gpd.overlay(gdf, aez, how='intersection')\n",
    "\n",
    "gdf.plot()"
   ]
  },
  {
   "cell_type": "code",
   "execution_count": 8,
   "metadata": {},
   "outputs": [
    {
     "name": "stdout",
     "output_type": "stream",
     "text": [
      " Feature 04/257\r"
     ]
    }
   ],
   "source": [
    "%%time\n",
    "# A progress indicator\n",
    "i = 0\n",
    "\n",
    "# Loop through polygons in geodataframe and extract satellite data\n",
    "for index, row in gdf[9:13].iterrows():\n",
    "    \n",
    "    print(\" Feature {:02}/{:02}\\r\".format(i + 1, len(gdf)),\n",
    "                  end='')\n",
    "    \n",
    "    # Get the geometry\n",
    "    geom = geometry.Geometry(row.geometry.__geo_interface__,\n",
    "                             geometry.CRS(f'EPSG:{gdf.crs.to_epsg()}'))\n",
    "    \n",
    "    # Update dc query with geometry      \n",
    "    query.update({'geopolygon': geom}) \n",
    "    \n",
    "    with HiddenPrints():\n",
    "        ds = load_ard(dc=dc, \n",
    "                          products=products,                 \n",
    "                          group_by='solar_day',\n",
    "                          **query)\n",
    "    \n",
    "    # Generate a polygon mask to keep only data within the polygon\n",
    "    with HiddenPrints():\n",
    "        mask = xr_rasterize(gdf.iloc[[index]], ds)\n",
    "    \n",
    "    # Mask dataset to set pixels outside the polygon to `NaN`\n",
    "    ds = ds.where(mask)\n",
    "    \n",
    "    sr_max_value = 65455                 # maximum value for SR in the loaded product\n",
    "    scale, offset = (1/sr_max_value, 0)  # differs per product, aim for 0-1 values in float32\n",
    "\n",
    "    #scale the values using the f_32 util function\n",
    "    ds_scaled = to_f32(ds,\n",
    "                       scale=scale,\n",
    "                       offset=offset)\n",
    "    #generate a geomedian\n",
    "    geomedian = xr_geomedian(ds_scaled, \n",
    "                             num_threads=1,  \n",
    "                             eps=1e-7,  \n",
    "                             nocheck=True)\n",
    "    \n",
    "    geomedian = geomedian.compute()\n",
    "    \n",
    "    #convert SR scaling values back to original values\n",
    "    geomedian = from_float(geomedian, \n",
    "                           dtype='float32', \n",
    "                           nodata=np.nan, \n",
    "                           scale=1/scale, \n",
    "                           offset=-offset/scale)\n",
    "    \n",
    "    write_geotiff(export_prefix+str(row[attribute_col]) + '.tif', \n",
    "                  geomedian)\n",
    "    \n",
    "    # Update counter\n",
    "    i += 1\n",
    "    "
   ]
  },
  {
   "cell_type": "code",
   "execution_count": null,
   "metadata": {},
   "outputs": [],
   "source": []
  },
  {
   "cell_type": "code",
   "execution_count": null,
   "metadata": {},
   "outputs": [],
   "source": []
  },
  {
   "cell_type": "code",
   "execution_count": null,
   "metadata": {},
   "outputs": [],
   "source": []
  },
  {
   "cell_type": "markdown",
   "metadata": {},
   "source": [
    "---\n",
    "Code to get geojson from datacube UI "
   ]
  },
  {
   "cell_type": "code",
   "execution_count": null,
   "metadata": {},
   "outputs": [],
   "source": [
    "# from datacube import Datacube\n",
    "# from odc.ui import DcViewer\n",
    "# dc = Datacube()\n",
    "# ui = DcViewer(dc, \"2018\", products=['ga_ls8c_gm_2_annual'])\n",
    "# ui\n",
    "\n",
    "# x = ui._gui.map.layers[1].data\n",
    "\n",
    "# from shapely.geometry import shape\n",
    "# geom = [shape(i) for i in x['features']]\n",
    "# gdf = gpd.GeoDataFrame({'geometry':geom}, crs='EPSG:4326')\n",
    "# gdf.to_file('data/tiles.shp')"
   ]
  }
 ],
 "metadata": {
  "kernelspec": {
   "display_name": "Python 3",
   "language": "python",
   "name": "python3"
  },
  "language_info": {
   "codemirror_mode": {
    "name": "ipython",
    "version": 3
   },
   "file_extension": ".py",
   "mimetype": "text/x-python",
   "name": "python",
   "nbconvert_exporter": "python",
   "pygments_lexer": "ipython3",
   "version": "3.6.9"
  },
  "widgets": {
   "application/vnd.jupyter.widget-state+json": {
    "state": {},
    "version_major": 2,
    "version_minor": 0
   }
  }
 },
 "nbformat": 4,
 "nbformat_minor": 4
}
