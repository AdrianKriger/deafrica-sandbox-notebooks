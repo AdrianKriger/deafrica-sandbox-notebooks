{
 "cells": [
  {
   "cell_type": "markdown",
   "metadata": {},
   "source": [
    "# Generating geomedian composites\n",
    "\n",
    "These composites are for use in collecting training data.\n"
   ]
  },
  {
   "cell_type": "markdown",
   "metadata": {},
   "source": [
    "### Load packages"
   ]
  },
  {
   "cell_type": "code",
   "execution_count": null,
   "metadata": {},
   "outputs": [],
   "source": [
    "%matplotlib inline\n",
    "\n",
    "import numpy as np\n",
    "import geopandas as gpd\n",
    "import datacube\n",
    "from odc.algo import to_f32, from_float, xr_geomedian\n",
    "from datacube.utils import geometry\n",
    "import warnings\n",
    "warnings.filterwarnings(\"ignore\")\n",
    "\n",
    "import sys\n",
    "sys.path.append('../Scripts')\n",
    "from deafrica_datahandling import load_ard, mostcommon_crs\n",
    "from deafrica_plotting import rgb, display_map\n",
    "from deafrica_dask import create_local_dask_cluster\n",
    "from deafrica_spatialtools import xr_rasterize\n",
    "from deafrica_classificationtools import HiddenPrints"
   ]
  },
  {
   "cell_type": "markdown",
   "metadata": {},
   "source": [
    "### Set up a dask cluster"
   ]
  },
  {
   "cell_type": "code",
   "execution_count": null,
   "metadata": {},
   "outputs": [],
   "source": [
    "create_local_dask_cluster(aws_unsigned=True)"
   ]
  },
  {
   "cell_type": "markdown",
   "metadata": {},
   "source": [
    "### Connect to the datacube"
   ]
  },
  {
   "cell_type": "code",
   "execution_count": null,
   "metadata": {},
   "outputs": [],
   "source": [
    "dc = datacube.Datacube(app='Geomedian_composites')"
   ]
  },
  {
   "cell_type": "markdown",
   "metadata": {},
   "source": [
    "## Load Landsat 8 data from the datacube\n",
    "\n",
    "Here we are loading in a timeseries of cloud-masked Landsat 8 satellite images through the datacube API using the [load_ard](https://github.com/GeoscienceAustralia/dea-notebooks/blob/develop/Frequently_used_code/Using_load_ard.ipynb) function. \n",
    "This will provide us with some data to work with. To limit computation and memory this example uses only three optical bands (red, green, blue)."
   ]
  },
  {
   "cell_type": "code",
   "execution_count": null,
   "metadata": {},
   "outputs": [],
   "source": [
    "lat, lon = -33.0, 20.233\n",
    "buffer_lon = 2.5\n",
    "buffer_lat = 1.9\n"
   ]
  },
  {
   "cell_type": "code",
   "execution_count": null,
   "metadata": {},
   "outputs": [],
   "source": [
    "# display_map(x=(lon-buffer_lon, lon+buffer_lon), y=(lat+buffer_lat, lat-buffer_lat))"
   ]
  },
  {
   "cell_type": "code",
   "execution_count": null,
   "metadata": {},
   "outputs": [],
   "source": [
    "# Create a reusable query\n",
    "query = {\n",
    "    'time': ('2018'),\n",
    "    'measurements': ['green',\n",
    "                     'red',\n",
    "                     'blue'],\n",
    "    'resolution': (-30, 30),\n",
    "    'group_by': 'solar_day'\n",
    "}"
   ]
  },
  {
   "cell_type": "code",
   "execution_count": null,
   "metadata": {},
   "outputs": [],
   "source": [
    "from datacube.utils import geometry\n",
    "from deafrica_spatialtools import xr_rasterize\n",
    "\n",
    "gdf = gpd.read_file('data/Southern.shp')\n",
    "\n",
    "# set up query based on polygon (convert to WGS84)\n",
    "geom = geometry.Geometry(\n",
    "    gdf.geometry.values[0].__geo_interface__, geometry.CRS(\n",
    "        'epsg:4326'))\n",
    "\n",
    "#print(geom)    \n",
    "q = {\"geopolygon\": geom,\n",
    "     'dask_chunks': {'x':2000, 'y':2000, 'time':1}}\n",
    "\n",
    "# merge polygon query with user supplied query params\n",
    "query.update(q)\n",
    "\n",
    "# Load available data\n",
    "ds = dc.load(product='ga_ls8c_gm_2_annual',\n",
    "              output_crs='EPSG:6933',\n",
    "              align=(15, 15),\n",
    "              **query)\n",
    "\n",
    "# #mask dataset\n",
    "# mask = xr_rasterize(gdf.iloc[[0]], ds)\n",
    "# ds = ds.where(mask)\n",
    "\n",
    "# Print output data\n",
    "print(ds)"
   ]
  },
  {
   "cell_type": "markdown",
   "metadata": {},
   "source": [
    "## Generate a geomedian\n",
    "\n",
    "Generating a geomedian composite will combine all the observations in our `xarray.Dataset` into a single, complete (or near complete) image representing the geometric median of the time period.  This process requires a couple of steps:\n",
    "\n",
    "1. Before we calculate the geomedian, we first need to prepare the dataset by scaling the surface reflectance values from their original range to `0-1` (DE Africa's Landsat Collection 1 archive is scaled from `0-10,000`, Landsat Collection 2 (not yet available) is scaled from `1-65,455`).  This will ensure numerical stability during the computation.\n",
    "\n",
    "2. Call the `xr_geomedian` fucntion.  The parameters in the `xr_geomedian` code block do not usually require changing. The `eps` parameter controls the number of iterations to conduct; a good default is `1e-7`.  After calling the function, we then run `.compute()`, which will trigger the computation.\n",
    "\n",
    "3. Finally, we will convert the result back to the original scaling values (0-10,000 in this example)."
   ]
  },
  {
   "cell_type": "code",
   "execution_count": null,
   "metadata": {},
   "outputs": [],
   "source": [
    "sr_max_value = 65455                 # maximum value for SR in the loaded product\n",
    "scale, offset = (1/sr_max_value, 0)  # differs per product, aim for 0-1 values in float32\n",
    "\n",
    "#scale the values using the f_32 util function\n",
    "ds_scaled = to_f32(ds,\n",
    "                   scale=scale,\n",
    "                   offset=offset)"
   ]
  },
  {
   "cell_type": "code",
   "execution_count": null,
   "metadata": {},
   "outputs": [],
   "source": [
    "#generate a geomedian\n",
    "geomedian = xr_geomedian(ds_scaled, \n",
    "                         num_threads=1,  # disable internal threading, dask will run several concurrently\n",
    "                         eps=1e-7,  \n",
    "                         nocheck=True)   # disable checks inside library that use too much ram\n"
   ]
  },
  {
   "cell_type": "markdown",
   "metadata": {},
   "source": [
    "### Run the computation\n",
    "\n",
    "The `.compute()` method will trigger the computation of everything we've instructed above. This will take about a few minutes to run, view the `dask dashboard` to check the progress."
   ]
  },
  {
   "cell_type": "code",
   "execution_count": null,
   "metadata": {},
   "outputs": [],
   "source": [
    "%%time\n",
    "geomedian = geomedian.compute()"
   ]
  },
  {
   "cell_type": "code",
   "execution_count": null,
   "metadata": {},
   "outputs": [],
   "source": [
    "%%time\n",
    "#convert SR scaling values back to original values\n",
    "geomedian = from_float(geomedian, \n",
    "                       dtype='float32', \n",
    "                       nodata=np.nan, \n",
    "                       scale=1/scale, \n",
    "                       offset=-offset/scale)"
   ]
  },
  {
   "cell_type": "markdown",
   "metadata": {},
   "source": [
    "If we print our result, you will see that the `time dimension` has now been removed and we are left with a single image that represents the geometric median of all the satellite images in our initial time series."
   ]
  },
  {
   "cell_type": "code",
   "execution_count": null,
   "metadata": {},
   "outputs": [],
   "source": [
    "print(geomedian)"
   ]
  },
  {
   "cell_type": "code",
   "execution_count": null,
   "metadata": {},
   "outputs": [],
   "source": [
    "# from datacube.helpers import write_geotiff\n",
    "# write_geotiff('geomedian_SA_2018_LS8.tif', ds.squeeze())"
   ]
  },
  {
   "cell_type": "code",
   "execution_count": null,
   "metadata": {},
   "outputs": [],
   "source": []
  },
  {
   "cell_type": "code",
   "execution_count": null,
   "metadata": {},
   "outputs": [],
   "source": [
    "ds = ds.compute()\n"
   ]
  },
  {
   "cell_type": "code",
   "execution_count": null,
   "metadata": {},
   "outputs": [],
   "source": [
    "from datacube.utils.cog import write_cog\n",
    "write_cog(geo_im=ds.squeeze().to_array(), \n",
    "          fname='geomedian_SA_2018_LS8_.tif',  \n",
    "          overwrite=True)"
   ]
  },
  {
   "cell_type": "code",
   "execution_count": null,
   "metadata": {},
   "outputs": [],
   "source": []
  }
 ],
 "metadata": {
  "kernelspec": {
   "display_name": "Python 3",
   "language": "python",
   "name": "python3"
  },
  "language_info": {
   "codemirror_mode": {
    "name": "ipython",
    "version": 3
   },
   "file_extension": ".py",
   "mimetype": "text/x-python",
   "name": "python",
   "nbconvert_exporter": "python",
   "pygments_lexer": "ipython3",
   "version": "3.6.9"
  },
  "widgets": {
   "application/vnd.jupyter.widget-state+json": {
    "state": {},
    "version_major": 2,
    "version_minor": 0
   }
  }
 },
 "nbformat": 4,
 "nbformat_minor": 4
}
