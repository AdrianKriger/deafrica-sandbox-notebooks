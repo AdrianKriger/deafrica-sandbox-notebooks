{
 "cells": [
  {
   "cell_type": "code",
   "execution_count": null,
   "metadata": {},
   "outputs": [],
   "source": [
    "# !pip install kneed\n",
    "# !pip install KDEpy"
   ]
  },
  {
   "cell_type": "code",
   "execution_count": null,
   "metadata": {},
   "outputs": [],
   "source": [
    "import sys\n",
    "import os\n",
    "import datacube\n",
    "import numpy as np\n",
    "import xarray as xr\n",
    "import matplotlib.pyplot as plt\n",
    "import warnings\n",
    "# import phenopy as phen\n",
    "from scipy.integrate import trapz\n",
    "from scipy.stats import skew\n",
    "\n",
    "sys.path.append('../Scripts')\n",
    "from deafrica_plotting import display_map\n",
    "from deafrica_datahandling import mostcommon_crs, load_ard\n",
    "from deafrica_bandindices import calculate_indices\n",
    "\n",
    "\n",
    "%load_ext autoreload\n",
    "%autoreload 2"
   ]
  },
  {
   "cell_type": "code",
   "execution_count": null,
   "metadata": {},
   "outputs": [],
   "source": [
    "dc = datacube.Datacube(app='phenology stats')"
   ]
  },
  {
   "cell_type": "code",
   "execution_count": null,
   "metadata": {},
   "outputs": [],
   "source": [
    "lat, lon = 10.4324, -0.9937\n",
    "buffer = 0.00075\n",
    "\n",
    "x = (lon - buffer, lon + buffer)\n",
    "y =  (lat + buffer, lat - buffer)\n",
    "\n",
    "# Create a reusable query\n",
    "query = {\n",
    "    'x': x,\n",
    "    'y': y,\n",
    "    'time': ('2018-01', '2018-12'),\n",
    "    'resolution': (-20, 20)\n",
    "}"
   ]
  },
  {
   "cell_type": "code",
   "execution_count": null,
   "metadata": {},
   "outputs": [],
   "source": [
    "# display_map(x=x, y=y)"
   ]
  },
  {
   "cell_type": "code",
   "execution_count": null,
   "metadata": {},
   "outputs": [],
   "source": [
    "#find the most common UTM crs for the location\n",
    "output_crs = mostcommon_crs(dc=dc, product='s2a_msil2a', query=query)\n",
    "\n",
    "# Load available data\n",
    "ds = load_ard(dc=dc, \n",
    "              products=['s2a_msil2a', 's2b_msil2a'],\n",
    "              measurements=['red', 'nir_1'],\n",
    "              group_by='solar_day',\n",
    "              output_crs=output_crs, \n",
    "              **query)\n",
    "\n",
    "# Print output data\n",
    "print(ds)"
   ]
  },
  {
   "cell_type": "code",
   "execution_count": null,
   "metadata": {},
   "outputs": [],
   "source": [
    "# First we calculate NDVI on each image in the timeseries\n",
    "ndvi = calculate_indices(ds, index='NDVI', collection='s2', drop=True)\n",
    "ndvi = ndvi.NDVI\n",
    "x = ndvi.mean(['x', 'y'])"
   ]
  },
  {
   "cell_type": "code",
   "execution_count": null,
   "metadata": {},
   "outputs": [],
   "source": [
    "\n"
   ]
  },
  {
   "cell_type": "code",
   "execution_count": 5,
   "metadata": {},
   "outputs": [
    {
     "name": "stdout",
     "output_type": "stream",
     "text": [
      "60 121 244 0.2 0.9 0.75 184 0.9 102.25 0.011475409836065573 -0.0012195121951219514 -1.290994448735806\n"
     ]
    },
    {
     "data": {
      "text/html": [
       "<pre>&lt;xarray.DataArray ()&gt;\n",
       "array(None, dtype=object)</pre>"
      ],
      "text/plain": [
       "<xarray.DataArray ()>\n",
       "array(None, dtype=object)"
      ]
     },
     "execution_count": 5,
     "metadata": {},
     "output_type": "execute_result"
    }
   ],
   "source": [
    "import numpy as np\n",
    "import xarray as xr\n",
    "import pandas as pd\n",
    "from scipy.integrate import trapz\n",
    "from scipy.stats import skew\n",
    "\n",
    "\n",
    "def _getPhenologyMetrics(da, doy):\n",
    "    \"\"\"\n",
    "    Obtain land surfurface phenology metrics\n",
    "    Parameters\n",
    "    ----------\n",
    "    - da:  xr.Datarray\n",
    "    - doy: xt.DataArray\n",
    "        Dayofyer values for each time step in the 'time'\n",
    "        dim on 'da'. e.g doy=da.time.dt.dayofyear\n",
    "    Outputs\n",
    "    -------\n",
    "        SOS = DOY of start of season\n",
    "        POS = DOY of peak of season\n",
    "        EOS = DOY of end of season\n",
    "        vSOS = Value at start of season\n",
    "        vPOS = Value at peak of season\n",
    "        vEOS = Value at end of season\n",
    "        LOS = Length of season (DOY)\n",
    "        AOS = Amplitude of season (in value units)\n",
    "        IOS = Integral of season (SOS-EOS)\n",
    "        ROG = Rate of greening\n",
    "        ROS = Rate of senescence\n",
    "        SW = Skewness of growing season\n",
    "    \"\"\"\n",
    "\n",
    "    # basic variables\n",
    "    vpos = np.nanmax(da)\n",
    "    ipos = np.where(da == vpos)[0]\n",
    "    pos = doy[ipos]\n",
    "    trough = np.nanmin(da)\n",
    "    ampl = vpos - trough\n",
    "\n",
    "    # get position of seasonal peak and trough\n",
    "    ipos = np.where(da == vpos)\n",
    "\n",
    "    # scale annual time series to 0-1\n",
    "    ratio = (da - trough) / ampl\n",
    "\n",
    "    # separate greening from senesence values\n",
    "    dev = np.gradient(ratio)  # first derivative\n",
    "    greenup = np.zeros([ratio.shape[0]],  dtype=bool)\n",
    "    greenup[dev > 0] = True\n",
    "\n",
    "    # estimate SOS and EOS as median of the seasons\n",
    "    i = np.nanmedian(doy[:ipos[0][0]][greenup[:ipos[0][0]]])\n",
    "    ii = np.nanmedian(doy[ipos[0][0]:][~greenup[ipos[0][0]:]])\n",
    "    sos = doy[(np.abs(doy - i)).argmin()]\n",
    "    eos = doy[(np.abs(doy - ii)).argmin()]\n",
    "    isos = np.where(doy == int(sos))[0]\n",
    "    ieos = np.where(doy == eos)[0]\n",
    "    if sos is None:\n",
    "        isos = 0\n",
    "        sos = doy[isos]\n",
    "    if eos is None:\n",
    "        ieos = len(doy) - 1\n",
    "        eos = doy[ieos]\n",
    "\n",
    "    # los: length of season\n",
    "    los = eos - sos\n",
    "    if los < 0:\n",
    "        los[los < 0] = len(da) + \\\n",
    "            (eos[los < 0] - sos[los < 0])\n",
    "\n",
    "    # doy of growing season\n",
    "    green = doy[(doy > sos) & (doy < eos)]\n",
    "    _id = []\n",
    "    for i in range(len(green)):\n",
    "        _id.append((doy == green[i]).nonzero()[0])\n",
    "\n",
    "    # index of growing season\n",
    "    _id = np.array([item for sublist in _id for item in sublist])\n",
    "    # get intergral of green season\n",
    "    ios = trapz(da[_id], doy[_id])\n",
    "\n",
    "    # rate of greening [slope SOS-POS]\n",
    "    rog = (vpos - da[isos]) / (pos - sos)\n",
    "    rog = rog[0]\n",
    "\n",
    "    # rate of senescence [slope POS-EOS]\n",
    "    ros = (da[ieos] - vpos) / (eos - pos)\n",
    "    ros= ros[0]\n",
    "\n",
    "    # skewness of growing season\n",
    "    sw = skew(da[_id])\n",
    "\n",
    "    #values at start of season\n",
    "    vsos = da[isos][0]\n",
    "\n",
    "    #values at end of season\n",
    "    veos = da[ieos][0]\n",
    "\n",
    "    print(sos,pos[0],eos, vsos, vpos, veos, los, ampl, ios, rog, ros, sw)\n",
    "\n",
    "    #return metrics\n",
    "        \n",
    "#create fake data\n",
    "ndvi = np.array([0,0.0,0.2, 0.5, 0.9, 0.9, 0.9, 0.8, 0.75, 0.1, 0.0, 0.0])\n",
    "test_da = xr.DataArray(ndvi,\n",
    "             coords=[pd.date_range(\"01/01/2018\", periods=12, freq=pd.DateOffset(months=1),)],dims=\"time\")\n",
    "\n",
    "doy=test_da.time.dt.dayofyear\n",
    "\n",
    "xr.apply_ufunc(\n",
    "        _getPhenologyMetrics,\n",
    "        test_da,\n",
    "        input_core_dims=[[\"time\"]],\n",
    "        kwargs={'doy': doy.values},\n",
    "        dask='allowed'\n",
    "        )"
   ]
  },
  {
   "cell_type": "code",
   "execution_count": 16,
   "metadata": {},
   "outputs": [
    {
     "data": {
      "text/plain": [
       "[<matplotlib.lines.Line2D at 0x7f725f806ac8>]"
      ]
     },
     "execution_count": 16,
     "metadata": {},
     "output_type": "execute_result"
    },
    {
     "data": {
      "image/png": "[encoded data removed]",
      "text/plain": [
       "<Figure size 432x288 with 1 Axes>"
      ]
     },
     "metadata": {
      "needs_background": "light"
     },
     "output_type": "display_data"
    }
   ],
   "source": [
    "ax = plt.subplot(1, 1, 1)\n",
    "ax.plot(doy, ndvi)\n",
    "ax.plot(60,0.2, \"or\")\n",
    "ax.plot(244,0.75, \"or\")"
   ]
  },
  {
   "cell_type": "code",
   "execution_count": 8,
   "metadata": {},
   "outputs": [],
   "source": [
    "import matplotlib.pyplot as plt"
   ]
  },
  {
   "cell_type": "code",
   "execution_count": null,
   "metadata": {},
   "outputs": [],
   "source": [
    "#create fake data\n",
    "ndvi = np.array([0,0.0,0.2, 0.5, 0.9, 0.9, 0.9, 0.8, 0.75, 0.1, 0.0, 0.0])\n",
    "test_da = xr.DataArray(ndvi,\n",
    "             coords=[pd.date_range(\"01/01/2018\", periods=12, freq=pd.DateOffset(months=1),)],dims=\"time\")\n",
    "\n",
    "doy=test_da.time.dt.dayofyear\n",
    "test_da.plot()\n"
   ]
  },
  {
   "cell_type": "code",
   "execution_count": null,
   "metadata": {},
   "outputs": [],
   "source": [
    "xr.apply_ufunc(\n",
    "        _getPhenologyMetrics,\n",
    "        test_da,\n",
    "        input_core_dims=[[\"time\"]],\n",
    "        kwargs={'doy': doy.values},\n",
    "        dask='allowed'\n",
    "        )"
   ]
  },
  {
   "cell_type": "code",
   "execution_count": null,
   "metadata": {},
   "outputs": [],
   "source": []
  },
  {
   "cell_type": "code",
   "execution_count": null,
   "metadata": {},
   "outputs": [],
   "source": [
    "def TIMESAT_stats(da, doy):\n",
    "   \n",
    "    #empty dict to put results in\n",
    "    stats = {}\n",
    "    \n",
    "    data_np_arr = da\n",
    "    time_np_arr = doy\n",
    "    data_inds = np.arange(len(data_np_arr))\n",
    "    \n",
    "    # Obtain the first and second derivatives.\n",
    "    fst_deriv = np.gradient(data_np_arr, time_np_arr)\n",
    "    pos_fst_deriv = fst_deriv > 0\n",
    "    neg_fst_deriv = 0 > fst_deriv\n",
    "    snd_deriv = np.gradient(fst_deriv, time_np_arr)\n",
    "    pos_snd_deriv = snd_deriv > 0\n",
    "    neg_snd_deriv = 0 > snd_deriv\n",
    "    \n",
    "    # Determine MOS.\n",
    "    # MOS is the index of the highest value immediately preceding a transition\n",
    "    # of the first derivative from positive to negative.\n",
    "    pos_to_neg_fst_deriv = pos_fst_deriv.copy()\n",
    "    for i in range(len(pos_fst_deriv)):\n",
    "        if i == len(pos_fst_deriv) - 1: # last index\n",
    "            pos_to_neg_fst_deriv[i] = False\n",
    "        elif pos_fst_deriv[i] and not pos_fst_deriv[i+1]: # + to -\n",
    "            pos_to_neg_fst_deriv[i] = True\n",
    "        else: # everything else\n",
    "            pos_to_neg_fst_deriv[i] = False\n",
    "    idxmos_potential_inds = data_inds[pos_to_neg_fst_deriv]\n",
    "    idxmos_subset_ind = np.argmax(data_np_arr[pos_to_neg_fst_deriv])\n",
    "    idxmos = idxmos_potential_inds[idxmos_subset_ind]\n",
    "    stats['Middle of Season'] = idxmos\n",
    "    \n",
    "    data_inds_after_mos = np.roll(data_inds, len(data_inds)-idxmos-1)\n",
    "    \n",
    "    # Determine BOS.\n",
    "    # BOS is the first negative inflection point of the positive values \n",
    "    # of the first derivative starting after and ending at the MOS.\n",
    "    idxbos = data_inds_after_mos[np.argmax((pos_fst_deriv & neg_snd_deriv)[data_inds_after_mos])]\n",
    "    stats['Beginning of Season'] = idxbos\n",
    "    \n",
    "    # Determine EOS.\n",
    "    # EOS is the last positive inflection point of the negative values \n",
    "    # of the first derivative starting after and ending at the MOS.\n",
    "    idxeos = data_inds_after_mos[np.argmax((neg_fst_deriv & pos_snd_deriv)[data_inds_after_mos][::-1])]\n",
    "    stats['End of Season'] = idxeos\n",
    "    \n",
    "    # Determine EOS-BOS.\n",
    "    stats['Length of Season'] = idxeos - idxbos\n",
    "    # Determine BASE.\n",
    "    stats['Base Value'] = np.nanmin(data_np_arr)\n",
    "    # Determine MAX.\n",
    "    stats['Max Value'] = np.nanmax(data_np_arr)\n",
    "    # Determine AMP.\n",
    "    stats['Amplitude'] = stats['Max Value'] - stats['Base Value']\n",
    "    \n",
    "    #Rate of greening [slope StartOS-PeakOS]\n",
    "    da[idxmos] - da[idxbos / \n",
    "    \n",
    "    print(stats)\n",
    "    return stats"
   ]
  },
  {
   "cell_type": "code",
   "execution_count": null,
   "metadata": {},
   "outputs": [],
   "source": [
    "xr.apply_ufunc(\n",
    "        TIMESAT_stats, x,\n",
    "        input_core_dims=[[\"time\"]],\n",
    "        kwargs={'doy': doy.values},\n",
    "        dask='allowed'\n",
    "        )"
   ]
  },
  {
   "cell_type": "code",
   "execution_count": null,
   "metadata": {},
   "outputs": [],
   "source": []
  },
  {
   "cell_type": "code",
   "execution_count": null,
   "metadata": {},
   "outputs": [],
   "source": []
  },
  {
   "cell_type": "code",
   "execution_count": null,
   "metadata": {},
   "outputs": [],
   "source": []
  },
  {
   "cell_type": "code",
   "execution_count": null,
   "metadata": {},
   "outputs": [],
   "source": []
  },
  {
   "cell_type": "code",
   "execution_count": null,
   "metadata": {},
   "outputs": [],
   "source": []
  },
  {
   "cell_type": "code",
   "execution_count": null,
   "metadata": {},
   "outputs": [],
   "source": [
    "#function wants a raster input, doesnt work on xarray\n",
    "\n",
    "# doy=ndvi.time.dt.dayofyear\n",
    "\n",
    "# phen.PhenoLSP(inData=ndvi.NDVI.values, outData='phen_metrics.tif', nGS=46, doy=doy, phentype=2,\n",
    "#   n_jobs=2, chuckSize=32)"
   ]
  },
  {
   "cell_type": "code",
   "execution_count": null,
   "metadata": {},
   "outputs": [],
   "source": [
    "# doy=ndvi.time.dt.dayofyear\n",
    "# xnew = np.linspace(np.min(doy), np.max(doy), len(doy), dtype='int16')"
   ]
  },
  {
   "cell_type": "code",
   "execution_count": null,
   "metadata": {},
   "outputs": [],
   "source": [
    "# xr.apply_ufunc(phen._getLSPmetrics,\n",
    "#                ndvi,\n",
    "#                kwargs={'doy':doy,\n",
    "#                        'num':16,\n",
    "#                        'nGS':1,\n",
    "#                        'phentype': 2\n",
    "#                       })"
   ]
  },
  {
   "cell_type": "code",
   "execution_count": null,
   "metadata": {},
   "outputs": [],
   "source": []
  },
  {
   "cell_type": "code",
   "execution_count": null,
   "metadata": {},
   "outputs": [],
   "source": []
  }
 ],
 "metadata": {
  "kernelspec": {
   "display_name": "Python 3",
   "language": "python",
   "name": "python3"
  },
  "language_info": {
   "codemirror_mode": {
    "name": "ipython",
    "version": 3
   },
   "file_extension": ".py",
   "mimetype": "text/x-python",
   "name": "python",
   "nbconvert_exporter": "python",
   "pygments_lexer": "ipython3",
   "version": "3.6.9"
  }
 },
 "nbformat": 4,
 "nbformat_minor": 4
}
