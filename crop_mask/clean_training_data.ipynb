{
 "cells": [
  {
   "cell_type": "markdown",
   "metadata": {},
   "source": [
    "# Import, clean, and merge training data over Africa"
   ]
  },
  {
   "cell_type": "code",
   "execution_count": 1,
   "metadata": {},
   "outputs": [],
   "source": [
    "import sys\n",
    "import geopandas as gpd\n",
    "import pandas as pd\n",
    "import numpy as np\n",
    "from shapely.geometry import Point\n",
    "sys.path.append('../Scripts')\n",
    "from deafrica_plotting import map_shapefile"
   ]
  },
  {
   "cell_type": "markdown",
   "metadata": {},
   "source": [
    "## GFSAD Training data\n",
    "\n",
    "Data generated for creating global crop extent maps.  African classification method [here](https://www.mdpi.com/2072-4292/9/10/1065).  Getting data from here: https://web.croplands.org/app/data/search?page=1&page_size=200\n",
    "\n",
    "Definition of cropland:\n",
    "- “…lands cultivated with plants harvested for food, feed, and fiber, include both seasonal crops (e.g., wheat, rice, corn, soybeans, cotton) and continuous plantations (e.g., coffee, tea, rubber, cocoa, oil palms). Cropland fallow are lands uncultivated during a season or a year but are farmlands and are equipped for cultivation, including plantations (Teluguntla et al., 2015). Cropland extent includes all planted crops and fallow lands. Non-croplands include all other land cover classes other than croplands and cropland fallow.”\n",
    "\n",
    "Crop Class == 1\n"
   ]
  },
  {
   "cell_type": "code",
   "execution_count": null,
   "metadata": {},
   "outputs": [],
   "source": [
    "file = \"data/training_data/GFSAD_training_data.csv\"\n",
    "df = pd.read_csv(\n",
    "    file, delimiter=\",\")\n",
    "df.head()"
   ]
  },
  {
   "cell_type": "code",
   "execution_count": null,
   "metadata": {},
   "outputs": [],
   "source": [
    "GFSAD_train = gpd.GeoDataFrame(\n",
    "    df.drop(['lon', 'lat'], axis=1),\n",
    "    crs='epsg:4326',\n",
    "    geometry=[Point(xy) for xy in zip(df.lon, df.lat)])"
   ]
  },
  {
   "cell_type": "code",
   "execution_count": null,
   "metadata": {},
   "outputs": [],
   "source": [
    "afr = gpd.read_file('data/african_countries.shp')"
   ]
  },
  {
   "cell_type": "code",
   "execution_count": null,
   "metadata": {},
   "outputs": [],
   "source": [
    "GFSAD_train_afr = gpd.overlay(GFSAD_train, afr, how='intersection')\n",
    "# GFSAD_train_afr.plot()"
   ]
  },
  {
   "cell_type": "code",
   "execution_count": null,
   "metadata": {},
   "outputs": [],
   "source": [
    "GFSAD_train_afr['class'] = GFSAD_train_afr['land_use_type']"
   ]
  },
  {
   "cell_type": "code",
   "execution_count": null,
   "metadata": {},
   "outputs": [],
   "source": [
    "# map_shapefile(GFSAD_train_afr, attribute='class')"
   ]
  },
  {
   "cell_type": "code",
   "execution_count": null,
   "metadata": {},
   "outputs": [],
   "source": [
    "GFSAD_train_afr.to_file(\"data/training_data/GFSAD_training_Africa.shp\")"
   ]
  },
  {
   "cell_type": "markdown",
   "metadata": {},
   "source": [
    "## [Bayas et al. (2017)](https://www.nature.com/articles/sdata2017136) Global Crop Reference Dataset \n",
    "\n",
    "Collected in Sept 2016 using geo-wiki.\n",
    "Reference data from here:\n",
    "- Any 30m cell classified as crop: http://store.pangaea.de/Publications/See_2017/crop_all.zip\n",
    "- Control dataset, validated cells classified as crop: http://store.pangaea.de/Publications/See_2017/crop_con.zip \n",
    "\n",
    "Definition of cropland:\n",
    "- \"...the definition used for the campaign follows that of GEOGLAM/JECAM.  The annual cropland from a remote sensing perspective is a piece of land of a minimum of 0.25 ha (minimum width of 30 m) that is sowed/planted and harvestable at least once within the 12 months after the sowing/planting date. The annual cropland produces an herbaceous cover and is sometimes combined with some tree or woody vegetation’. According to this GEOGLAM/JECAM definition, perennial crops, agroforestry plantations, palm oil, coffee, tree crops and fallows are not included in the cropland class\"\n",
    "\n",
    "> Dataset contains only 'cropland' points, no other land classes. As the dataset contains nearly 120,000 points, its probably best to randomly sample the shapefile with `df.sample(n=2000)`\n"
   ]
  },
  {
   "cell_type": "code",
   "execution_count": null,
   "metadata": {},
   "outputs": [],
   "source": [
    "file = \"data/training_data/global_crop_reference_dataset_See2017.csv\"\n",
    "# file = \"data/training_data/global_crop_reference_dataset_control.csv\"\n",
    "df = pd.read_csv(\n",
    "    file, delimiter=\",\")\n",
    "df.head()"
   ]
  },
  {
   "cell_type": "code",
   "execution_count": null,
   "metadata": {},
   "outputs": [],
   "source": [
    "crop_train = gpd.GeoDataFrame(\n",
    "    df.drop(['centroid_X', 'centroid_Y'], axis=1),\n",
    "    crs='epsg:4326',\n",
    "    geometry=[Point(xy) for xy in zip(df.centroid_X, df.centroid_Y)])"
   ]
  },
  {
   "cell_type": "code",
   "execution_count": null,
   "metadata": {},
   "outputs": [],
   "source": [
    "afr = gpd.read_file('data/african_countries.shp')"
   ]
  },
  {
   "cell_type": "code",
   "execution_count": null,
   "metadata": {},
   "outputs": [],
   "source": [
    "crop_train_afr = gpd.overlay(crop_train, afr, how='intersection')"
   ]
  },
  {
   "cell_type": "code",
   "execution_count": null,
   "metadata": {},
   "outputs": [],
   "source": [
    "crop_train_afr['class'] = 1"
   ]
  },
  {
   "cell_type": "code",
   "execution_count": null,
   "metadata": {},
   "outputs": [],
   "source": [
    "crop_train_afr = crop_train_afr.sample(n=2000, random_state=1)"
   ]
  },
  {
   "cell_type": "code",
   "execution_count": null,
   "metadata": {},
   "outputs": [],
   "source": [
    "# map_shapefile(crop_train_afr, attribute='ID') #can't plot all points if loading '...all_data.csv'\n",
    "len(crop_train_afr)"
   ]
  },
  {
   "cell_type": "code",
   "execution_count": null,
   "metadata": {},
   "outputs": [],
   "source": [
    "crop_train_afr.to_file(\"data/training_data/globalCropRefernceData_Africa_2016_2000points.shp\")"
   ]
  },
  {
   "cell_type": "markdown",
   "metadata": {},
   "source": [
    "## CrowdVal project data\n",
    "\n",
    "Collected using geo-wiki by/for the ESA CCI Land Cover Team to assist in validating their prototype 20m Sentinel 2A landcover product.\n",
    "Data available from here: https://geo-wiki.org/Application/index.php\n",
    "\n",
    "Class Key:\n",
    "* cropland == 4\n",
    "* built-up == 8\n",
    "\n",
    "> Ignoring South Africa data at the moment because it was validated at 10m resolution and unsure how to upscale it 20m pixels"
   ]
  },
  {
   "cell_type": "code",
   "execution_count": null,
   "metadata": {},
   "outputs": [],
   "source": [
    "#open datasets\n",
    "kenya = gpd.read_file('data/training_data/CrowdVal/CrowdVal_kenya_final_points.shp')\n",
    "ivy_coast = gpd.read_file('data/training_data/CrowdVal/CrowdVal_Cote_dIvoire_final_points.shp')\n",
    "gabon = gpd.read_file('data/training_data/CrowdVal/CrowdVal_Gabon_final_points.shp')\n",
    "# south_afr = gpd.read_file('data/training_data/CrowdVal/CrowdVal_southafrica_final_points.shp')"
   ]
  },
  {
   "cell_type": "code",
   "execution_count": null,
   "metadata": {},
   "outputs": [],
   "source": [
    "#create common attribute with 'class' values\n",
    "kenya['class'] = kenya['GRID_CODE'].astype('int8')\n",
    "ivy_coast['class'] = ivy_coast['ValValue'].astype('int8')\n",
    "gabon['class'] = gabon['ValValue'].astype('int8')"
   ]
  },
  {
   "cell_type": "code",
   "execution_count": null,
   "metadata": {},
   "outputs": [],
   "source": [
    "len(kenya) + len(ivy_coast) + len(gabon)"
   ]
  },
  {
   "cell_type": "code",
   "execution_count": null,
   "metadata": {},
   "outputs": [],
   "source": [
    "print(len(ivy_coast))\n",
    "print(np.sum(ivy_coast['class'] == 4))"
   ]
  },
  {
   "cell_type": "code",
   "execution_count": null,
   "metadata": {},
   "outputs": [],
   "source": [
    "#export to file\n",
    "gabon.to_file('data/training_data/CrowdVal/cleaned/gabon_crowdval_cleaned.shp')\n",
    "ivy_coast.to_file('data/training_data/CrowdVal/cleaned/ivory_coast_crowdval_cleaned.shp')\n",
    "kenya.to_file('data/training_data/CrowdVal/cleaned/kenya_crowdval_cleaned.shp')"
   ]
  },
  {
   "cell_type": "markdown",
   "metadata": {},
   "source": [
    "## Merge datasets into one common cropland-non cropland training dataset"
   ]
  },
  {
   "cell_type": "code",
   "execution_count": 2,
   "metadata": {},
   "outputs": [],
   "source": [
    "#open every dataset\n",
    "# crop_ref = gpd.read_file(\"data/training_data/globalCropRefernceData_Africa_2016_allData.shp\")\n",
    "crop_ref = gpd.read_file(\"data/training_data/globalCropRefernceData_Africa_2016_2000points.shp\")\n",
    "crop_ref_control = gpd.read_file(\"data/training_data/globalCropRefernceData_Africa_2016_control.shp\")\n",
    "gfsad = gpd.read_file(\"data/training_data/GFSAD_training_Africa.shp\")\n",
    "gabon = gpd.read_file('data/training_data/CrowdVal/cleaned/gabon_crowdval_cleaned.shp')\n",
    "ivy_coast = gpd.read_file('data/training_data/CrowdVal/cleaned/ivory_coast_crowdval_cleaned.shp')\n",
    "kenya = gpd.read_file('data/training_data/CrowdVal/cleaned/kenya_crowdval_cleaned.shp')"
   ]
  },
  {
   "cell_type": "code",
   "execution_count": 3,
   "metadata": {},
   "outputs": [],
   "source": [
    "#crowdVal & GFSAD datasets need to be reclassified into 1 = crop, 0=non-crop\n",
    "gabon['class'] = np.where(gabon['class'] == 4, 1, 0)\n",
    "kenya['class'] = np.where(kenya['class'] == 4, 1, 0)\n",
    "ivy_coast['class'] = np.where(ivy_coast['class'] == 4, 1, 0)\n",
    "gfsad['class'] = np.where(gfsad['class'] == 1, 1, 0)"
   ]
  },
  {
   "cell_type": "code",
   "execution_count": 4,
   "metadata": {},
   "outputs": [],
   "source": [
    "#if subsetting, randomly sample a % of each dataset as they can be v. large\n",
    "perc = 0.1\n",
    "# crop_ref = crop_ref.sample(n=int(len(crop_ref)*perc), random_state=1)\n",
    "kenya = kenya.sample(n=int(len(kenya)*perc), random_state=1)\n",
    "gabon = gabon.sample(n=int(len(gabon)*perc), random_state=1)\n",
    "ivy_coast = ivy_coast.sample(n=int(len(ivy_coast)*perc), random_state=1)"
   ]
  },
  {
   "cell_type": "code",
   "execution_count": 5,
   "metadata": {},
   "outputs": [],
   "source": [
    "#merge all the datasest together\n",
    "gdf_list = [crop_ref, gfsad, gabon, ivy_coast, kenya, crop_ref_control]\n",
    "train = gpd.GeoDataFrame(pd.concat(gdf_list, ignore_index=True), crs=crop_ref.crs)"
   ]
  },
  {
   "cell_type": "code",
   "execution_count": 6,
   "metadata": {},
   "outputs": [],
   "source": [
    "#simplify columns to just the geom and class\n",
    "train = train.filter(['geometry', 'class'])"
   ]
  },
  {
   "cell_type": "code",
   "execution_count": 8,
   "metadata": {},
   "outputs": [
    {
     "data": {
      "text/plain": [
       "908"
      ]
     },
     "execution_count": 8,
     "metadata": {},
     "output_type": "execute_result"
    }
   ],
   "source": [
    "np.sum(train['class']==0)"
   ]
  },
  {
   "cell_type": "code",
   "execution_count": 9,
   "metadata": {},
   "outputs": [
    {
     "data": {
      "text/plain": [
       "4352"
      ]
     },
     "execution_count": 9,
     "metadata": {},
     "output_type": "execute_result"
    }
   ],
   "source": [
    "# map_shapefile(train.sample(n=500), attribute='class')\n",
    "# train.plot(figsize=(10,10), markersize=5)\n",
    "len(train)"
   ]
  },
  {
   "cell_type": "code",
   "execution_count": 10,
   "metadata": {},
   "outputs": [],
   "source": [
    "train.to_file('data/training_data/cropland_prelim_validation.shp')"
   ]
  },
  {
   "cell_type": "code",
   "execution_count": null,
   "metadata": {},
   "outputs": [],
   "source": []
  },
  {
   "cell_type": "markdown",
   "metadata": {},
   "source": [
    "## Exracting random points from polygon training dataset"
   ]
  },
  {
   "cell_type": "code",
   "execution_count": null,
   "metadata": {},
   "outputs": [],
   "source": [
    "gdf_polys  = gpd.read_file(\"data/training_data/GLCNMO_2008_crop_africa.shp\")"
   ]
  },
  {
   "cell_type": "markdown",
   "metadata": {},
   "source": [
    "#### Method 1: random points within bounding coords of entire shapefile\n",
    "\n",
    "Works but is no good for a sparse set of polygons as very few points land inside the polygons"
   ]
  },
  {
   "cell_type": "code",
   "execution_count": null,
   "metadata": {},
   "outputs": [],
   "source": [
    "# find the bounds of your geodataframe\n",
    "x_min, y_min, x_max, y_max = gdf_polys.total_bounds\n",
    "\n",
    "# set sample size\n",
    "n = 100000\n",
    "# generate random data within the bounds\n",
    "x = np.random.uniform(x_min, x_max, n)\n",
    "y = np.random.uniform(y_min, y_max, n)\n",
    "\n",
    "# convert them to a points GeoSeries\n",
    "gdf_points = gpd.GeoSeries(gpd.points_from_xy(x, y))\n",
    "# only keep those points within polygons\n",
    "gdf_points = gdf_points[gdf_points.within(gdf_polys.unary_union)]"
   ]
  },
  {
   "cell_type": "code",
   "execution_count": null,
   "metadata": {},
   "outputs": [],
   "source": []
  },
  {
   "cell_type": "markdown",
   "metadata": {},
   "source": [
    "#### Method 2: Random points per polygon\n",
    "\n",
    "This works, but currently returns points appended as columns to original df, need to get them into a more usuable format where the class matches the point"
   ]
  },
  {
   "cell_type": "code",
   "execution_count": null,
   "metadata": {},
   "outputs": [],
   "source": [
    "from shapely.geometry import Point\n",
    "def random_point_in_shp(shp):\n",
    "    within = False\n",
    "    while not within:\n",
    "        x = np.random.uniform(shp.bounds[0], shp.bounds[2])\n",
    "        y = np.random.uniform(shp.bounds[1], shp.bounds[3])\n",
    "        within = shp.contains(Point(x, y))\n",
    "    return Point(x,y)"
   ]
  },
  {
   "cell_type": "code",
   "execution_count": null,
   "metadata": {},
   "outputs": [],
   "source": [
    "res = gpd.GeoDataFrame()\n",
    "res"
   ]
  },
  {
   "cell_type": "code",
   "execution_count": null,
   "metadata": {},
   "outputs": [],
   "source": [
    "for num in range(25):\n",
    "    geo_df['Point{}'.format(num)] = geo_df['geometry'].apply(random_point_in_shp)\n",
    "    "
   ]
  },
  {
   "cell_type": "code",
   "execution_count": null,
   "metadata": {},
   "outputs": [],
   "source": []
  },
  {
   "cell_type": "code",
   "execution_count": null,
   "metadata": {},
   "outputs": [],
   "source": []
  }
 ],
 "metadata": {
  "kernelspec": {
   "display_name": "Python 3",
   "language": "python",
   "name": "python3"
  },
  "language_info": {
   "codemirror_mode": {
    "name": "ipython",
    "version": 3
   },
   "file_extension": ".py",
   "mimetype": "text/x-python",
   "name": "python",
   "nbconvert_exporter": "python",
   "pygments_lexer": "ipython3",
   "version": "3.6.9"
  }
 },
 "nbformat": 4,
 "nbformat_minor": 4
}
