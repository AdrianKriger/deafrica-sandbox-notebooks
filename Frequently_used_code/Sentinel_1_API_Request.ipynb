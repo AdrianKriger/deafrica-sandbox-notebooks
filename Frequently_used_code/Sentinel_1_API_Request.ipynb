{
 "cells": [
  {
   "cell_type": "markdown",
   "metadata": {},
   "source": [
    "# API Request for Connection to Sentinel Hub <img align=\"right\" src=\"../Supplementary_data/DE_Africa_Logo_Stacked_RGB_small.jpg\">\n",
    "\n",
    "* **Products used:**\n",
    "[S1GRD](http://www.esa.int/Applications/Observing_the_Earth/Copernicus/Sentinel-1/Data_products)\n",
    "\n",
    "*Dataset is external to the Digital Earth Africa platform.*\n"
   ]
  },
  {
   "cell_type": "markdown",
   "metadata": {},
   "source": [
    "## Introduction to Sentinel Hub"
   ]
  },
  {
   "cell_type": "markdown",
   "metadata": {},
   "source": [
    "Sentinel Hub is a multi-spectral and multi-temporal big data satellite imagery service, capable of fully automated archiving, real-time processing and distribution of remote sensing data and related Earth Observation products.It is an engine for processing of petabytes of satellite data that opens the door for machine learning and helping hundreds of application developers worldwide. It makes Sentinel, Landsat, and other Earth observation imagery easily accessible for browsing, visualization and analysis. Sentinel Hub is operated by Sinergise company that have developed enterprise level spatial solutions for governmental clients in Europe and Africa. Sinergise is headquartered in Ljubljana, Slovenia, and has subsidiaries in Czech Republic, Moldova and Serbia. More information on Sentinel Hub can be found [here](https://www.sentinel-hub.com/explore).\n",
    "Users can use available APIs to retrieve satellite data over their Area of Interest (AOI) and specific time range from full archives in a matter of seconds."
   ]
  },
  {
   "cell_type": "markdown",
   "metadata": {},
   "source": [
    "## Sentinel-1AB Collection \n",
    "\n",
    "The [Sentinel-1](https://sentinel.esa.int/web/sentinel/missions/sentinel-1) imagery is provided by two polar-orbiting satellites, operating day and night performing C-band synthetic aperture radar imaging, enabling them to acquire imagery regardless of the weather. Main applications are for monitoring sea ice, oil spills, marine winds, waves & currents, land-use change, land deformation among others, and to respond to emergencies such as floods and earthquakes. Sentinel Hub currently supports Sentinel-1 Level-1 GRD (Ground Range Detected) products only."
   ]
  },
  {
   "cell_type": "markdown",
   "metadata": {},
   "source": [
    "## Access to Sentinel Hub Data and Services"
   ]
  },
  {
   "cell_type": "markdown",
   "metadata": {},
   "source": [
    "The Sentinel Hub API is a RESTful API interface to various satellite [imagery archives](https://docs.sentinel-hub.com/api/latest/#/data/). It provides access to raw satellite data, rendered images, statistical analysis and much more.In order to access and use sentinel hub services through API calls, the user needs to take the following steps:\n",
    "\n",
    "- Register to  [Seninel Hub](https://www.sentinel-hub.com/) portal \n",
    "- [Authentication](https://docs.sentinel-hub.com/api/latest/#/API/authentication)\n",
    "- [Process](https://docs.sentinel-hub.com/api/latest/#/Evalscript/) \n",
    "\n",
    "Following registration to the Sentinel Hub, the user will be allocated a non-commercial account with dynamic dashboard that shows the subscription plan, processing units and the number of requests per minute.\n",
    "\n",
    "To access data user needs to send a request to process API. The requested data will be returned as the response to this request. Each request can be tailored to get the user exactly the data that was requested. To do this requires setting various parameters which depend on the data source the user is querying. The following examples help the user to understand the parameters for S1GRD data. To explore more examples of such requests go [here](https://docs.sentinel-hub.com/api/latest/#/data/Examples_for_S1GRD), and for an overview of all API parameters see the [API Reference](https://docs.sentinel-hub.com/api/latest/reference/)."
   ]
  },
  {
   "cell_type": "markdown",
   "metadata": {},
   "source": [
    "## Data Availibility "
   ]
  },
  {
   "cell_type": "markdown",
   "metadata": {},
   "source": [
    "Sentinel Hub API is available in several deployments including:\n",
    "- Main Sentinel Hub deployment - EU-1-Central region \n",
    "- Main Sentinel Hub deployment - US-West-2 region\n",
    "- CreoDIAS Sentinel Hub deployment\n",
    "- EOCloud Sentinel Hub deployment\n",
    "\n",
    "The hub can be searched and accessed throught the API [endpoints](https://docs.sentinel-hub.com/api/latest/#/data/). \n",
    "Synergise has two major pipelines for Sentinel-1 GRD data: (a) EU-1-Central region that covers global archive since 2017 and (b) EOCloud that covers the global archive since 2014. Both pipelines are available through [Sentinel Hub API](https://docs.sentinel-hub.com/api/latest/#/) that supports processing a typical 512x512 px tile in one second aka “live” processing and [batch processing](https://docs.sentinel-hub.com/api/latest/#/BATCH_API/batch_processor) using the latest technology."
   ]
  },
  {
   "cell_type": "markdown",
   "metadata": {},
   "source": [
    "## Available Bands and Data"
   ]
  },
  {
   "cell_type": "markdown",
   "metadata": {},
   "source": [
    "The following information in important when defining input object in evalscript. Any string listed in the column Name can be an element of the input.bands array in your evalscript."
   ]
  },
  {
   "cell_type": "markdown",
   "metadata": {},
   "source": [
    "### Import Dependencies"
   ]
  },
  {
   "cell_type": "code",
   "execution_count": 1,
   "metadata": {},
   "outputs": [],
   "source": [
    "import requests\n",
    "from oauthlib.oauth2 import BackendApplicationClient\n",
    "from requests_oauthlib import OAuth2Session"
   ]
  },
  {
   "cell_type": "code",
   "execution_count": 29,
   "metadata": {},
   "outputs": [],
   "source": [
    "client_id = ''\n",
    "client_secret = ''"
   ]
  },
  {
   "cell_type": "code",
   "execution_count": 30,
   "metadata": {},
   "outputs": [],
   "source": [
    "client = BackendApplicationClient(client_id=client_id)\n",
    "oauth = OAuth2Session(client=client)"
   ]
  },
  {
   "cell_type": "code",
   "execution_count": 31,
   "metadata": {},
   "outputs": [],
   "source": [
    "token = oauth.fetch_token(token_url='https://services.sentinel-hub.com/oauth/token', client_id=client_id,client_secret=client_secret)"
   ]
  },
  {
   "cell_type": "code",
   "execution_count": 32,
   "metadata": {},
   "outputs": [],
   "source": [
    "resp = oauth.get(\"https://services.sentinel-hub.com/oauth/tokeninfo\")"
   ]
  },
  {
   "cell_type": "markdown",
   "metadata": {},
   "source": [
    "### Two-month Temporal Average on S1GRD Orthorectified Gamma0 in VV polarization"
   ]
  },
  {
   "cell_type": "code",
   "execution_count": 33,
   "metadata": {},
   "outputs": [
    {
     "name": "stdout",
     "output_type": "stream",
     "text": [
      "<Response [200]>\n"
     ]
    }
   ],
   "source": [
    "url = \"https://services.sentinel-hub.com/api/v1/process\" \n",
    "headers = {\n",
    "    \"Authorization\": f\"Bearer {token['access_token']}\"\n",
    "}\n",
    "evalscript = \"\"\"\n",
    "//VERSION=3\n",
    "\n",
    "function setup() {\n",
    "  return {\n",
    "    input: [\"VV\", \"dataMask\"],\n",
    "    output: {id:\"default\", bands: 1},\n",
    "    mosaicking: Mosaicking.ORBIT\n",
    "    }\n",
    "}\n",
    "\n",
    "function evaluatePixel(samples) {\n",
    "  return [calculateAverage(samples)]\n",
    "}\n",
    "\n",
    "function calculateAverage(samples) {\n",
    "  var sum = 0;\n",
    "  var nValid = 0;\n",
    "  for (let i = 0; i < samples.length; i++) {\n",
    "    var sample = samples[i];\n",
    "    if (sample.dataMask != 0) {\n",
    "      nValid++;\n",
    "      sum += toDb(sample.VV);\n",
    "    }\n",
    "  }\n",
    "  return sum / nValid;\n",
    "}\n",
    "\n",
    "function toDb(linear) {\n",
    "  return Math.max(0, Math.log(linear) * 0.21714724095 + 1)\n",
    "}\n",
    "\"\"\".rstrip()\n",
    "\n",
    "data = {\n",
    "    \"input\": {\n",
    "        \"bounds\":{\n",
    "            \"bbox\":[\n",
    "                1360000,5121900,1370000,5131900\n",
    "            ],\n",
    "            \"properties\":{\n",
    "                \"crs\":\"http://www.opengis.net/def/crs/EPSG/0/3857\"\n",
    "            }\n",
    "        },\n",
    "        \"data\": [\n",
    "            {\n",
    "                \"type\":\"S1GRD\",\n",
    "                \"dataFilter\":{\n",
    "                    \"timeRange\":{\n",
    "                        \"from\":\"2020-02-01T00:00:00Z\",\n",
    "                        \"to\":\"2020-04-02T23:59:59Z\"\n",
    "                    },\n",
    "                    \"orbitDirection\": \"ASCENDING\"\n",
    "                },\n",
    "                \"processing\":{\n",
    "                    \"orthorectify\": \"true\"\n",
    "                }\n",
    "            }\n",
    "        ]\n",
    "    },\n",
    "    \"output\": {\n",
    "        \"width\":512,\n",
    "        \"height\":512,\n",
    "        \"response\":[\n",
    "            {\n",
    "                \"identifier\": \"default\",\n",
    "                \"format\":{\n",
    "                    \"type\":\"image/png\"\n",
    "                }\n",
    "            }\n",
    "        ]\n",
    "    },\n",
    "    \"evalscript\": evalscript\n",
    "}\n",
    "response = requests.post(url, json=data, headers=headers)\n",
    "print(response)"
   ]
  },
  {
   "cell_type": "code",
   "execution_count": 34,
   "metadata": {},
   "outputs": [],
   "source": [
    "if response.status_code == 200:\n",
    "    with open('TemporalAverage_S1_VV2.tif', 'wb') as f:\n",
    "        for chunk in response:\n",
    "            f.write(chunk)"
   ]
  }
 ],
 "metadata": {
  "kernelspec": {
   "display_name": "Python 3",
   "language": "python",
   "name": "python3"
  },
  "language_info": {
   "codemirror_mode": {
    "name": "ipython",
    "version": 3
   },
   "file_extension": ".py",
   "mimetype": "text/x-python",
   "name": "python",
   "nbconvert_exporter": "python",
   "pygments_lexer": "ipython3",
   "version": "3.6.9"
  }
 },
 "nbformat": 4,
 "nbformat_minor": 4
}
