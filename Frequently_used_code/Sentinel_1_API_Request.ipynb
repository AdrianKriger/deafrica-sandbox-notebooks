{
 "cells": [
  {
   "cell_type": "markdown",
   "metadata": {},
   "source": [
    "# API Request for Connection to Sentinel Hub <img align=\"right\" src=\"../Supplementary_data/DE_Africa_Logo_Stacked_RGB_small.jpg\">\n",
    "\n",
    "* **Products used:**\n",
    "[S1GRD](http://www.esa.int/Applications/Observing_the_Earth/Copernicus/Sentinel-1/Data_products)\n",
    "\n",
    "*Dataset is external to the Digital Earth Africa platform.*\n"
   ]
  },
  {
   "cell_type": "markdown",
   "metadata": {},
   "source": [
    "## Description\n",
    "\n",
    "This notebook demonstrates the following steps:\n",
    "1. Introduction to Sentinel Hub and its API Data and services for Sentinel-1  \n",
    "2. Estimate two-month temporal average on S1GRD orthorectified Gamma0 in VV polarization over part of Rome, Italy\n",
    "\n",
    "***"
   ]
  },
  {
   "cell_type": "markdown",
   "metadata": {},
   "source": [
    "## Introduction to Sentinel Hub"
   ]
  },
  {
   "cell_type": "markdown",
   "metadata": {},
   "source": [
    "Sentinel Hub is a multi-spectral and multi-temporal big data satellite imagery service, capable of fully automated archiving, real-time processing and distribution of remote sensing data and related Earth Observation products.It is an engine for processing of petabytes of satellite data that opens the door for machine learning and helping hundreds of application developers worldwide. It makes Sentinel, Landsat, and other Earth observation imagery easily accessible for browsing, visualization and analysis. Sentinel Hub is operated by Sinergise company that have developed enterprise level spatial solutions for governmental clients in Europe and Africa. Sinergise is headquartered in Ljubljana, Slovenia, and has subsidiaries in Czech Republic, Moldova and Serbia. More information on Sentinel Hub can be found [here](https://www.sentinel-hub.com/explore).\n",
    "Users can use available APIs to retrieve satellite data over their Area of Interest (AOI) and specific time range from full archives in a matter of seconds."
   ]
  },
  {
   "cell_type": "markdown",
   "metadata": {},
   "source": [
    "## Sentinel-1AB Collection \n",
    "\n",
    "The [Sentinel-1](https://sentinel.esa.int/web/sentinel/missions/sentinel-1) imagery is provided by two polar-orbiting satellites, operating day and night performing C-band synthetic aperture radar imaging, enabling them to acquire imagery regardless of the weather. Main applications are for monitoring sea ice, oil spills, marine winds, waves & currents, land-use change, land deformation among others, and to respond to emergencies such as floods and earthquakes. Sentinel Hub currently supports Sentinel-1 Level-1 GRD (Ground Range Detected) products only."
   ]
  },
  {
   "cell_type": "markdown",
   "metadata": {},
   "source": [
    "## Access to Sentinel Hub Data and Services"
   ]
  },
  {
   "cell_type": "markdown",
   "metadata": {},
   "source": [
    "The Sentinel Hub API is a RESTful API interface to various satellite [imagery archives](https://docs.sentinel-hub.com/api/latest/#/data/). It provides access to raw satellite data, rendered images, statistical analysis and much more.In order to access and use sentinel hub services through API calls, the user needs to take the following steps:\n",
    "\n",
    "- Register to  [Seninel Hub](https://www.sentinel-hub.com/) portal \n",
    "- [Authentication](https://docs.sentinel-hub.com/api/latest/#/API/authentication)\n",
    "- [Process](https://docs.sentinel-hub.com/api/latest/#/Evalscript/) \n",
    "\n",
    "Following registration to the Sentinel Hub, the user will be allocated a non-commercial account with dynamic dashboard that shows the subscription plan, processing units and the number of requests per minute.\n",
    "\n",
    "To access data user needs to send a request to process API. The requested data will be returned as the response to this request. Each request can be tailored to get the user exactly the data that was requested. To do this requires setting various parameters which depend on the data source the user is querying. The following examples help the user to understand the parameters for S1GRD data. To explore more examples of such requests go [here](https://docs.sentinel-hub.com/api/latest/#/data/Examples_for_S1GRD), and for an overview of all API parameters see the [API Reference](https://docs.sentinel-hub.com/api/latest/reference/)."
   ]
  },
  {
   "cell_type": "markdown",
   "metadata": {},
   "source": [
    "## Data Availibility "
   ]
  },
  {
   "cell_type": "markdown",
   "metadata": {},
   "source": [
    "Sentinel Hub API is available in several deployments including:\n",
    "- Main Sentinel Hub deployment - EU-1-Central region \n",
    "- Main Sentinel Hub deployment - US-West-2 region\n",
    "- CreoDIAS Sentinel Hub deployment\n",
    "- EOCloud Sentinel Hub deployment\n",
    "\n",
    "The hub can be searched and accessed throught the API [endpoints](https://docs.sentinel-hub.com/api/latest/#/data/). \n",
    "Synergise has two major pipelines for Sentinel-1 GRD data: (a) EU-1-Central region that covers global archive since 2017 and (b) EOCloud that covers the global archive since 2014. Both pipelines are available through [Sentinel Hub API](https://docs.sentinel-hub.com/api/latest/#/) that supports processing a typical 512x512 px tile in one second aka “live” processing and [batch processing](https://docs.sentinel-hub.com/api/latest/#/BATCH_API/batch_processor) using the latest technology."
   ]
  },
  {
   "cell_type": "markdown",
   "metadata": {},
   "source": [
    "## Data Specific Constraints\n",
    "- **Noise**: All products on both services have thermal noise reduction applied.\n",
    "- **Decibel units**: For decibel outputs, a conversion is necessary within the evalscript. This conversion is used in the example in this notebook.\n",
    "- **Orbit state vectors**: The orbit state vectors provided in the products themselves are currently being used because it was found to be sufficient for GRD use."
   ]
  },
  {
   "cell_type": "markdown",
   "metadata": {},
   "source": [
    "## Analysis Parameters"
   ]
  },
  {
   "cell_type": "markdown",
   "metadata": {},
   "source": [
    "The following information is important when defining input objects in evalscript for processing and evaluation."
   ]
  },
  {
   "cell_type": "markdown",
   "metadata": {},
   "source": [
    "#### Data Type Identifier : S1GRD\n",
    "Use <span style=\"color: red;\">S1GRD</span> as the value of the <span style=\"color: red;\">input.data.type</span> parameter in the API requests. This is mandatory and will ensure getting access to Sentinel-1 GRD data."
   ]
  },
  {
   "cell_type": "markdown",
   "metadata": {},
   "source": [
    "#### Filtering Options\n",
    "This section will explain the <span style=\"color: red;\">input.data.dataFilter</span> object of the <span style=\"color: red;\">S1GRD</span> <span style=\"color: red;\">process</span> API.\n",
    "\n",
    "* ##### mosaickingOrder\n",
    "Sets the order of overlapping tiles from which the output result is mosaicked. Note that tiles will in most cases come from the same orbit/acquisition. The tiling is done by ESA for easier distribution."
   ]
  },
  {
   "cell_type": "markdown",
   "metadata": {},
   "source": [
    "#### Available Bands and Data \n",
    "\n",
    "* The band name can be an element of the <span style=\"color: red;\">input.bands</span> array in the evalscript. These names are identified as VV, HH, VH, and HV bands (single or dual polarisation) with linear units in the chosen backscatter coefficient. \n",
    "* dataMask is the mask of data/nodata pixels. In this input band, 0 means no data and 1 means data. In the <span style=\"color: red;\">setup</span> function, you can request dataMask as an element of the input array and then use it in the <span style=\"color: red;\">evaluatePixel</span> function in the same manner as any other input band."
   ]
  },
  {
   "cell_type": "markdown",
   "metadata": {},
   "source": [
    "#### Mosaicking\n",
    "Mosaicking defines how the source data is mosaicked. Support on the type of mosaicking depends on how the source data is distributed. Mosaicking is a constant which is specified by setting a string. This string could be \"SIMPLE\", \"ORBIT\" and \"TILE\".\n",
    "\n",
    "- SIMPLE (default) - the simplest method, it flattens the mosaicked image so only a single sample is passed to evaluation.\n",
    "- ORBIT - the mosaicked image is flattened for each orbit so that there is only one sample per pixel per orbit. Multiple samples can therefore be present if there is more than one orbit for the selected time range at the pixel location.\n",
    "- TILE - this is essentially the unflattened mosaic. It contains all data available for the selected time range. Multiple samples can be present as each sample comes from a single scene.\n",
    "\n",
    "*Note: ORBIT mosaicking currently does not work exactly as described but generates a single scene for each day containing satellite data. For most requests this is should not be an issue, however high latitude regions may have more than one acquisition per day. For these consider using TILE mosaicking if getting all available data is paramount. This will be corrected in future releases.*"
   ]
  },
  {
   "cell_type": "markdown",
   "metadata": {},
   "source": [
    "#### Orbit Directions\n",
    "- Ascending - Data acquired when the satellite was traveling approx. towards the Earth's North pole.\n",
    "- Descending - Data acquired when the satellite was traveling approx. towards the Earth's South pole."
   ]
  },
  {
   "cell_type": "markdown",
   "metadata": {},
   "source": [
    "## Processing Options\n",
    "This section will explain the <span style=\"color: red;\">input.data.processing</span> object of the <span style=\"color: red;\">S1GRD</span> <span style=\"color: red;\">process</span> API."
   ]
  },
  {
   "cell_type": "markdown",
   "metadata": {},
   "source": [
    "- **upsampling** : Defines the interpolation used for processing when the pixel resolution is greater than the source resolution (e.g. 5m/px with a 10m/px source). The values can be set to NEAREST(Default), BILINEAR and BICUBIC.\n",
    "- **downsampling** : Defines the interpolation used for processing when the pixel resolution is lower than the source resolution (e.g. 25m/px with a 10m/px source). The values can be set to NEAREST(Default), BILINEAR and BICUBIC.\n",
    "- **backCoeff** : Backscatter coefficient with the value can be BETA0, SIGMA0_ELLIPSOID*, GAMMA0_ELLIPSOID.\n",
    "- **orthorectify** ** : The value can be TRUE which means enabling Orthorectification and FALSE that does mean non-Orthorectified. On AWS the default is FALSE but on EOCloud the default is TRUE. "
   ]
  },
  {
   "cell_type": "markdown",
   "metadata": {},
   "source": [
    "*Gamma0 and sigma0 use an ellipsoid earth model. Radiometric terrain flattening is currently not supported.*\n",
    "\n",
    "** For orthorectification the Mapzen DEM has been used. The non-orthorectified products use a simple earth model as provided in the products themselves. This may be sufficient for very flat target areas and is faster to process."
   ]
  },
  {
   "cell_type": "markdown",
   "metadata": {},
   "source": [
    "## Getting started\n",
    "\n",
    "To run this analysis, run all the cells in the notebook, starting with the \"Import Dependencies\" cell. "
   ]
  },
  {
   "cell_type": "markdown",
   "metadata": {},
   "source": [
    "### Import Dependencies"
   ]
  },
  {
   "cell_type": "markdown",
   "metadata": {},
   "source": [
    "Import python packages that are used for API authentication and request "
   ]
  },
  {
   "cell_type": "code",
   "execution_count": 1,
   "metadata": {},
   "outputs": [],
   "source": [
    "import requests\n",
    "from oauthlib.oauth2 import BackendApplicationClient\n",
    "from requests_oauthlib import OAuth2Session"
   ]
  },
  {
   "cell_type": "markdown",
   "metadata": {},
   "source": [
    "Insert user authentication granted by Sentinel Hub in Synergise Dashboard "
   ]
  },
  {
   "cell_type": "code",
   "execution_count": 29,
   "metadata": {},
   "outputs": [],
   "source": [
    "client_id = ''\n",
    "client_secret = ''"
   ]
  },
  {
   "cell_type": "markdown",
   "metadata": {},
   "source": [
    "Checking user authentication, sending request to API and getting response by granting a specific token "
   ]
  },
  {
   "cell_type": "code",
   "execution_count": 30,
   "metadata": {},
   "outputs": [],
   "source": [
    "client = BackendApplicationClient(client_id=client_id)\n",
    "oauth = OAuth2Session(client=client)"
   ]
  },
  {
   "cell_type": "code",
   "execution_count": 31,
   "metadata": {},
   "outputs": [],
   "source": [
    "token = oauth.fetch_token(token_url='https://services.sentinel-hub.com/oauth/token', client_id=client_id,client_secret=client_secret)"
   ]
  },
  {
   "cell_type": "code",
   "execution_count": 32,
   "metadata": {},
   "outputs": [],
   "source": [
    "resp = oauth.get(\"https://services.sentinel-hub.com/oauth/tokeninfo\")"
   ]
  },
  {
   "cell_type": "markdown",
   "metadata": {},
   "source": [
    "### Two-month Temporal Average on S1GRD Orthorectified Gamma0 in VV polarization"
   ]
  },
  {
   "cell_type": "code",
   "execution_count": 33,
   "metadata": {},
   "outputs": [
    {
     "name": "stdout",
     "output_type": "stream",
     "text": [
      "<Response [200]>\n"
     ]
    }
   ],
   "source": [
    "# Service endpoint location for global Sentinel1 dataset since January 2017\n",
    "url = \"https://services.sentinel-hub.com/api/v1/process\" \n",
    "# Checking the authentication and the given access token to the user\n",
    "headers = {\n",
    "    \"Authorization\": f\"Bearer {token['access_token']}\"\n",
    "}\n",
    "#setting the body of the evalscript with analysis parameters\n",
    "evalscript = \"\"\"\n",
    "//VERSION=3\n",
    "\n",
    "function setup() {\n",
    "  return {\n",
    "    input: [\"VV\", \"dataMask\"],\n",
    "    output: {id:\"default\", bands: 1},\n",
    "    mosaicking: Mosaicking.ORBIT\n",
    "    }\n",
    "}\n",
    "\n",
    "function evaluatePixel(samples) {\n",
    "  return [calculateAverage(samples)]\n",
    "}\n",
    "\n",
    "function calculateAverage(samples) {\n",
    "  var sum = 0;\n",
    "  var nValid = 0;\n",
    "  for (let i = 0; i < samples.length; i++) {\n",
    "    var sample = samples[i];\n",
    "    if (sample.dataMask != 0) {\n",
    "      nValid++;\n",
    "      sum += toDb(sample.VV);\n",
    "    }\n",
    "  }\n",
    "  return sum / nValid;\n",
    "}\n",
    "\n",
    "function toDb(linear) {\n",
    "  return Math.max(0, Math.log(linear) * 0.21714724095 + 1)\n",
    "}\n",
    "\"\"\".rstrip()\n",
    "\n",
    "data = {\n",
    "    \"input\": {\n",
    "        \"bounds\":{\n",
    "            \"bbox\":[\n",
    "                1360000,5121900,1370000,5131900\n",
    "            ],\n",
    "            \"properties\":{\n",
    "                \"crs\":\"http://www.opengis.net/def/crs/EPSG/0/3857\"\n",
    "            }\n",
    "        },\n",
    "        \"data\": [\n",
    "            {\n",
    "                \"type\":\"S1GRD\",\n",
    "                \"dataFilter\":{\n",
    "                    \"timeRange\":{\n",
    "                        \"from\":\"2020-02-01T00:00:00Z\",\n",
    "                        \"to\":\"2020-04-02T23:59:59Z\"\n",
    "                    },\n",
    "                    \"orbitDirection\": \"ASCENDING\"\n",
    "                },\n",
    "                \"processing\":{\n",
    "                    \"orthorectify\": \"true\"\n",
    "                }\n",
    "            }\n",
    "        ]\n",
    "    },\n",
    "    \"output\": {\n",
    "        \"width\":512,\n",
    "        \"height\":512,\n",
    "        \"response\":[\n",
    "            {\n",
    "                \"identifier\": \"default\",\n",
    "                \"format\":{\n",
    "                    \"type\":\"image/png\"\n",
    "                }\n",
    "            }\n",
    "        ]\n",
    "    },\n",
    "    \"evalscript\": evalscript\n",
    "}\n",
    "response = requests.post(url, json=data, headers=headers)\n",
    "print(response)"
   ]
  },
  {
   "cell_type": "code",
   "execution_count": 34,
   "metadata": {},
   "outputs": [],
   "source": [
    "if response.status_code == 200:\n",
    "    with open('TemporalAverage_S1_VV2.tif', 'wb') as f:\n",
    "        for chunk in response:\n",
    "            f.write(chunk)"
   ]
  }
 ],
 "metadata": {
  "kernelspec": {
   "display_name": "Python 3",
   "language": "python",
   "name": "python3"
  },
  "language_info": {
   "codemirror_mode": {
    "name": "ipython",
    "version": 3
   },
   "file_extension": ".py",
   "mimetype": "text/x-python",
   "name": "python",
   "nbconvert_exporter": "python",
   "pygments_lexer": "ipython3",
   "version": "3.6.9"
  }
 },
 "nbformat": 4,
 "nbformat_minor": 4
}
