{
 "cells": [
  {
   "cell_type": "markdown",
   "metadata": {},
   "source": [
    "# API Request for Connection to Sentinel Hub <img align=\"right\" src=\"../Supplementary_data/DE_Africa_Logo_Stacked_RGB_small.jpg\">\n",
    "\n",
    "* **Products used:**\n",
    "[S1GRD](http://www.esa.int/Applications/Observing_the_Earth/Copernicus/Sentinel-1/Data_products)\n",
    "\n",
    "*Dataset is external to the Digital Earth Africa platform.*\n"
   ]
  },
  {
   "cell_type": "markdown",
   "metadata": {},
   "source": [
    "## Description\n",
    "\n",
    "This notebook demonstrates the following steps:\n",
    "1. Introduction to Sentinel Hub and its API Data and services for Sentinel-1  \n",
    "2. Estimate two-month temporal average on S1GRD orthorectified Gamma0 in VV polarization over part of Rome, Italy\n",
    "\n",
    "***"
   ]
  },
  {
   "cell_type": "markdown",
   "metadata": {},
   "source": [
    "## Introduction to Sentinel Hub"
   ]
  },
  {
   "cell_type": "markdown",
   "metadata": {},
   "source": [
    "[Sentinel Hub](https://www.sentinel-hub.com/explore) is a multi-spectral and multi-temporal big data satellite imagery service, capable of fully automated archiving, real-time processing and distribution of remote sensing data and related Earth Observation products. It is an engine for processing of petabytes of satellite data that opens the door for machine learning and helping hundreds of application developers worldwide. It makes Sentinel, Landsat, and other Earth observation imagery easily accessible for browsing, visualization and analysis. Sentinel Hub is operated by [Sinergise](https://www.sinergise.com/), a company that have developed enterprise level spatial solutions for governmental clients in Europe and Africa.\n",
    "\n",
    "> Users can access Sentinel Hub's Application Program Interface (API) to retrieve satellite data over their Area of Interest (AOI) and specific time range from full archives in a matter of seconds."
   ]
  },
  {
   "cell_type": "markdown",
   "metadata": {},
   "source": [
    "## Sentinel-1AB Collection \n",
    "\n",
    "The [Sentinel-1](https://sentinel.esa.int/web/sentinel/missions/sentinel-1) imagery is provided by two polar-orbiting satellites, operating day and night performing C-band synthetic aperture radar imaging, enabling them to acquire imagery regardless of the weather. Main applications are for monitoring sea ice, oil spills, marine winds, waves & currents, land-use change, land deformation, and to respond to emergencies such as floods and earthquakes. Sentinel Hub currently supports Sentinel-1 Level-1 GRD (Ground Range Detected) products only.  "
   ]
  },
  {
   "cell_type": "markdown",
   "metadata": {},
   "source": [
    "## How to access Sentinel Hub data and services"
   ]
  },
  {
   "cell_type": "markdown",
   "metadata": {},
   "source": [
    "The Sentinel Hub API is a RESTful API interface to various satellite [imagery archives](https://docs.sentinel-hub.com/api/latest/#/data/). It provides access to raw satellite data, rendered images, statistical analysis and much more. In order to access and use sentinel hub services through API calls, the user needs to `follow these three steps`:\n",
    "\n",
    "1. Register to  [Sentinel Hub](https://www.sentinel-hub.com/) portal \n",
    "2. [Authentication](https://docs.sentinel-hub.com/api/latest/#/API/authentication)\n",
    "3. [Process](https://docs.sentinel-hub.com/api/latest/#/Evalscript/) \n",
    "\n",
    "Following registration to the Sentinel Hub, the user will be allocated a non-commercial account with dynamic dashboard that shows the subscription plan, processing units and the number of requests per minute."
   ]
  },
  {
   "cell_type": "markdown",
   "metadata": {},
   "source": [
    "## Data Availibility "
   ]
  },
  {
   "cell_type": "markdown",
   "metadata": {},
   "source": [
    "Sentinel Hub Earth Observation collection is available in several deployments including:\n",
    "- Main Sentinel Hub deployment - EU-1-Central region \n",
    "- Main Sentinel Hub deployment - US-West-2 region\n",
    "- CreoDIAS Sentinel Hub deployment\n",
    "- EOCloud Sentinel Hub deployment\n",
    "\n",
    "The hub can be searched and accessed through WMS services following registration to the Sentinel hub.  "
   ]
  },
  {
   "cell_type": "markdown",
   "metadata": {},
   "source": [
    "> Enter the `WMS URL endpoint` location for global Earth Observation Dataset using configuration dashboard.  "
   ]
  },
  {
   "cell_type": "code",
   "execution_count": 50,
   "metadata": {},
   "outputs": [],
   "source": [
    "#enter the WMS URL endpoint for specific EO collection \n",
    "URL = 'https://services.sentinel-hub.com/ogc/wms/7677773d-8b8c-4ba8-b7ee-a10316f65ada'"
   ]
  },
  {
   "cell_type": "markdown",
   "metadata": {},
   "source": [
    "## Getting started\n",
    "\n",
    "To run this analysis, run all the cells in the notebook, starting with the \"Load Packages\" cell. "
   ]
  },
  {
   "cell_type": "markdown",
   "metadata": {},
   "source": [
    "## Load Packages"
   ]
  },
  {
   "cell_type": "markdown",
   "metadata": {},
   "source": [
    "Import python packages that are used for API authentication and request. \n",
    "> Using `pip install owslib` users can install the package locally followed by restarting the kernel. "
   ]
  },
  {
   "cell_type": "code",
   "execution_count": 51,
   "metadata": {},
   "outputs": [],
   "source": [
    "import owslib\n",
    "import os \n",
    "import uuid\n",
    "import pandas as pd \n",
    "import xarray as xr \n",
    "import subprocess \n",
    "from owslib.wms import WebMapService\n",
    "from IPython.display import display"
   ]
  },
  {
   "cell_type": "markdown",
   "metadata": {},
   "source": [
    "## Explore the WMS service \n",
    "Function to Explore WMS service available for specific data collection on Sentinel hub portal "
   ]
  },
  {
   "cell_type": "code",
   "execution_count": 52,
   "metadata": {},
   "outputs": [],
   "source": [
    "def wms_layers_styles(url):\n",
    "    # Get WMS data from URL\n",
    "    wms_items = dict(WebMapService(url, version='1.3.0').items())\n",
    "    layers_styles = {key: val.styles.keys() for key, val in wms_items.items()}\n",
    "    # Create a dataframe with an index of layer names and list of styles\n",
    "    layers_df = pd.DataFrame(index=layers_styles.keys())\n",
    "    layers_df['styles'] = layers_styles.values()\n",
    "    layers_df.index.name = 'layer'\n",
    "    # Print output\n",
    "    with pd.option_context('display.max_rows', None, \n",
    "                           'display.max_colwidth', 255):\n",
    "        display(layers_df)\n",
    "    return layers_df"
   ]
  },
  {
   "cell_type": "code",
   "execution_count": 53,
   "metadata": {},
   "outputs": [
    {
     "data": {
      "text/html": [
       "<div>\n",
       "<style scoped>\n",
       "    .dataframe tbody tr th:only-of-type {\n",
       "        vertical-align: middle;\n",
       "    }\n",
       "\n",
       "    .dataframe tbody tr th {\n",
       "        vertical-align: top;\n",
       "    }\n",
       "\n",
       "    .dataframe thead th {\n",
       "        text-align: right;\n",
       "    }\n",
       "</style>\n",
       "<table border=\"1\" class=\"dataframe\">\n",
       "  <thead>\n",
       "    <tr style=\"text-align: right;\">\n",
       "      <th></th>\n",
       "      <th>styles</th>\n",
       "    </tr>\n",
       "    <tr>\n",
       "      <th>layer</th>\n",
       "      <th></th>\n",
       "    </tr>\n",
       "  </thead>\n",
       "  <tbody>\n",
       "    <tr>\n",
       "      <th>TRUE-COLOR-S2-L2A</th>\n",
       "      <td>(default)</td>\n",
       "    </tr>\n",
       "    <tr>\n",
       "      <th>BANDS-MODIS</th>\n",
       "      <td>(default)</td>\n",
       "    </tr>\n",
       "    <tr>\n",
       "      <th>TRUE-COLOR-S1-IW</th>\n",
       "      <td>(default)</td>\n",
       "    </tr>\n",
       "    <tr>\n",
       "      <th>TRUE-COLOR-S2-L1C</th>\n",
       "      <td>(default)</td>\n",
       "    </tr>\n",
       "    <tr>\n",
       "      <th>BANDS-L8</th>\n",
       "      <td>(default)</td>\n",
       "    </tr>\n",
       "    <tr>\n",
       "      <th>BANDS-S1-EW-SH</th>\n",
       "      <td>(default)</td>\n",
       "    </tr>\n",
       "    <tr>\n",
       "      <th>BANDS-S1-IW</th>\n",
       "      <td>(default)</td>\n",
       "    </tr>\n",
       "    <tr>\n",
       "      <th>BANDS-S2-L2A</th>\n",
       "      <td>(default)</td>\n",
       "    </tr>\n",
       "    <tr>\n",
       "      <th>BANDS-S2CLOUDLESS</th>\n",
       "      <td>(default)</td>\n",
       "    </tr>\n",
       "    <tr>\n",
       "      <th>DEM</th>\n",
       "      <td>(default)</td>\n",
       "    </tr>\n",
       "    <tr>\n",
       "      <th>NDVI</th>\n",
       "      <td>(default)</td>\n",
       "    </tr>\n",
       "    <tr>\n",
       "      <th>NDWI</th>\n",
       "      <td>(default)</td>\n",
       "    </tr>\n",
       "    <tr>\n",
       "      <th>TRUE-COLOR-DEM</th>\n",
       "      <td>(default)</td>\n",
       "    </tr>\n",
       "    <tr>\n",
       "      <th>TRUE-COLOR-L8</th>\n",
       "      <td>(default)</td>\n",
       "    </tr>\n",
       "    <tr>\n",
       "      <th>TRUE-COLOR-MODIS</th>\n",
       "      <td>(default)</td>\n",
       "    </tr>\n",
       "    <tr>\n",
       "      <th>TRUE-COLOR-S1-EW-SH</th>\n",
       "      <td>(default)</td>\n",
       "    </tr>\n",
       "    <tr>\n",
       "      <th>BANDS-S2-L1C</th>\n",
       "      <td>(default)</td>\n",
       "    </tr>\n",
       "    <tr>\n",
       "      <th>BANDS-S1-EW</th>\n",
       "      <td>(default)</td>\n",
       "    </tr>\n",
       "    <tr>\n",
       "      <th>TRUE-COLOR-S1-EW</th>\n",
       "      <td>(default)</td>\n",
       "    </tr>\n",
       "  </tbody>\n",
       "</table>\n",
       "</div>"
      ],
      "text/plain": [
       "                        styles\n",
       "layer                         \n",
       "TRUE-COLOR-S2-L2A    (default)\n",
       "BANDS-MODIS          (default)\n",
       "TRUE-COLOR-S1-IW     (default)\n",
       "TRUE-COLOR-S2-L1C    (default)\n",
       "BANDS-L8             (default)\n",
       "BANDS-S1-EW-SH       (default)\n",
       "BANDS-S1-IW          (default)\n",
       "BANDS-S2-L2A         (default)\n",
       "BANDS-S2CLOUDLESS    (default)\n",
       "DEM                  (default)\n",
       "NDVI                 (default)\n",
       "NDWI                 (default)\n",
       "TRUE-COLOR-DEM       (default)\n",
       "TRUE-COLOR-L8        (default)\n",
       "TRUE-COLOR-MODIS     (default)\n",
       "TRUE-COLOR-S1-EW-SH  (default)\n",
       "BANDS-S2-L1C         (default)\n",
       "BANDS-S1-EW          (default)\n",
       "TRUE-COLOR-S1-EW     (default)"
      ]
     },
     "metadata": {},
     "output_type": "display_data"
    }
   ],
   "source": [
    "layers_df = wms_layers_styles(url=URL)"
   ]
  },
  {
   "cell_type": "markdown",
   "metadata": {},
   "source": [
    "Function to explore the data by querrying for specific area "
   ]
  },
  {
   "cell_type": "code",
   "execution_count": 54,
   "metadata": {},
   "outputs": [],
   "source": [
    "def wms_xarray(url, \n",
    "               layer, \n",
    "               bbox, \n",
    "               layerstyle, \n",
    "               layertime,                \n",
    "               layerformat='png', \n",
    "               layersizex=512, \n",
    "               layersizey=512,\n",
    "               epsg='EPSG:4326'):\n",
    "    # Get extent\n",
    "    y_max, x_min, y_min, x_max = bbox\n",
    "    # Use unique ID to solve issue where xr.open_rasterio\n",
    "    # caches the output result\n",
    "    unique_id = str(uuid.uuid4())\n",
    "    infile = f'{unique_id}.tif'\n",
    "    outfile = f'{unique_id}_georef.tif'\n",
    "    wms = WebMapService(url, version='1.3.0')\n",
    "    crs = sorted(wms[layer].crsOptions)\n",
    "    time = wms[layer].timepositions\n",
    "    output = wms.getmap(layers=[layer],\n",
    "                styles=[layerstyle],\n",
    "                srs='EPSG:4326',\n",
    "                bbox=(x_min, y_min, x_max, y_max),\n",
    "                size=(layersizex, layersizey),\n",
    "                format='image/'+layerformat,\n",
    "                time=layertime\n",
    "                )\n",
    "    with open(infile, 'wb') as out:\n",
    "        out.write(output.read())   \n",
    "    # Assign projection data (to improve)\n",
    "    subprocess.call(['gdal_translate','-a_srs', epsg, \n",
    "                     '-a_ullr', str(x_min), str(y_max), str(x_max), str(y_min), \n",
    "                     infile, outfile])\n",
    "    ds = xr.open_rasterio(outfile)\n",
    "    # Remove temporary rasters\n",
    "    os.remove(outfile)\n",
    "    os.remove(infile )\n",
    "    return(ds)"
   ]
  },
  {
   "cell_type": "markdown",
   "metadata": {},
   "source": [
    "## Analysis Parameters\n",
    "\n",
    "For a full descriptions of options for loading `Sentinel-1 GRD` data see the [product description](https://docs.sentinel-hub.com/api/latest/#/data/Sentinel-1-GRD)\n",
    "\n",
    "The following default parameters will load Sentinel 1-GRD Orthorectified Gamma0 in VV polarization data over SOME LOCATION IN AFRICA HERE.\n",
    "\n",
    "You can change the parameters below to load a different location and diffent time period."
   ]
  },
  {
   "cell_type": "code",
   "execution_count": 33,
   "metadata": {},
   "outputs": [],
   "source": [
    "AOI = \n",
    "time_start =\n",
    "time_end =\n",
    "mosaicking = \n",
    "bands = \n",
    "tiff_name = 'TemporalAverage_S1_VV2.tif'"
   ]
  },
  {
   "cell_type": "code",
   "execution_count": 60,
   "metadata": {},
   "outputs": [
    {
     "data": {
      "text/plain": [
       "{'default': {'title': 'default'}}"
      ]
     },
     "execution_count": 60,
     "metadata": {},
     "output_type": "execute_result"
    }
   ],
   "source": [
    "WebMapService(url=URL, version='1.3.0').items()\n",
    "WebMapService(url=URL, version='1.3.0')[\"BANDS-L8\"].styles"
   ]
  },
  {
   "cell_type": "markdown",
   "metadata": {},
   "source": [
    "### Generate an evalscript\n",
    "\n",
    "This is how we query and extract data from the API"
   ]
  },
  {
   "cell_type": "code",
   "execution_count": 61,
   "metadata": {},
   "outputs": [
    {
     "ename": "ServiceException",
     "evalue": "<?xml version='1.0' encoding=\"UTF-8\"?>\n<ServiceExceptionReport version=\"1.3.0\"\n\txmlns=\"http://www.opengis.net/ogc\"\n\txmlns:xsi=\"http://www.w3.org/2001/XMLSchema-instance\"\n\txsi:schemaLocation=\"http://www.opengis.net/ogc http://schemas.opengis.net/wms/1.3.0/exceptions_1_3_0.xsd\">\n\t<ServiceException>\n\t\t<![CDATA[ Dataset type L8L1C not supported here. Please use https://services-uswest2.sentinel-hub.com endpoint. ]]>\n\t</ServiceException>\n</ServiceExceptionReport>",
     "output_type": "error",
     "traceback": [
      "\u001b[0;31m---------------------------------------------------------------------------\u001b[0m",
      "\u001b[0;31mServiceException\u001b[0m                          Traceback (most recent call last)",
      "\u001b[0;32m<ipython-input-61-3d6f854d46c4>\u001b[0m in \u001b[0;36m<module>\u001b[0;34m\u001b[0m\n\u001b[1;32m      3\u001b[0m                 \u001b[0mbbox\u001b[0m\u001b[0;34m=\u001b[0m \u001b[0;34m[\u001b[0m\u001b[0;34m-\u001b[0m\u001b[0;36m28.157021\u001b[0m\u001b[0;34m,\u001b[0m \u001b[0;36m140.961682\u001b[0m\u001b[0;34m,\u001b[0m \u001b[0;34m-\u001b[0m\u001b[0;36m29.159082\u001b[0m\u001b[0;34m,\u001b[0m \u001b[0;36m141.109154\u001b[0m\u001b[0;34m]\u001b[0m\u001b[0;34m,\u001b[0m\u001b[0;34m\u001b[0m\u001b[0;34m\u001b[0m\u001b[0m\n\u001b[1;32m      4\u001b[0m                 \u001b[0mlayerstyle\u001b[0m\u001b[0;34m=\u001b[0m\u001b[0;34m'default'\u001b[0m\u001b[0;34m,\u001b[0m\u001b[0;34m\u001b[0m\u001b[0;34m\u001b[0m\u001b[0m\n\u001b[0;32m----> 5\u001b[0;31m                 layertime='2020-04-02T23:59:59Z')\n\u001b[0m",
      "\u001b[0;32m<ipython-input-54-cdf91be43060>\u001b[0m in \u001b[0;36mwms_xarray\u001b[0;34m(url, layer, bbox, layerstyle, layertime, layerformat, layersizex, layersizey, epsg)\u001b[0m\n\u001b[1;32m     24\u001b[0m                 \u001b[0msize\u001b[0m\u001b[0;34m=\u001b[0m\u001b[0;34m(\u001b[0m\u001b[0mlayersizex\u001b[0m\u001b[0;34m,\u001b[0m \u001b[0mlayersizey\u001b[0m\u001b[0;34m)\u001b[0m\u001b[0;34m,\u001b[0m\u001b[0;34m\u001b[0m\u001b[0;34m\u001b[0m\u001b[0m\n\u001b[1;32m     25\u001b[0m                 \u001b[0mformat\u001b[0m\u001b[0;34m=\u001b[0m\u001b[0;34m'image/'\u001b[0m\u001b[0;34m+\u001b[0m\u001b[0mlayerformat\u001b[0m\u001b[0;34m,\u001b[0m\u001b[0;34m\u001b[0m\u001b[0;34m\u001b[0m\u001b[0m\n\u001b[0;32m---> 26\u001b[0;31m                 \u001b[0mtime\u001b[0m\u001b[0;34m=\u001b[0m\u001b[0mlayertime\u001b[0m\u001b[0;34m\u001b[0m\u001b[0;34m\u001b[0m\u001b[0m\n\u001b[0m\u001b[1;32m     27\u001b[0m                 )\n\u001b[1;32m     28\u001b[0m     \u001b[0;32mwith\u001b[0m \u001b[0mopen\u001b[0m\u001b[0;34m(\u001b[0m\u001b[0minfile\u001b[0m\u001b[0;34m,\u001b[0m \u001b[0;34m'wb'\u001b[0m\u001b[0;34m)\u001b[0m \u001b[0;32mas\u001b[0m \u001b[0mout\u001b[0m\u001b[0;34m:\u001b[0m\u001b[0;34m\u001b[0m\u001b[0;34m\u001b[0m\u001b[0m\n",
      "\u001b[0;32m/env/lib/python3.6/site-packages/owslib/map/wms130.py\u001b[0m in \u001b[0;36mgetmap\u001b[0;34m(self, layers, styles, srs, bbox, format, size, time, elevation, dimensions, transparent, bgcolor, exceptions, method, timeout, **kwargs)\u001b[0m\n\u001b[1;32m    306\u001b[0m         \u001b[0mself\u001b[0m\u001b[0;34m.\u001b[0m\u001b[0mrequest\u001b[0m \u001b[0;34m=\u001b[0m \u001b[0mbind_url\u001b[0m\u001b[0;34m(\u001b[0m\u001b[0mbase_url\u001b[0m\u001b[0;34m)\u001b[0m \u001b[0;34m+\u001b[0m \u001b[0mdata\u001b[0m\u001b[0;34m\u001b[0m\u001b[0;34m\u001b[0m\u001b[0m\n\u001b[1;32m    307\u001b[0m \u001b[0;34m\u001b[0m\u001b[0m\n\u001b[0;32m--> 308\u001b[0;31m         \u001b[0mu\u001b[0m \u001b[0;34m=\u001b[0m \u001b[0mopenURL\u001b[0m\u001b[0;34m(\u001b[0m\u001b[0mbase_url\u001b[0m\u001b[0;34m,\u001b[0m \u001b[0mdata\u001b[0m\u001b[0;34m,\u001b[0m \u001b[0mmethod\u001b[0m\u001b[0;34m,\u001b[0m \u001b[0mtimeout\u001b[0m\u001b[0;34m=\u001b[0m\u001b[0mtimeout\u001b[0m \u001b[0;32mor\u001b[0m \u001b[0mself\u001b[0m\u001b[0;34m.\u001b[0m\u001b[0mtimeout\u001b[0m\u001b[0;34m,\u001b[0m \u001b[0mauth\u001b[0m\u001b[0;34m=\u001b[0m\u001b[0mself\u001b[0m\u001b[0;34m.\u001b[0m\u001b[0mauth\u001b[0m\u001b[0;34m)\u001b[0m\u001b[0;34m\u001b[0m\u001b[0;34m\u001b[0m\u001b[0m\n\u001b[0m\u001b[1;32m    309\u001b[0m \u001b[0;34m\u001b[0m\u001b[0m\n\u001b[1;32m    310\u001b[0m         \u001b[0;31m# need to handle casing in the header keys\u001b[0m\u001b[0;34m\u001b[0m\u001b[0;34m\u001b[0m\u001b[0;34m\u001b[0m\u001b[0m\n",
      "\u001b[0;32m/env/lib/python3.6/site-packages/owslib/util.py\u001b[0m in \u001b[0;36mopenURL\u001b[0;34m(url_base, data, method, cookies, username, password, timeout, headers, verify, cert, auth)\u001b[0m\n\u001b[1;32m    205\u001b[0m \u001b[0;34m\u001b[0m\u001b[0m\n\u001b[1;32m    206\u001b[0m     \u001b[0;32mif\u001b[0m \u001b[0mreq\u001b[0m\u001b[0;34m.\u001b[0m\u001b[0mstatus_code\u001b[0m \u001b[0;32min\u001b[0m \u001b[0;34m[\u001b[0m\u001b[0;36m400\u001b[0m\u001b[0;34m,\u001b[0m \u001b[0;36m401\u001b[0m\u001b[0;34m]\u001b[0m\u001b[0;34m:\u001b[0m\u001b[0;34m\u001b[0m\u001b[0;34m\u001b[0m\u001b[0m\n\u001b[0;32m--> 207\u001b[0;31m         \u001b[0;32mraise\u001b[0m \u001b[0mServiceException\u001b[0m\u001b[0;34m(\u001b[0m\u001b[0mreq\u001b[0m\u001b[0;34m.\u001b[0m\u001b[0mtext\u001b[0m\u001b[0;34m)\u001b[0m\u001b[0;34m\u001b[0m\u001b[0;34m\u001b[0m\u001b[0m\n\u001b[0m\u001b[1;32m    208\u001b[0m \u001b[0;34m\u001b[0m\u001b[0m\n\u001b[1;32m    209\u001b[0m     \u001b[0;32mif\u001b[0m \u001b[0mreq\u001b[0m\u001b[0;34m.\u001b[0m\u001b[0mstatus_code\u001b[0m \u001b[0;32min\u001b[0m \u001b[0;34m[\u001b[0m\u001b[0;36m404\u001b[0m\u001b[0;34m,\u001b[0m \u001b[0;36m500\u001b[0m\u001b[0;34m,\u001b[0m \u001b[0;36m502\u001b[0m\u001b[0;34m,\u001b[0m \u001b[0;36m503\u001b[0m\u001b[0;34m,\u001b[0m \u001b[0;36m504\u001b[0m\u001b[0;34m]\u001b[0m\u001b[0;34m:\u001b[0m    \u001b[0;31m# add more if needed\u001b[0m\u001b[0;34m\u001b[0m\u001b[0;34m\u001b[0m\u001b[0m\n",
      "\u001b[0;31mServiceException\u001b[0m: <?xml version='1.0' encoding=\"UTF-8\"?>\n<ServiceExceptionReport version=\"1.3.0\"\n\txmlns=\"http://www.opengis.net/ogc\"\n\txmlns:xsi=\"http://www.w3.org/2001/XMLSchema-instance\"\n\txsi:schemaLocation=\"http://www.opengis.net/ogc http://schemas.opengis.net/wms/1.3.0/exceptions_1_3_0.xsd\">\n\t<ServiceException>\n\t\t<![CDATA[ Dataset type L8L1C not supported here. Please use https://services-uswest2.sentinel-hub.com endpoint. ]]>\n\t</ServiceException>\n</ServiceExceptionReport>"
     ]
    }
   ],
   "source": [
    "ds = wms_xarray(url=URL,  #WMS for background image\n",
    "                layer=\"BANDS-L8\",  #WMS layer name\n",
    "                bbox= [-28.157021, 140.961682, -29.159082, 141.109154], \n",
    "                layerstyle='default',\n",
    "                layertime='2020-04-02T23:59:59Z')"
   ]
  },
  {
   "cell_type": "code",
   "execution_count": 47,
   "metadata": {},
   "outputs": [
    {
     "name": "stdout",
     "output_type": "stream",
     "text": [
      "<class 'xarray.core.dataarray.DataArray'>\n"
     ]
    }
   ],
   "source": [
    "print(type(ds))"
   ]
  },
  {
   "cell_type": "code",
   "execution_count": 48,
   "metadata": {},
   "outputs": [
    {
     "ename": "TypeError",
     "evalue": "unhashable type: 'DataArray'",
     "output_type": "error",
     "traceback": [
      "\u001b[0;31m---------------------------------------------------------------------------\u001b[0m",
      "\u001b[0;31mTypeError\u001b[0m                                 Traceback (most recent call last)",
      "\u001b[0;32m<ipython-input-48-62adf2373ccc>\u001b[0m in \u001b[0;36m<module>\u001b[0;34m\u001b[0m\n\u001b[0;32m----> 1\u001b[0;31m \u001b[0mS1GRD\u001b[0m \u001b[0;34m=\u001b[0m \u001b[0mxr\u001b[0m\u001b[0;34m.\u001b[0m\u001b[0mopen_rasterio\u001b[0m\u001b[0;34m(\u001b[0m\u001b[0mds\u001b[0m\u001b[0;34m)\u001b[0m\u001b[0;34m\u001b[0m\u001b[0;34m\u001b[0m\u001b[0m\n\u001b[0m\u001b[1;32m      2\u001b[0m \u001b[0mS1GRD\u001b[0m\u001b[0;34m.\u001b[0m\u001b[0mplot\u001b[0m\u001b[0;34m(\u001b[0m\u001b[0mfigsize\u001b[0m\u001b[0;34m=\u001b[0m\u001b[0;34m(\u001b[0m\u001b[0;36m10\u001b[0m\u001b[0;34m,\u001b[0m\u001b[0;36m10\u001b[0m\u001b[0;34m)\u001b[0m\u001b[0;34m)\u001b[0m\u001b[0;34m\u001b[0m\u001b[0;34m\u001b[0m\u001b[0m\n",
      "\u001b[0;32m/env/lib/python3.6/site-packages/xarray/backends/rasterio_.py\u001b[0m in \u001b[0;36mopen_rasterio\u001b[0;34m(filename, parse_coordinates, chunks, cache, lock)\u001b[0m\n\u001b[1;32m    236\u001b[0m         \u001b[0mlock\u001b[0m \u001b[0;34m=\u001b[0m \u001b[0mRASTERIO_LOCK\u001b[0m\u001b[0;34m\u001b[0m\u001b[0;34m\u001b[0m\u001b[0m\n\u001b[1;32m    237\u001b[0m \u001b[0;34m\u001b[0m\u001b[0m\n\u001b[0;32m--> 238\u001b[0;31m     \u001b[0mmanager\u001b[0m \u001b[0;34m=\u001b[0m \u001b[0mCachingFileManager\u001b[0m\u001b[0;34m(\u001b[0m\u001b[0mrasterio\u001b[0m\u001b[0;34m.\u001b[0m\u001b[0mopen\u001b[0m\u001b[0;34m,\u001b[0m \u001b[0mfilename\u001b[0m\u001b[0;34m,\u001b[0m \u001b[0mlock\u001b[0m\u001b[0;34m=\u001b[0m\u001b[0mlock\u001b[0m\u001b[0;34m,\u001b[0m \u001b[0mmode\u001b[0m\u001b[0;34m=\u001b[0m\u001b[0;34m\"r\"\u001b[0m\u001b[0;34m)\u001b[0m\u001b[0;34m\u001b[0m\u001b[0;34m\u001b[0m\u001b[0m\n\u001b[0m\u001b[1;32m    239\u001b[0m     \u001b[0mriods\u001b[0m \u001b[0;34m=\u001b[0m \u001b[0mmanager\u001b[0m\u001b[0;34m.\u001b[0m\u001b[0macquire\u001b[0m\u001b[0;34m(\u001b[0m\u001b[0;34m)\u001b[0m\u001b[0;34m\u001b[0m\u001b[0;34m\u001b[0m\u001b[0m\n\u001b[1;32m    240\u001b[0m     \u001b[0;32mif\u001b[0m \u001b[0mvrt_params\u001b[0m \u001b[0;32mis\u001b[0m \u001b[0;32mnot\u001b[0m \u001b[0;32mNone\u001b[0m\u001b[0;34m:\u001b[0m\u001b[0;34m\u001b[0m\u001b[0;34m\u001b[0m\u001b[0m\n",
      "\u001b[0;32m/env/lib/python3.6/site-packages/xarray/backends/file_manager.py\u001b[0m in \u001b[0;36m__init__\u001b[0;34m(self, opener, mode, kwargs, lock, cache, ref_counts, *args)\u001b[0m\n\u001b[1;32m    135\u001b[0m             \u001b[0mcache\u001b[0m \u001b[0;34m=\u001b[0m \u001b[0mFILE_CACHE\u001b[0m\u001b[0;34m\u001b[0m\u001b[0;34m\u001b[0m\u001b[0m\n\u001b[1;32m    136\u001b[0m         \u001b[0mself\u001b[0m\u001b[0;34m.\u001b[0m\u001b[0m_cache\u001b[0m \u001b[0;34m=\u001b[0m \u001b[0mcache\u001b[0m\u001b[0;34m\u001b[0m\u001b[0;34m\u001b[0m\u001b[0m\n\u001b[0;32m--> 137\u001b[0;31m         \u001b[0mself\u001b[0m\u001b[0;34m.\u001b[0m\u001b[0m_key\u001b[0m \u001b[0;34m=\u001b[0m \u001b[0mself\u001b[0m\u001b[0;34m.\u001b[0m\u001b[0m_make_key\u001b[0m\u001b[0;34m(\u001b[0m\u001b[0;34m)\u001b[0m\u001b[0;34m\u001b[0m\u001b[0;34m\u001b[0m\u001b[0m\n\u001b[0m\u001b[1;32m    138\u001b[0m \u001b[0;34m\u001b[0m\u001b[0m\n\u001b[1;32m    139\u001b[0m         \u001b[0;31m# ref_counts[self._key] stores the number of CachingFileManager objects\u001b[0m\u001b[0;34m\u001b[0m\u001b[0;34m\u001b[0m\u001b[0;34m\u001b[0m\u001b[0m\n",
      "\u001b[0;32m/env/lib/python3.6/site-packages/xarray/backends/file_manager.py\u001b[0m in \u001b[0;36m_make_key\u001b[0;34m(self)\u001b[0m\n\u001b[1;32m    153\u001b[0m             \u001b[0mtuple\u001b[0m\u001b[0;34m(\u001b[0m\u001b[0msorted\u001b[0m\u001b[0;34m(\u001b[0m\u001b[0mself\u001b[0m\u001b[0;34m.\u001b[0m\u001b[0m_kwargs\u001b[0m\u001b[0;34m.\u001b[0m\u001b[0mitems\u001b[0m\u001b[0;34m(\u001b[0m\u001b[0;34m)\u001b[0m\u001b[0;34m)\u001b[0m\u001b[0;34m)\u001b[0m\u001b[0;34m,\u001b[0m\u001b[0;34m\u001b[0m\u001b[0;34m\u001b[0m\u001b[0m\n\u001b[1;32m    154\u001b[0m         )\n\u001b[0;32m--> 155\u001b[0;31m         \u001b[0;32mreturn\u001b[0m \u001b[0m_HashedSequence\u001b[0m\u001b[0;34m(\u001b[0m\u001b[0mvalue\u001b[0m\u001b[0;34m)\u001b[0m\u001b[0;34m\u001b[0m\u001b[0;34m\u001b[0m\u001b[0m\n\u001b[0m\u001b[1;32m    156\u001b[0m \u001b[0;34m\u001b[0m\u001b[0m\n\u001b[1;32m    157\u001b[0m     \u001b[0;34m@\u001b[0m\u001b[0mcontextlib\u001b[0m\u001b[0;34m.\u001b[0m\u001b[0mcontextmanager\u001b[0m\u001b[0;34m\u001b[0m\u001b[0;34m\u001b[0m\u001b[0m\n",
      "\u001b[0;32m/env/lib/python3.6/site-packages/xarray/backends/file_manager.py\u001b[0m in \u001b[0;36m__init__\u001b[0;34m(self, tuple_value)\u001b[0m\n\u001b[1;32m    307\u001b[0m     \u001b[0;32mdef\u001b[0m \u001b[0m__init__\u001b[0m\u001b[0;34m(\u001b[0m\u001b[0mself\u001b[0m\u001b[0;34m,\u001b[0m \u001b[0mtuple_value\u001b[0m\u001b[0;34m)\u001b[0m\u001b[0;34m:\u001b[0m\u001b[0;34m\u001b[0m\u001b[0;34m\u001b[0m\u001b[0m\n\u001b[1;32m    308\u001b[0m         \u001b[0mself\u001b[0m\u001b[0;34m[\u001b[0m\u001b[0;34m:\u001b[0m\u001b[0;34m]\u001b[0m \u001b[0;34m=\u001b[0m \u001b[0mtuple_value\u001b[0m\u001b[0;34m\u001b[0m\u001b[0;34m\u001b[0m\u001b[0m\n\u001b[0;32m--> 309\u001b[0;31m         \u001b[0mself\u001b[0m\u001b[0;34m.\u001b[0m\u001b[0mhashvalue\u001b[0m \u001b[0;34m=\u001b[0m \u001b[0mhash\u001b[0m\u001b[0;34m(\u001b[0m\u001b[0mtuple_value\u001b[0m\u001b[0;34m)\u001b[0m\u001b[0;34m\u001b[0m\u001b[0;34m\u001b[0m\u001b[0m\n\u001b[0m\u001b[1;32m    310\u001b[0m \u001b[0;34m\u001b[0m\u001b[0m\n\u001b[1;32m    311\u001b[0m     \u001b[0;32mdef\u001b[0m \u001b[0m__hash__\u001b[0m\u001b[0;34m(\u001b[0m\u001b[0mself\u001b[0m\u001b[0;34m)\u001b[0m\u001b[0;34m:\u001b[0m\u001b[0;34m\u001b[0m\u001b[0;34m\u001b[0m\u001b[0m\n",
      "\u001b[0;31mTypeError\u001b[0m: unhashable type: 'DataArray'"
     ]
    }
   ],
   "source": [
    "S1GRD = xr.open_rasterio(ds)\n",
    "S1GRD.plot(figsize=(10,10))"
   ]
  },
  {
   "cell_type": "code",
   "execution_count": null,
   "metadata": {},
   "outputs": [],
   "source": []
  }
 ],
 "metadata": {
  "kernelspec": {
   "display_name": "Python 3",
   "language": "python",
   "name": "python3"
  },
  "language_info": {
   "codemirror_mode": {
    "name": "ipython",
    "version": 3
   },
   "file_extension": ".py",
   "mimetype": "text/x-python",
   "name": "python",
   "nbconvert_exporter": "python",
   "pygments_lexer": "ipython3",
   "version": "3.6.9"
  }
 },
 "nbformat": 4,
 "nbformat_minor": 4
}
