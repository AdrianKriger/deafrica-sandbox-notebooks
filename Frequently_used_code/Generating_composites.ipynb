{
 "cells": [
  {
   "cell_type": "markdown",
   "metadata": {},
   "source": [
    "# Generating composite images <img align=\"right\" src=\"../Supplementary_data/DE_Africa_Logo_Stacked_RGB_small.jpg\">\n",
    "\n",
    "* **Products used:** \n",
    "[ls8_usgs_sr_scene](https://explorer.digitalearth.africa/ls8_usgs_sr_scene)\n"
   ]
  },
  {
   "cell_type": "markdown",
   "metadata": {},
   "source": [
    "## Background\n",
    "\n",
    "Individual remote sensing images can be affected by noisy data, including clouds, cloud shadows, and haze. \n",
    "To produce cleaner images that can be compared more easily across time, we can create 'summary' images or 'composites' that combine multiple images into one.\n",
    "\n",
    "Some methods for generating composites include estimating the medain, minimum, maximum, or most recent pixel values in an image.\n",
    "Care must be taken with these, as they do not necessarily preserve spectral relationships across bands. \n",
    "To learn how to generate a composite that does preserve these relationships, see the [Generating geomedian composites notebook](Generating_geomedian_composites.ipynb)."
   ]
  },
  {
   "cell_type": "markdown",
   "metadata": {},
   "source": [
    "## Description\n",
    "This notebook demonstrates how to generate a number of different composites from satellite images, and discusses the uses of each.\n",
    "Specifically, this notebook demonstrates how to generate:\n",
    "\n",
    "1. Median composites\n",
    "2. Minimum and maximum composites\n",
    "3. Most recent composites\n",
    "\n",
    "***"
   ]
  },
  {
   "cell_type": "markdown",
   "metadata": {},
   "source": [
    "## Getting started\n",
    "\n",
    "To run this analysis, run all the cells in the notebook, starting with the \"Load packages\" cell. "
   ]
  },
  {
   "cell_type": "markdown",
   "metadata": {},
   "source": [
    "### Load packages\n",
    "Import Python packages that are used for the analysis."
   ]
  },
  {
   "cell_type": "code",
   "execution_count": null,
   "metadata": {},
   "outputs": [],
   "source": [
    "%matplotlib inline\n",
    "\n",
    "import datacube\n",
    "import matplotlib.pyplot as plt\n",
    "import numpy as np\n",
    "import pandas as pd\n",
    "import sys\n",
    "import xarray as xr\n",
    "\n",
    "sys.path.append('../Scripts')\n",
    "from deafrica_plotting import rgb\n",
    "from deafrica_datahandling import load_ard, mostcommon_crs\n",
    "from deafrica_bandindices import calculate_indices\n"
   ]
  },
  {
   "cell_type": "markdown",
   "metadata": {},
   "source": [
    "### Connect to the datacube\n",
    "\n",
    "Connect to the datacube so we can access DEA data.\n",
    "The `app` parameter is a unique name for the analysis which is based on the notebook file name."
   ]
  },
  {
   "cell_type": "code",
   "execution_count": null,
   "metadata": {},
   "outputs": [],
   "source": [
    "dc = datacube.Datacube(app='Generating_composites')"
   ]
  },
  {
   "cell_type": "markdown",
   "metadata": {},
   "source": [
    "## Load Landsat 8 data\n",
    "\n",
    "Here we load a timeseries of cloud-masked Landsat 8 satellite images through the datacube API using the [load_ard](Using_load_ard.ipynb) function."
   ]
  },
  {
   "cell_type": "code",
   "execution_count": null,
   "metadata": {},
   "outputs": [],
   "source": [
    "# Create a query object\n",
    "lat, lon = 13.94, -16.54\n",
    "buffer = 0.25\n",
    "\n",
    "# Create a reusable query\n",
    "query = {\n",
    "    'x': (lon-buffer, lon+buffer),\n",
    "    'y': (lat+buffer, lat-buffer),\n",
    "    'time': ('2017'),\n",
    "    'measurements': ['green',\n",
    "                     'red',\n",
    "                     'blue',\n",
    "                     'nir'],\n",
    "    'resolution': (-30, 30),\n",
    "    'group_by': 'solar_day'\n",
    "}\n",
    "\n",
    "# Identify the most common projection system in the input query\n",
    "output_crs = mostcommon_crs(dc=dc, product='ls8_usgs_sr_scene', query=query)\n",
    "\n",
    "# Load available data\n",
    "ds = load_ard(dc=dc, \n",
    "              products=['ls8_usgs_sr_scene'],\n",
    "              output_crs=output_crs,\n",
    "              align=(15, 15),\n",
    "              **query)\n",
    "\n",
    "# Print output data\n",
    "print(ds)\n"
   ]
  },
  {
   "cell_type": "markdown",
   "metadata": {},
   "source": [
    "## Plot timesteps in true colour\n",
    "\n",
    "To visualise the data, use the pre-loaded `rgb` utility function to plot a true colour image for a series of timesteps. \n",
    "White areas indicate where clouds or other invalid pixels in the image have been masked.\n",
    "\n",
    "The code below will plot four timesteps of the time series we just loaded."
   ]
  },
  {
   "cell_type": "code",
   "execution_count": null,
   "metadata": {},
   "outputs": [],
   "source": [
    "# Set the timesteps to visualise\n",
    "timesteps = [1, 2, -3, -1]\n",
    "\n",
    "# Generate RGB plots at each timestep\n",
    "rgb(ds, index=timesteps)"
   ]
  },
  {
   "cell_type": "markdown",
   "metadata": {},
   "source": [
    "## Median composites\n",
    "\n",
    "One of the key reasons for generating a composite is to replace pixels classified as clouds with realistic values from the available data. \n",
    "This results in an image that doesn't contain any clouds.\n",
    "\n",
    "Care should be taken when using these composites for analysis, since the relationships between spectral bands are not preserved.\n",
    "These composites are also affected by the timespan they're generated for.\n",
    "For example, the median pixel in a single season may be different to the median value for the whole year."
   ]
  },
  {
   "cell_type": "markdown",
   "metadata": {},
   "source": [
    "### Generating a single composite from all data\n",
    "\n",
    "To generate a single median composite, we use the `xarray.median` method, specifying `'time'` as the dimension to compute the median over."
   ]
  },
  {
   "cell_type": "code",
   "execution_count": null,
   "metadata": {},
   "outputs": [],
   "source": [
    "# Compute a single median from all data\n",
    "ds_median = ds.median('time')\n",
    "\n",
    "# View the resulting median\n",
    "rgb(ds_median, bands=['red', 'green', 'blue'])"
   ]
  },
  {
   "cell_type": "markdown",
   "metadata": {},
   "source": [
    "### Generating multiple composites based on length of time\n",
    "Rather than using all the data to generate a single median composite, it's possible to use the `xarray.resample` method to group the data into smaller time-spans and generate medians for each of these.\n",
    "Some resampling options are\n",
    "* `'nD'` - number of days (e.g. `'7D'` for seven days)\n",
    "* `'nM'` - number of months (e.g. `'6M'` for six months)\n",
    "* `'nY'` - number of years (e.g. `'2Y'` for two years)\n",
    "\n",
    "If the area is particularly cloudy during one of the time-spans, there may still be masked pixels that appear in the median.\n",
    "This will be true if that pixel is always masked."
   ]
  },
  {
   "cell_type": "code",
   "execution_count": null,
   "metadata": {},
   "outputs": [],
   "source": [
    "# Generate a median by binning data into six-monthly time-spans\n",
    "ds_resampled_median = ds.resample(time='6M').median('time')\n",
    "\n",
    "# View the resulting medians\n",
    "rgb(ds_resampled_median, bands=['red', 'green', 'blue'], col='time')"
   ]
  },
  {
   "cell_type": "markdown",
   "metadata": {},
   "source": [
    "## Minimum and maximum composites\n",
    "\n",
    "These composites can be useful for identifying extreme behaviour in a collection of satellite images.\n",
    "\n",
    "For example, comparing the maximum and minimum composites for a given band index could help identify areas that take on a wide range of values, which may indicate areas that have high variability over the time-line of the composite.\n",
    "\n",
    "To demonstrate this, we start by calculating the normalised difference vegetation index (NDVI) for our data, which can then be used to generate the maximum and minimum composites."
   ]
  },
  {
   "cell_type": "code",
   "execution_count": null,
   "metadata": {},
   "outputs": [],
   "source": [
    "# Start by calculating NDVI\n",
    "ds = calculate_indices(ds, index='NDVI', collection='c1')"
   ]
  },
  {
   "cell_type": "markdown",
   "metadata": {},
   "source": [
    "### Maximum composite\n",
    "\n",
    "To generate a single maximum composite, we use the `xarray.max` method, specifying `'time'` as the dimension to compute the maximum over."
   ]
  },
  {
   "cell_type": "code",
   "execution_count": null,
   "metadata": {},
   "outputs": [],
   "source": [
    "# Compute the maximum composite\n",
    "ds_max = ds.NDVI.max('time')\n",
    "\n",
    "# View the resulting composite\n",
    "ds_max.plot(vmin=-1, vmax=1, cmap='RdYlGn')"
   ]
  },
  {
   "cell_type": "markdown",
   "metadata": {},
   "source": [
    "### Minimum composite\n",
    "\n",
    "To generate a single minimum composite, we use the `xarray.min` method, specifying `'time'` as the dimension to compute the minimum over."
   ]
  },
  {
   "cell_type": "code",
   "execution_count": null,
   "metadata": {},
   "outputs": [],
   "source": [
    "# Compute the minimum composite\n",
    "ds_min = ds.NDVI.min('time')\n",
    "\n",
    "# View the resulting composite\n",
    "ds_min.plot(vmin=-1, vmax=1, cmap='RdYlGn')"
   ]
  },
  {
   "cell_type": "markdown",
   "metadata": {},
   "source": [
    "***\n",
    "\n",
    "## Additional information\n",
    "\n",
    "**License:** The code in this notebook is licensed under the [Apache License, Version 2.0](https://www.apache.org/licenses/LICENSE-2.0). \n",
    "Digital Earth Africa data is licensed under the [Creative Commons by Attribution 4.0](https://creativecommons.org/licenses/by/4.0/) license.\n",
    "\n",
    "**Contact:** If you need assistance, please post a question on the [Open Data Cube Slack channel](http://slack.opendatacube.org/) or on the [GIS Stack Exchange](https://gis.stackexchange.com/questions/ask?tags=open-data-cube) using the `open-data-cube` tag (you can view previously asked questions [here](https://gis.stackexchange.com/questions/tagged/open-data-cube)).\n",
    "If you would like to report an issue with this notebook, you can file one on [Github](https://github.com/digitalearthafrica/deafrica-sandbox-notebooks).\n",
    "\n",
    "**Last modified:** April 2020\n",
    "\n",
    "**Compatible datacube version:** "
   ]
  },
  {
   "cell_type": "code",
   "execution_count": null,
   "metadata": {},
   "outputs": [],
   "source": [
    "print(datacube.__version__)"
   ]
  },
  {
   "cell_type": "markdown",
   "metadata": {},
   "source": [
    "## Tags\n",
    "Browse all available tags on the DE Africa User Guide's [Tags Index](https://) (placeholder as this does not exist yet)"
   ]
  },
  {
   "cell_type": "raw",
   "metadata": {
    "raw_mimetype": "text/restructuredtext"
   },
   "source": [
    "**Tags**:  :index:`landsat 8`, :index:`deafrica_plotting`, :index:`rgb`, :index:`NDVI`, :index:`time series`"
   ]
  }
 ],
 "metadata": {
  "kernelspec": {
   "display_name": "Python 3",
   "language": "python",
   "name": "python3"
  },
  "language_info": {
   "codemirror_mode": {
    "name": "ipython",
    "version": 3
   },
   "file_extension": ".py",
   "mimetype": "text/x-python",
   "name": "python",
   "nbconvert_exporter": "python",
   "pygments_lexer": "ipython3",
   "version": "3.6.9"
  },
  "widgets": {
   "application/vnd.jupyter.widget-state+json": {
    "state": {},
    "version_major": 2,
    "version_minor": 0
   }
  }
 },
 "nbformat": 4,
 "nbformat_minor": 4
}
